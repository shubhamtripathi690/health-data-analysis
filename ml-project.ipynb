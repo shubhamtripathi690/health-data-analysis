{
 "cells": [
  {
   "cell_type": "markdown",
   "id": "de43fc1b",
   "metadata": {},
   "source": [
    "# Imporitng Libraries"
   ]
  },
  {
   "cell_type": "code",
   "execution_count": 1,
   "id": "b23104f1",
   "metadata": {},
   "outputs": [],
   "source": [
    "import numpy as np\n",
    "import pandas as pd \n",
    "import matplotlib.pyplot as plt\n",
    "%matplotlib inline\n",
    "import seaborn as sns"
   ]
  },
  {
   "cell_type": "code",
   "execution_count": 140,
   "id": "150a2dc6",
   "metadata": {},
   "outputs": [
    {
     "data": {
      "text/html": [
       "<div>\n",
       "<style scoped>\n",
       "    .dataframe tbody tr th:only-of-type {\n",
       "        vertical-align: middle;\n",
       "    }\n",
       "\n",
       "    .dataframe tbody tr th {\n",
       "        vertical-align: top;\n",
       "    }\n",
       "\n",
       "    .dataframe thead th {\n",
       "        text-align: right;\n",
       "    }\n",
       "</style>\n",
       "<table border=\"1\" class=\"dataframe\">\n",
       "  <thead>\n",
       "    <tr style=\"text-align: right;\">\n",
       "      <th></th>\n",
       "      <th>Unnamed: 0</th>\n",
       "      <th>Status</th>\n",
       "      <th>Life expectancy</th>\n",
       "      <th>Adult Mortality</th>\n",
       "      <th>BMI</th>\n",
       "      <th>HIV/AIDS</th>\n",
       "      <th>Diphtheria</th>\n",
       "      <th>Polio</th>\n",
       "      <th>GDP</th>\n",
       "      <th>Income composition of resources</th>\n",
       "      <th>Schooling</th>\n",
       "      <th>binary_life_expectancy</th>\n",
       "    </tr>\n",
       "  </thead>\n",
       "  <tbody>\n",
       "    <tr>\n",
       "      <th>0</th>\n",
       "      <td>2152</td>\n",
       "      <td>0</td>\n",
       "      <td>65.7</td>\n",
       "      <td>23.0</td>\n",
       "      <td>2.8</td>\n",
       "      <td>0.4</td>\n",
       "      <td>98.0</td>\n",
       "      <td>98.0</td>\n",
       "      <td>76.569952</td>\n",
       "      <td>0.488</td>\n",
       "      <td>10.8</td>\n",
       "      <td>1.0</td>\n",
       "    </tr>\n",
       "    <tr>\n",
       "      <th>1</th>\n",
       "      <td>1406</td>\n",
       "      <td>0</td>\n",
       "      <td>73.4</td>\n",
       "      <td>93.0</td>\n",
       "      <td>65.5</td>\n",
       "      <td>0.1</td>\n",
       "      <td>99.0</td>\n",
       "      <td>99.0</td>\n",
       "      <td>2271.569610</td>\n",
       "      <td>0.788</td>\n",
       "      <td>14.1</td>\n",
       "      <td>1.0</td>\n",
       "    </tr>\n",
       "    <tr>\n",
       "      <th>2</th>\n",
       "      <td>659</td>\n",
       "      <td>0</td>\n",
       "      <td>78.7</td>\n",
       "      <td>96.0</td>\n",
       "      <td>59.9</td>\n",
       "      <td>0.1</td>\n",
       "      <td>99.0</td>\n",
       "      <td>99.0</td>\n",
       "      <td>676.153440</td>\n",
       "      <td>0.773</td>\n",
       "      <td>14.7</td>\n",
       "      <td>1.0</td>\n",
       "    </tr>\n",
       "    <tr>\n",
       "      <th>3</th>\n",
       "      <td>2032</td>\n",
       "      <td>0</td>\n",
       "      <td>67.3</td>\n",
       "      <td>219.0</td>\n",
       "      <td>2.6</td>\n",
       "      <td>0.1</td>\n",
       "      <td>88.0</td>\n",
       "      <td>88.0</td>\n",
       "      <td>1391.772325</td>\n",
       "      <td>0.646</td>\n",
       "      <td>11.5</td>\n",
       "      <td>1.0</td>\n",
       "    </tr>\n",
       "    <tr>\n",
       "      <th>4</th>\n",
       "      <td>44</td>\n",
       "      <td>0</td>\n",
       "      <td>71.7</td>\n",
       "      <td>146.0</td>\n",
       "      <td>47.0</td>\n",
       "      <td>0.1</td>\n",
       "      <td>87.0</td>\n",
       "      <td>87.0</td>\n",
       "      <td>294.335560</td>\n",
       "      <td>0.663</td>\n",
       "      <td>11.5</td>\n",
       "      <td>1.0</td>\n",
       "    </tr>\n",
       "    <tr>\n",
       "      <th>...</th>\n",
       "      <td>...</td>\n",
       "      <td>...</td>\n",
       "      <td>...</td>\n",
       "      <td>...</td>\n",
       "      <td>...</td>\n",
       "      <td>...</td>\n",
       "      <td>...</td>\n",
       "      <td>...</td>\n",
       "      <td>...</td>\n",
       "      <td>...</td>\n",
       "      <td>...</td>\n",
       "      <td>...</td>\n",
       "    </tr>\n",
       "    <tr>\n",
       "      <th>1759</th>\n",
       "      <td>32</td>\n",
       "      <td>0</td>\n",
       "      <td>75.6</td>\n",
       "      <td>19.0</td>\n",
       "      <td>59.5</td>\n",
       "      <td>0.1</td>\n",
       "      <td>95.0</td>\n",
       "      <td>95.0</td>\n",
       "      <td>4132.762920</td>\n",
       "      <td>0.743</td>\n",
       "      <td>14.4</td>\n",
       "      <td>1.0</td>\n",
       "    </tr>\n",
       "    <tr>\n",
       "      <th>1760</th>\n",
       "      <td>1612</td>\n",
       "      <td>0</td>\n",
       "      <td>74.3</td>\n",
       "      <td>93.0</td>\n",
       "      <td>18.0</td>\n",
       "      <td>0.1</td>\n",
       "      <td>98.0</td>\n",
       "      <td>98.0</td>\n",
       "      <td>3488.493769</td>\n",
       "      <td>0.625</td>\n",
       "      <td>12.1</td>\n",
       "      <td>1.0</td>\n",
       "    </tr>\n",
       "    <tr>\n",
       "      <th>1761</th>\n",
       "      <td>1818</td>\n",
       "      <td>0</td>\n",
       "      <td>68.0</td>\n",
       "      <td>178.0</td>\n",
       "      <td>16.4</td>\n",
       "      <td>0.2</td>\n",
       "      <td>82.0</td>\n",
       "      <td>83.0</td>\n",
       "      <td>592.183522</td>\n",
       "      <td>0.515</td>\n",
       "      <td>11.1</td>\n",
       "      <td>1.0</td>\n",
       "    </tr>\n",
       "    <tr>\n",
       "      <th>1762</th>\n",
       "      <td>1455</td>\n",
       "      <td>1</td>\n",
       "      <td>73.0</td>\n",
       "      <td>219.0</td>\n",
       "      <td>56.0</td>\n",
       "      <td>0.1</td>\n",
       "      <td>97.0</td>\n",
       "      <td>98.0</td>\n",
       "      <td>4132.349270</td>\n",
       "      <td>0.746</td>\n",
       "      <td>14.8</td>\n",
       "      <td>1.0</td>\n",
       "    </tr>\n",
       "    <tr>\n",
       "      <th>1763</th>\n",
       "      <td>494</td>\n",
       "      <td>0</td>\n",
       "      <td>51.5</td>\n",
       "      <td>41.0</td>\n",
       "      <td>21.3</td>\n",
       "      <td>7.9</td>\n",
       "      <td>63.0</td>\n",
       "      <td>61.0</td>\n",
       "      <td>614.672934</td>\n",
       "      <td>0.437</td>\n",
       "      <td>7.1</td>\n",
       "      <td>0.0</td>\n",
       "    </tr>\n",
       "  </tbody>\n",
       "</table>\n",
       "<p>1764 rows × 12 columns</p>\n",
       "</div>"
      ],
      "text/plain": [
       "      Unnamed: 0  Status  Life expectancy  Adult Mortality   BMI  HIV/AIDS  \\\n",
       "0           2152       0             65.7             23.0   2.8       0.4   \n",
       "1           1406       0             73.4             93.0  65.5       0.1   \n",
       "2            659       0             78.7             96.0  59.9       0.1   \n",
       "3           2032       0             67.3            219.0   2.6       0.1   \n",
       "4             44       0             71.7            146.0  47.0       0.1   \n",
       "...          ...     ...              ...              ...   ...       ...   \n",
       "1759          32       0             75.6             19.0  59.5       0.1   \n",
       "1760        1612       0             74.3             93.0  18.0       0.1   \n",
       "1761        1818       0             68.0            178.0  16.4       0.2   \n",
       "1762        1455       1             73.0            219.0  56.0       0.1   \n",
       "1763         494       0             51.5             41.0  21.3       7.9   \n",
       "\n",
       "      Diphtheria  Polio          GDP  Income composition of resources  \\\n",
       "0           98.0   98.0    76.569952                            0.488   \n",
       "1           99.0   99.0  2271.569610                            0.788   \n",
       "2           99.0   99.0   676.153440                            0.773   \n",
       "3           88.0   88.0  1391.772325                            0.646   \n",
       "4           87.0   87.0   294.335560                            0.663   \n",
       "...          ...    ...          ...                              ...   \n",
       "1759        95.0   95.0  4132.762920                            0.743   \n",
       "1760        98.0   98.0  3488.493769                            0.625   \n",
       "1761        82.0   83.0   592.183522                            0.515   \n",
       "1762        97.0   98.0  4132.349270                            0.746   \n",
       "1763        63.0   61.0   614.672934                            0.437   \n",
       "\n",
       "      Schooling  binary_life_expectancy  \n",
       "0          10.8                     1.0  \n",
       "1          14.1                     1.0  \n",
       "2          14.7                     1.0  \n",
       "3          11.5                     1.0  \n",
       "4          11.5                     1.0  \n",
       "...         ...                     ...  \n",
       "1759       14.4                     1.0  \n",
       "1760       12.1                     1.0  \n",
       "1761       11.1                     1.0  \n",
       "1762       14.8                     1.0  \n",
       "1763        7.1                     0.0  \n",
       "\n",
       "[1764 rows x 12 columns]"
      ]
     },
     "execution_count": 140,
     "metadata": {},
     "output_type": "execute_result"
    }
   ],
   "source": [
    "df"
   ]
  },
  {
   "cell_type": "code",
   "execution_count": 2,
   "id": "e8407a57",
   "metadata": {},
   "outputs": [],
   "source": [
    "#Importing Dataset\n",
    "df=pd.read_csv(\"prep0122284_train.csv\")"
   ]
  },
  {
   "cell_type": "markdown",
   "id": "820c7e2b",
   "metadata": {},
   "source": [
    "# EDA"
   ]
  },
  {
   "cell_type": "code",
   "execution_count": 3,
   "id": "abb97d10",
   "metadata": {},
   "outputs": [
    {
     "data": {
      "text/html": [
       "<div>\n",
       "<style scoped>\n",
       "    .dataframe tbody tr th:only-of-type {\n",
       "        vertical-align: middle;\n",
       "    }\n",
       "\n",
       "    .dataframe tbody tr th {\n",
       "        vertical-align: top;\n",
       "    }\n",
       "\n",
       "    .dataframe thead th {\n",
       "        text-align: right;\n",
       "    }\n",
       "</style>\n",
       "<table border=\"1\" class=\"dataframe\">\n",
       "  <thead>\n",
       "    <tr style=\"text-align: right;\">\n",
       "      <th></th>\n",
       "      <th>Unnamed: 0</th>\n",
       "      <th>Status</th>\n",
       "      <th>Life expectancy</th>\n",
       "      <th>Adult Mortality</th>\n",
       "      <th>BMI</th>\n",
       "      <th>HIV/AIDS</th>\n",
       "      <th>Diphtheria</th>\n",
       "      <th>Polio</th>\n",
       "      <th>GDP</th>\n",
       "      <th>Income composition of resources</th>\n",
       "      <th>Schooling</th>\n",
       "    </tr>\n",
       "  </thead>\n",
       "  <tbody>\n",
       "    <tr>\n",
       "      <th>0</th>\n",
       "      <td>2152</td>\n",
       "      <td>Developing</td>\n",
       "      <td>65.7</td>\n",
       "      <td>23.0</td>\n",
       "      <td>2.8</td>\n",
       "      <td>0.4</td>\n",
       "      <td>98.0</td>\n",
       "      <td>98.0</td>\n",
       "      <td>76.569952</td>\n",
       "      <td>0.488</td>\n",
       "      <td>10.8</td>\n",
       "    </tr>\n",
       "    <tr>\n",
       "      <th>1</th>\n",
       "      <td>1406</td>\n",
       "      <td>Developing</td>\n",
       "      <td>73.4</td>\n",
       "      <td>93.0</td>\n",
       "      <td>65.5</td>\n",
       "      <td>0.1</td>\n",
       "      <td>99.0</td>\n",
       "      <td>99.0</td>\n",
       "      <td>2271.569610</td>\n",
       "      <td>0.788</td>\n",
       "      <td>14.1</td>\n",
       "    </tr>\n",
       "    <tr>\n",
       "      <th>2</th>\n",
       "      <td>659</td>\n",
       "      <td>Developing</td>\n",
       "      <td>78.7</td>\n",
       "      <td>96.0</td>\n",
       "      <td>59.9</td>\n",
       "      <td>0.1</td>\n",
       "      <td>99.0</td>\n",
       "      <td>99.0</td>\n",
       "      <td>676.153440</td>\n",
       "      <td>0.773</td>\n",
       "      <td>14.7</td>\n",
       "    </tr>\n",
       "    <tr>\n",
       "      <th>3</th>\n",
       "      <td>2032</td>\n",
       "      <td>Developing</td>\n",
       "      <td>67.3</td>\n",
       "      <td>219.0</td>\n",
       "      <td>2.6</td>\n",
       "      <td>0.1</td>\n",
       "      <td>88.0</td>\n",
       "      <td>88.0</td>\n",
       "      <td>1391.772325</td>\n",
       "      <td>0.646</td>\n",
       "      <td>11.5</td>\n",
       "    </tr>\n",
       "    <tr>\n",
       "      <th>4</th>\n",
       "      <td>44</td>\n",
       "      <td>Developing</td>\n",
       "      <td>71.7</td>\n",
       "      <td>146.0</td>\n",
       "      <td>47.0</td>\n",
       "      <td>0.1</td>\n",
       "      <td>87.0</td>\n",
       "      <td>87.0</td>\n",
       "      <td>294.335560</td>\n",
       "      <td>0.663</td>\n",
       "      <td>11.5</td>\n",
       "    </tr>\n",
       "  </tbody>\n",
       "</table>\n",
       "</div>"
      ],
      "text/plain": [
       "   Unnamed: 0      Status  Life expectancy  Adult Mortality   BMI  HIV/AIDS  \\\n",
       "0        2152  Developing             65.7             23.0   2.8       0.4   \n",
       "1        1406  Developing             73.4             93.0  65.5       0.1   \n",
       "2         659  Developing             78.7             96.0  59.9       0.1   \n",
       "3        2032  Developing             67.3            219.0   2.6       0.1   \n",
       "4          44  Developing             71.7            146.0  47.0       0.1   \n",
       "\n",
       "   Diphtheria  Polio          GDP  Income composition of resources  Schooling  \n",
       "0        98.0   98.0    76.569952                            0.488       10.8  \n",
       "1        99.0   99.0  2271.569610                            0.788       14.1  \n",
       "2        99.0   99.0   676.153440                            0.773       14.7  \n",
       "3        88.0   88.0  1391.772325                            0.646       11.5  \n",
       "4        87.0   87.0   294.335560                            0.663       11.5  "
      ]
     },
     "execution_count": 3,
     "metadata": {},
     "output_type": "execute_result"
    }
   ],
   "source": [
    "df.head()"
   ]
  },
  {
   "cell_type": "code",
   "execution_count": 4,
   "id": "9e75b284",
   "metadata": {},
   "outputs": [
    {
     "name": "stdout",
     "output_type": "stream",
     "text": [
      "<class 'pandas.core.frame.DataFrame'>\n",
      "RangeIndex: 1764 entries, 0 to 1763\n",
      "Data columns (total 11 columns):\n",
      " #   Column                           Non-Null Count  Dtype  \n",
      "---  ------                           --------------  -----  \n",
      " 0   Unnamed: 0                       1764 non-null   int64  \n",
      " 1   Status                           1764 non-null   object \n",
      " 2   Life expectancy                  1764 non-null   float64\n",
      " 3   Adult Mortality                  1764 non-null   float64\n",
      " 4   BMI                              1764 non-null   float64\n",
      " 5   HIV/AIDS                         1764 non-null   float64\n",
      " 6   Diphtheria                       1764 non-null   float64\n",
      " 7   Polio                            1764 non-null   float64\n",
      " 8   GDP                              1764 non-null   float64\n",
      " 9   Income composition of resources  1764 non-null   float64\n",
      " 10  Schooling                        1764 non-null   float64\n",
      "dtypes: float64(9), int64(1), object(1)\n",
      "memory usage: 151.7+ KB\n"
     ]
    }
   ],
   "source": [
    "#information about the data\n",
    "df.info()"
   ]
  },
  {
   "cell_type": "code",
   "execution_count": 5,
   "id": "d1bd3ae6",
   "metadata": {},
   "outputs": [
    {
     "data": {
      "text/html": [
       "<div>\n",
       "<style scoped>\n",
       "    .dataframe tbody tr th:only-of-type {\n",
       "        vertical-align: middle;\n",
       "    }\n",
       "\n",
       "    .dataframe tbody tr th {\n",
       "        vertical-align: top;\n",
       "    }\n",
       "\n",
       "    .dataframe thead th {\n",
       "        text-align: right;\n",
       "    }\n",
       "</style>\n",
       "<table border=\"1\" class=\"dataframe\">\n",
       "  <thead>\n",
       "    <tr style=\"text-align: right;\">\n",
       "      <th></th>\n",
       "      <th>Unnamed: 0</th>\n",
       "      <th>Life expectancy</th>\n",
       "      <th>Adult Mortality</th>\n",
       "      <th>BMI</th>\n",
       "      <th>HIV/AIDS</th>\n",
       "      <th>Diphtheria</th>\n",
       "      <th>Polio</th>\n",
       "      <th>GDP</th>\n",
       "      <th>Income composition of resources</th>\n",
       "      <th>Schooling</th>\n",
       "    </tr>\n",
       "  </thead>\n",
       "  <tbody>\n",
       "    <tr>\n",
       "      <th>count</th>\n",
       "      <td>1764.000000</td>\n",
       "      <td>1764.000000</td>\n",
       "      <td>1764.000000</td>\n",
       "      <td>1764.000000</td>\n",
       "      <td>1764.000000</td>\n",
       "      <td>1764.000000</td>\n",
       "      <td>1764.000000</td>\n",
       "      <td>1764.000000</td>\n",
       "      <td>1764.000000</td>\n",
       "      <td>1764.00000</td>\n",
       "    </tr>\n",
       "    <tr>\n",
       "      <th>mean</th>\n",
       "      <td>1413.162698</td>\n",
       "      <td>69.513435</td>\n",
       "      <td>158.303855</td>\n",
       "      <td>38.466893</td>\n",
       "      <td>1.908163</td>\n",
       "      <td>82.703515</td>\n",
       "      <td>82.722789</td>\n",
       "      <td>7699.372726</td>\n",
       "      <td>0.635489</td>\n",
       "      <td>12.19195</td>\n",
       "    </tr>\n",
       "    <tr>\n",
       "      <th>std</th>\n",
       "      <td>836.015817</td>\n",
       "      <td>9.706476</td>\n",
       "      <td>126.288933</td>\n",
       "      <td>19.834082</td>\n",
       "      <td>5.697937</td>\n",
       "      <td>23.483475</td>\n",
       "      <td>23.212567</td>\n",
       "      <td>14675.740477</td>\n",
       "      <td>0.211349</td>\n",
       "      <td>3.30878</td>\n",
       "    </tr>\n",
       "    <tr>\n",
       "      <th>min</th>\n",
       "      <td>1.000000</td>\n",
       "      <td>39.000000</td>\n",
       "      <td>1.000000</td>\n",
       "      <td>1.400000</td>\n",
       "      <td>0.100000</td>\n",
       "      <td>2.000000</td>\n",
       "      <td>3.000000</td>\n",
       "      <td>1.681350</td>\n",
       "      <td>0.000000</td>\n",
       "      <td>0.00000</td>\n",
       "    </tr>\n",
       "    <tr>\n",
       "      <th>25%</th>\n",
       "      <td>674.500000</td>\n",
       "      <td>63.800000</td>\n",
       "      <td>69.000000</td>\n",
       "      <td>19.475000</td>\n",
       "      <td>0.100000</td>\n",
       "      <td>79.000000</td>\n",
       "      <td>78.000000</td>\n",
       "      <td>458.779560</td>\n",
       "      <td>0.497000</td>\n",
       "      <td>10.20000</td>\n",
       "    </tr>\n",
       "    <tr>\n",
       "      <th>50%</th>\n",
       "      <td>1396.500000</td>\n",
       "      <td>72.500000</td>\n",
       "      <td>134.000000</td>\n",
       "      <td>43.200000</td>\n",
       "      <td>0.100000</td>\n",
       "      <td>93.000000</td>\n",
       "      <td>93.000000</td>\n",
       "      <td>1774.632915</td>\n",
       "      <td>0.686500</td>\n",
       "      <td>12.50000</td>\n",
       "    </tr>\n",
       "    <tr>\n",
       "      <th>75%</th>\n",
       "      <td>2077.500000</td>\n",
       "      <td>76.000000</td>\n",
       "      <td>219.000000</td>\n",
       "      <td>56.225000</td>\n",
       "      <td>0.800000</td>\n",
       "      <td>97.000000</td>\n",
       "      <td>97.000000</td>\n",
       "      <td>5921.874154</td>\n",
       "      <td>0.789000</td>\n",
       "      <td>14.50000</td>\n",
       "    </tr>\n",
       "    <tr>\n",
       "      <th>max</th>\n",
       "      <td>2937.000000</td>\n",
       "      <td>89.000000</td>\n",
       "      <td>723.000000</td>\n",
       "      <td>77.600000</td>\n",
       "      <td>50.600000</td>\n",
       "      <td>99.000000</td>\n",
       "      <td>99.000000</td>\n",
       "      <td>119172.741800</td>\n",
       "      <td>0.948000</td>\n",
       "      <td>20.70000</td>\n",
       "    </tr>\n",
       "  </tbody>\n",
       "</table>\n",
       "</div>"
      ],
      "text/plain": [
       "        Unnamed: 0  Life expectancy  Adult Mortality          BMI  \\\n",
       "count  1764.000000      1764.000000      1764.000000  1764.000000   \n",
       "mean   1413.162698        69.513435       158.303855    38.466893   \n",
       "std     836.015817         9.706476       126.288933    19.834082   \n",
       "min       1.000000        39.000000         1.000000     1.400000   \n",
       "25%     674.500000        63.800000        69.000000    19.475000   \n",
       "50%    1396.500000        72.500000       134.000000    43.200000   \n",
       "75%    2077.500000        76.000000       219.000000    56.225000   \n",
       "max    2937.000000        89.000000       723.000000    77.600000   \n",
       "\n",
       "          HIV/AIDS   Diphtheria        Polio            GDP  \\\n",
       "count  1764.000000  1764.000000  1764.000000    1764.000000   \n",
       "mean      1.908163    82.703515    82.722789    7699.372726   \n",
       "std       5.697937    23.483475    23.212567   14675.740477   \n",
       "min       0.100000     2.000000     3.000000       1.681350   \n",
       "25%       0.100000    79.000000    78.000000     458.779560   \n",
       "50%       0.100000    93.000000    93.000000    1774.632915   \n",
       "75%       0.800000    97.000000    97.000000    5921.874154   \n",
       "max      50.600000    99.000000    99.000000  119172.741800   \n",
       "\n",
       "       Income composition of resources   Schooling  \n",
       "count                      1764.000000  1764.00000  \n",
       "mean                          0.635489    12.19195  \n",
       "std                           0.211349     3.30878  \n",
       "min                           0.000000     0.00000  \n",
       "25%                           0.497000    10.20000  \n",
       "50%                           0.686500    12.50000  \n",
       "75%                           0.789000    14.50000  \n",
       "max                           0.948000    20.70000  "
      ]
     },
     "execution_count": 5,
     "metadata": {},
     "output_type": "execute_result"
    }
   ],
   "source": [
    "df.describe()"
   ]
  },
  {
   "cell_type": "code",
   "execution_count": 6,
   "id": "1f202a15",
   "metadata": {},
   "outputs": [
    {
     "data": {
      "text/html": [
       "<div>\n",
       "<style scoped>\n",
       "    .dataframe tbody tr th:only-of-type {\n",
       "        vertical-align: middle;\n",
       "    }\n",
       "\n",
       "    .dataframe tbody tr th {\n",
       "        vertical-align: top;\n",
       "    }\n",
       "\n",
       "    .dataframe thead th {\n",
       "        text-align: right;\n",
       "    }\n",
       "</style>\n",
       "<table border=\"1\" class=\"dataframe\">\n",
       "  <thead>\n",
       "    <tr style=\"text-align: right;\">\n",
       "      <th></th>\n",
       "      <th>Unnamed: 0</th>\n",
       "      <th>Status</th>\n",
       "      <th>Life expectancy</th>\n",
       "      <th>Adult Mortality</th>\n",
       "      <th>BMI</th>\n",
       "      <th>HIV/AIDS</th>\n",
       "      <th>Diphtheria</th>\n",
       "      <th>Polio</th>\n",
       "      <th>GDP</th>\n",
       "      <th>Income composition of resources</th>\n",
       "      <th>Schooling</th>\n",
       "    </tr>\n",
       "  </thead>\n",
       "  <tbody>\n",
       "    <tr>\n",
       "      <th>0</th>\n",
       "      <td>2152</td>\n",
       "      <td>Developing</td>\n",
       "      <td>65.7</td>\n",
       "      <td>23.0</td>\n",
       "      <td>2.8</td>\n",
       "      <td>0.4</td>\n",
       "      <td>98.0</td>\n",
       "      <td>98.0</td>\n",
       "      <td>76.569952</td>\n",
       "      <td>0.488</td>\n",
       "      <td>10.8</td>\n",
       "    </tr>\n",
       "    <tr>\n",
       "      <th>1</th>\n",
       "      <td>1406</td>\n",
       "      <td>Developing</td>\n",
       "      <td>73.4</td>\n",
       "      <td>93.0</td>\n",
       "      <td>65.5</td>\n",
       "      <td>0.1</td>\n",
       "      <td>99.0</td>\n",
       "      <td>99.0</td>\n",
       "      <td>2271.569610</td>\n",
       "      <td>0.788</td>\n",
       "      <td>14.1</td>\n",
       "    </tr>\n",
       "    <tr>\n",
       "      <th>2</th>\n",
       "      <td>659</td>\n",
       "      <td>Developing</td>\n",
       "      <td>78.7</td>\n",
       "      <td>96.0</td>\n",
       "      <td>59.9</td>\n",
       "      <td>0.1</td>\n",
       "      <td>99.0</td>\n",
       "      <td>99.0</td>\n",
       "      <td>676.153440</td>\n",
       "      <td>0.773</td>\n",
       "      <td>14.7</td>\n",
       "    </tr>\n",
       "    <tr>\n",
       "      <th>3</th>\n",
       "      <td>2032</td>\n",
       "      <td>Developing</td>\n",
       "      <td>67.3</td>\n",
       "      <td>219.0</td>\n",
       "      <td>2.6</td>\n",
       "      <td>0.1</td>\n",
       "      <td>88.0</td>\n",
       "      <td>88.0</td>\n",
       "      <td>1391.772325</td>\n",
       "      <td>0.646</td>\n",
       "      <td>11.5</td>\n",
       "    </tr>\n",
       "    <tr>\n",
       "      <th>4</th>\n",
       "      <td>44</td>\n",
       "      <td>Developing</td>\n",
       "      <td>71.7</td>\n",
       "      <td>146.0</td>\n",
       "      <td>47.0</td>\n",
       "      <td>0.1</td>\n",
       "      <td>87.0</td>\n",
       "      <td>87.0</td>\n",
       "      <td>294.335560</td>\n",
       "      <td>0.663</td>\n",
       "      <td>11.5</td>\n",
       "    </tr>\n",
       "  </tbody>\n",
       "</table>\n",
       "</div>"
      ],
      "text/plain": [
       "   Unnamed: 0      Status  Life expectancy  Adult Mortality   BMI  HIV/AIDS  \\\n",
       "0        2152  Developing             65.7             23.0   2.8       0.4   \n",
       "1        1406  Developing             73.4             93.0  65.5       0.1   \n",
       "2         659  Developing             78.7             96.0  59.9       0.1   \n",
       "3        2032  Developing             67.3            219.0   2.6       0.1   \n",
       "4          44  Developing             71.7            146.0  47.0       0.1   \n",
       "\n",
       "   Diphtheria  Polio          GDP  Income composition of resources  Schooling  \n",
       "0        98.0   98.0    76.569952                            0.488       10.8  \n",
       "1        99.0   99.0  2271.569610                            0.788       14.1  \n",
       "2        99.0   99.0   676.153440                            0.773       14.7  \n",
       "3        88.0   88.0  1391.772325                            0.646       11.5  \n",
       "4        87.0   87.0   294.335560                            0.663       11.5  "
      ]
     },
     "execution_count": 6,
     "metadata": {},
     "output_type": "execute_result"
    }
   ],
   "source": [
    "df.head()"
   ]
  },
  {
   "cell_type": "code",
   "execution_count": 7,
   "id": "a785f4b3",
   "metadata": {},
   "outputs": [
    {
     "data": {
      "text/plain": [
       "['Unnamed: 0',\n",
       " 'Status',\n",
       " 'Life expectancy',\n",
       " 'Adult Mortality',\n",
       " 'BMI',\n",
       " 'HIV/AIDS',\n",
       " 'Diphtheria',\n",
       " 'Polio',\n",
       " 'GDP',\n",
       " 'Income composition of resources',\n",
       " 'Schooling']"
      ]
     },
     "execution_count": 7,
     "metadata": {},
     "output_type": "execute_result"
    }
   ],
   "source": [
    "list(df.columns)"
   ]
  },
  {
   "cell_type": "code",
   "execution_count": 8,
   "id": "fae1191d",
   "metadata": {},
   "outputs": [
    {
     "data": {
      "text/html": [
       "<div>\n",
       "<style scoped>\n",
       "    .dataframe tbody tr th:only-of-type {\n",
       "        vertical-align: middle;\n",
       "    }\n",
       "\n",
       "    .dataframe tbody tr th {\n",
       "        vertical-align: top;\n",
       "    }\n",
       "\n",
       "    .dataframe thead th {\n",
       "        text-align: right;\n",
       "    }\n",
       "</style>\n",
       "<table border=\"1\" class=\"dataframe\">\n",
       "  <thead>\n",
       "    <tr style=\"text-align: right;\">\n",
       "      <th></th>\n",
       "      <th>Unnamed: 0</th>\n",
       "      <th>Life expectancy</th>\n",
       "      <th>Adult Mortality</th>\n",
       "      <th>BMI</th>\n",
       "      <th>HIV/AIDS</th>\n",
       "      <th>Diphtheria</th>\n",
       "      <th>Polio</th>\n",
       "      <th>GDP</th>\n",
       "      <th>Income composition of resources</th>\n",
       "      <th>Schooling</th>\n",
       "    </tr>\n",
       "  </thead>\n",
       "  <tbody>\n",
       "    <tr>\n",
       "      <th>Unnamed: 0</th>\n",
       "      <td>1.000000</td>\n",
       "      <td>-0.050853</td>\n",
       "      <td>0.061104</td>\n",
       "      <td>0.001327</td>\n",
       "      <td>0.129508</td>\n",
       "      <td>-0.010760</td>\n",
       "      <td>0.009241</td>\n",
       "      <td>-0.017195</td>\n",
       "      <td>0.005276</td>\n",
       "      <td>0.011632</td>\n",
       "    </tr>\n",
       "    <tr>\n",
       "      <th>Life expectancy</th>\n",
       "      <td>-0.050853</td>\n",
       "      <td>1.000000</td>\n",
       "      <td>-0.663716</td>\n",
       "      <td>0.584080</td>\n",
       "      <td>-0.570110</td>\n",
       "      <td>0.479192</td>\n",
       "      <td>0.457758</td>\n",
       "      <td>0.463682</td>\n",
       "      <td>0.742101</td>\n",
       "      <td>0.761335</td>\n",
       "    </tr>\n",
       "    <tr>\n",
       "      <th>Adult Mortality</th>\n",
       "      <td>0.061104</td>\n",
       "      <td>-0.663716</td>\n",
       "      <td>1.000000</td>\n",
       "      <td>-0.379302</td>\n",
       "      <td>0.533392</td>\n",
       "      <td>-0.249462</td>\n",
       "      <td>-0.237010</td>\n",
       "      <td>-0.292124</td>\n",
       "      <td>-0.457242</td>\n",
       "      <td>-0.436734</td>\n",
       "    </tr>\n",
       "    <tr>\n",
       "      <th>BMI</th>\n",
       "      <td>0.001327</td>\n",
       "      <td>0.584080</td>\n",
       "      <td>-0.379302</td>\n",
       "      <td>1.000000</td>\n",
       "      <td>-0.245349</td>\n",
       "      <td>0.314771</td>\n",
       "      <td>0.300281</td>\n",
       "      <td>0.313949</td>\n",
       "      <td>0.545400</td>\n",
       "      <td>0.581147</td>\n",
       "    </tr>\n",
       "    <tr>\n",
       "      <th>HIV/AIDS</th>\n",
       "      <td>0.129508</td>\n",
       "      <td>-0.570110</td>\n",
       "      <td>0.533392</td>\n",
       "      <td>-0.245349</td>\n",
       "      <td>1.000000</td>\n",
       "      <td>-0.175475</td>\n",
       "      <td>-0.161789</td>\n",
       "      <td>-0.136337</td>\n",
       "      <td>-0.261202</td>\n",
       "      <td>-0.238005</td>\n",
       "    </tr>\n",
       "    <tr>\n",
       "      <th>Diphtheria</th>\n",
       "      <td>-0.010760</td>\n",
       "      <td>0.479192</td>\n",
       "      <td>-0.249462</td>\n",
       "      <td>0.314771</td>\n",
       "      <td>-0.175475</td>\n",
       "      <td>1.000000</td>\n",
       "      <td>0.702889</td>\n",
       "      <td>0.210045</td>\n",
       "      <td>0.414263</td>\n",
       "      <td>0.434138</td>\n",
       "    </tr>\n",
       "    <tr>\n",
       "      <th>Polio</th>\n",
       "      <td>0.009241</td>\n",
       "      <td>0.457758</td>\n",
       "      <td>-0.237010</td>\n",
       "      <td>0.300281</td>\n",
       "      <td>-0.161789</td>\n",
       "      <td>0.702889</td>\n",
       "      <td>1.000000</td>\n",
       "      <td>0.210826</td>\n",
       "      <td>0.374571</td>\n",
       "      <td>0.414737</td>\n",
       "    </tr>\n",
       "    <tr>\n",
       "      <th>GDP</th>\n",
       "      <td>-0.017195</td>\n",
       "      <td>0.463682</td>\n",
       "      <td>-0.292124</td>\n",
       "      <td>0.313949</td>\n",
       "      <td>-0.136337</td>\n",
       "      <td>0.210045</td>\n",
       "      <td>0.210826</td>\n",
       "      <td>1.000000</td>\n",
       "      <td>0.461918</td>\n",
       "      <td>0.459859</td>\n",
       "    </tr>\n",
       "    <tr>\n",
       "      <th>Income composition of resources</th>\n",
       "      <td>0.005276</td>\n",
       "      <td>0.742101</td>\n",
       "      <td>-0.457242</td>\n",
       "      <td>0.545400</td>\n",
       "      <td>-0.261202</td>\n",
       "      <td>0.414263</td>\n",
       "      <td>0.374571</td>\n",
       "      <td>0.461918</td>\n",
       "      <td>1.000000</td>\n",
       "      <td>0.806888</td>\n",
       "    </tr>\n",
       "    <tr>\n",
       "      <th>Schooling</th>\n",
       "      <td>0.011632</td>\n",
       "      <td>0.761335</td>\n",
       "      <td>-0.436734</td>\n",
       "      <td>0.581147</td>\n",
       "      <td>-0.238005</td>\n",
       "      <td>0.434138</td>\n",
       "      <td>0.414737</td>\n",
       "      <td>0.459859</td>\n",
       "      <td>0.806888</td>\n",
       "      <td>1.000000</td>\n",
       "    </tr>\n",
       "  </tbody>\n",
       "</table>\n",
       "</div>"
      ],
      "text/plain": [
       "                                 Unnamed: 0  Life expectancy  Adult Mortality  \\\n",
       "Unnamed: 0                         1.000000        -0.050853         0.061104   \n",
       "Life expectancy                   -0.050853         1.000000        -0.663716   \n",
       "Adult Mortality                    0.061104        -0.663716         1.000000   \n",
       "BMI                                0.001327         0.584080        -0.379302   \n",
       "HIV/AIDS                           0.129508        -0.570110         0.533392   \n",
       "Diphtheria                        -0.010760         0.479192        -0.249462   \n",
       "Polio                              0.009241         0.457758        -0.237010   \n",
       "GDP                               -0.017195         0.463682        -0.292124   \n",
       "Income composition of resources    0.005276         0.742101        -0.457242   \n",
       "Schooling                          0.011632         0.761335        -0.436734   \n",
       "\n",
       "                                      BMI  HIV/AIDS  Diphtheria     Polio  \\\n",
       "Unnamed: 0                       0.001327  0.129508   -0.010760  0.009241   \n",
       "Life expectancy                  0.584080 -0.570110    0.479192  0.457758   \n",
       "Adult Mortality                 -0.379302  0.533392   -0.249462 -0.237010   \n",
       "BMI                              1.000000 -0.245349    0.314771  0.300281   \n",
       "HIV/AIDS                        -0.245349  1.000000   -0.175475 -0.161789   \n",
       "Diphtheria                       0.314771 -0.175475    1.000000  0.702889   \n",
       "Polio                            0.300281 -0.161789    0.702889  1.000000   \n",
       "GDP                              0.313949 -0.136337    0.210045  0.210826   \n",
       "Income composition of resources  0.545400 -0.261202    0.414263  0.374571   \n",
       "Schooling                        0.581147 -0.238005    0.434138  0.414737   \n",
       "\n",
       "                                      GDP  Income composition of resources  \\\n",
       "Unnamed: 0                      -0.017195                         0.005276   \n",
       "Life expectancy                  0.463682                         0.742101   \n",
       "Adult Mortality                 -0.292124                        -0.457242   \n",
       "BMI                              0.313949                         0.545400   \n",
       "HIV/AIDS                        -0.136337                        -0.261202   \n",
       "Diphtheria                       0.210045                         0.414263   \n",
       "Polio                            0.210826                         0.374571   \n",
       "GDP                              1.000000                         0.461918   \n",
       "Income composition of resources  0.461918                         1.000000   \n",
       "Schooling                        0.459859                         0.806888   \n",
       "\n",
       "                                 Schooling  \n",
       "Unnamed: 0                        0.011632  \n",
       "Life expectancy                   0.761335  \n",
       "Adult Mortality                  -0.436734  \n",
       "BMI                               0.581147  \n",
       "HIV/AIDS                         -0.238005  \n",
       "Diphtheria                        0.434138  \n",
       "Polio                             0.414737  \n",
       "GDP                               0.459859  \n",
       "Income composition of resources   0.806888  \n",
       "Schooling                         1.000000  "
      ]
     },
     "execution_count": 8,
     "metadata": {},
     "output_type": "execute_result"
    }
   ],
   "source": [
    "df.corr()"
   ]
  },
  {
   "cell_type": "markdown",
   "id": "c0b47cd9",
   "metadata": {},
   "source": [
    "# 1. How many independent variables/features are there in the data set?\n"
   ]
  },
  {
   "cell_type": "markdown",
   "id": "e0ec68a9",
   "metadata": {},
   "source": [
    "# Feature selection"
   ]
  },
  {
   "cell_type": "code",
   "execution_count": 9,
   "id": "68e5468b",
   "metadata": {},
   "outputs": [],
   "source": [
    "#drop the 'Unnamed: 0' column and assign new varival\n",
    "x_corr=df.drop('Unnamed: 0',axis=1).corr()"
   ]
  },
  {
   "cell_type": "code",
   "execution_count": 10,
   "id": "bf8add1d",
   "metadata": {},
   "outputs": [
    {
     "data": {
      "text/html": [
       "<div>\n",
       "<style scoped>\n",
       "    .dataframe tbody tr th:only-of-type {\n",
       "        vertical-align: middle;\n",
       "    }\n",
       "\n",
       "    .dataframe tbody tr th {\n",
       "        vertical-align: top;\n",
       "    }\n",
       "\n",
       "    .dataframe thead th {\n",
       "        text-align: right;\n",
       "    }\n",
       "</style>\n",
       "<table border=\"1\" class=\"dataframe\">\n",
       "  <thead>\n",
       "    <tr style=\"text-align: right;\">\n",
       "      <th></th>\n",
       "      <th>Life expectancy</th>\n",
       "      <th>Adult Mortality</th>\n",
       "      <th>BMI</th>\n",
       "      <th>HIV/AIDS</th>\n",
       "      <th>Diphtheria</th>\n",
       "      <th>Polio</th>\n",
       "      <th>GDP</th>\n",
       "      <th>Income composition of resources</th>\n",
       "      <th>Schooling</th>\n",
       "    </tr>\n",
       "  </thead>\n",
       "  <tbody>\n",
       "    <tr>\n",
       "      <th>Life expectancy</th>\n",
       "      <td>1.000000</td>\n",
       "      <td>-0.663716</td>\n",
       "      <td>0.584080</td>\n",
       "      <td>-0.570110</td>\n",
       "      <td>0.479192</td>\n",
       "      <td>0.457758</td>\n",
       "      <td>0.463682</td>\n",
       "      <td>0.742101</td>\n",
       "      <td>0.761335</td>\n",
       "    </tr>\n",
       "    <tr>\n",
       "      <th>Adult Mortality</th>\n",
       "      <td>-0.663716</td>\n",
       "      <td>1.000000</td>\n",
       "      <td>-0.379302</td>\n",
       "      <td>0.533392</td>\n",
       "      <td>-0.249462</td>\n",
       "      <td>-0.237010</td>\n",
       "      <td>-0.292124</td>\n",
       "      <td>-0.457242</td>\n",
       "      <td>-0.436734</td>\n",
       "    </tr>\n",
       "    <tr>\n",
       "      <th>BMI</th>\n",
       "      <td>0.584080</td>\n",
       "      <td>-0.379302</td>\n",
       "      <td>1.000000</td>\n",
       "      <td>-0.245349</td>\n",
       "      <td>0.314771</td>\n",
       "      <td>0.300281</td>\n",
       "      <td>0.313949</td>\n",
       "      <td>0.545400</td>\n",
       "      <td>0.581147</td>\n",
       "    </tr>\n",
       "    <tr>\n",
       "      <th>HIV/AIDS</th>\n",
       "      <td>-0.570110</td>\n",
       "      <td>0.533392</td>\n",
       "      <td>-0.245349</td>\n",
       "      <td>1.000000</td>\n",
       "      <td>-0.175475</td>\n",
       "      <td>-0.161789</td>\n",
       "      <td>-0.136337</td>\n",
       "      <td>-0.261202</td>\n",
       "      <td>-0.238005</td>\n",
       "    </tr>\n",
       "    <tr>\n",
       "      <th>Diphtheria</th>\n",
       "      <td>0.479192</td>\n",
       "      <td>-0.249462</td>\n",
       "      <td>0.314771</td>\n",
       "      <td>-0.175475</td>\n",
       "      <td>1.000000</td>\n",
       "      <td>0.702889</td>\n",
       "      <td>0.210045</td>\n",
       "      <td>0.414263</td>\n",
       "      <td>0.434138</td>\n",
       "    </tr>\n",
       "    <tr>\n",
       "      <th>Polio</th>\n",
       "      <td>0.457758</td>\n",
       "      <td>-0.237010</td>\n",
       "      <td>0.300281</td>\n",
       "      <td>-0.161789</td>\n",
       "      <td>0.702889</td>\n",
       "      <td>1.000000</td>\n",
       "      <td>0.210826</td>\n",
       "      <td>0.374571</td>\n",
       "      <td>0.414737</td>\n",
       "    </tr>\n",
       "    <tr>\n",
       "      <th>GDP</th>\n",
       "      <td>0.463682</td>\n",
       "      <td>-0.292124</td>\n",
       "      <td>0.313949</td>\n",
       "      <td>-0.136337</td>\n",
       "      <td>0.210045</td>\n",
       "      <td>0.210826</td>\n",
       "      <td>1.000000</td>\n",
       "      <td>0.461918</td>\n",
       "      <td>0.459859</td>\n",
       "    </tr>\n",
       "    <tr>\n",
       "      <th>Income composition of resources</th>\n",
       "      <td>0.742101</td>\n",
       "      <td>-0.457242</td>\n",
       "      <td>0.545400</td>\n",
       "      <td>-0.261202</td>\n",
       "      <td>0.414263</td>\n",
       "      <td>0.374571</td>\n",
       "      <td>0.461918</td>\n",
       "      <td>1.000000</td>\n",
       "      <td>0.806888</td>\n",
       "    </tr>\n",
       "    <tr>\n",
       "      <th>Schooling</th>\n",
       "      <td>0.761335</td>\n",
       "      <td>-0.436734</td>\n",
       "      <td>0.581147</td>\n",
       "      <td>-0.238005</td>\n",
       "      <td>0.434138</td>\n",
       "      <td>0.414737</td>\n",
       "      <td>0.459859</td>\n",
       "      <td>0.806888</td>\n",
       "      <td>1.000000</td>\n",
       "    </tr>\n",
       "  </tbody>\n",
       "</table>\n",
       "</div>"
      ],
      "text/plain": [
       "                                 Life expectancy  Adult Mortality       BMI  \\\n",
       "Life expectancy                         1.000000        -0.663716  0.584080   \n",
       "Adult Mortality                        -0.663716         1.000000 -0.379302   \n",
       "BMI                                     0.584080        -0.379302  1.000000   \n",
       "HIV/AIDS                               -0.570110         0.533392 -0.245349   \n",
       "Diphtheria                              0.479192        -0.249462  0.314771   \n",
       "Polio                                   0.457758        -0.237010  0.300281   \n",
       "GDP                                     0.463682        -0.292124  0.313949   \n",
       "Income composition of resources         0.742101        -0.457242  0.545400   \n",
       "Schooling                               0.761335        -0.436734  0.581147   \n",
       "\n",
       "                                 HIV/AIDS  Diphtheria     Polio       GDP  \\\n",
       "Life expectancy                 -0.570110    0.479192  0.457758  0.463682   \n",
       "Adult Mortality                  0.533392   -0.249462 -0.237010 -0.292124   \n",
       "BMI                             -0.245349    0.314771  0.300281  0.313949   \n",
       "HIV/AIDS                         1.000000   -0.175475 -0.161789 -0.136337   \n",
       "Diphtheria                      -0.175475    1.000000  0.702889  0.210045   \n",
       "Polio                           -0.161789    0.702889  1.000000  0.210826   \n",
       "GDP                             -0.136337    0.210045  0.210826  1.000000   \n",
       "Income composition of resources -0.261202    0.414263  0.374571  0.461918   \n",
       "Schooling                       -0.238005    0.434138  0.414737  0.459859   \n",
       "\n",
       "                                 Income composition of resources  Schooling  \n",
       "Life expectancy                                         0.742101   0.761335  \n",
       "Adult Mortality                                        -0.457242  -0.436734  \n",
       "BMI                                                     0.545400   0.581147  \n",
       "HIV/AIDS                                               -0.261202  -0.238005  \n",
       "Diphtheria                                              0.414263   0.434138  \n",
       "Polio                                                   0.374571   0.414737  \n",
       "GDP                                                     0.461918   0.459859  \n",
       "Income composition of resources                         1.000000   0.806888  \n",
       "Schooling                                               0.806888   1.000000  "
      ]
     },
     "execution_count": 10,
     "metadata": {},
     "output_type": "execute_result"
    }
   ],
   "source": [
    "x_corr"
   ]
  },
  {
   "cell_type": "code",
   "execution_count": 11,
   "id": "1be41c0b",
   "metadata": {
    "scrolled": true
   },
   "outputs": [
    {
     "data": {
      "text/plain": [
       "<AxesSubplot:>"
      ]
     },
     "execution_count": 11,
     "metadata": {},
     "output_type": "execute_result"
    },
    {
     "data": {
      "image/png": "[encoded data removed]",
      "text/plain": [
       "<Figure size 432x288 with 2 Axes>"
      ]
     },
     "metadata": {
      "needs_background": "light"
     },
     "output_type": "display_data"
    }
   ],
   "source": [
    "import seaborn as sns\n",
    "sns.heatmap(x_corr.corr(), annot = True, fmt='.2g',cmap= 'coolwarm')"
   ]
  },
  {
   "cell_type": "code",
   "execution_count": 12,
   "id": "d62cac5d",
   "metadata": {},
   "outputs": [],
   "source": [
    "#x is the independant varival\n",
    "x=df.drop(['Life expectancy','Unnamed: 0'],axis=1)"
   ]
  },
  {
   "cell_type": "code",
   "execution_count": 13,
   "id": "4281f4a3",
   "metadata": {},
   "outputs": [],
   "source": [
    "#dependant varival\n",
    "y=df['Life expectancy']"
   ]
  },
  {
   "cell_type": "code",
   "execution_count": 14,
   "id": "c1bebe5d",
   "metadata": {},
   "outputs": [
    {
     "data": {
      "text/html": [
       "<div>\n",
       "<style scoped>\n",
       "    .dataframe tbody tr th:only-of-type {\n",
       "        vertical-align: middle;\n",
       "    }\n",
       "\n",
       "    .dataframe tbody tr th {\n",
       "        vertical-align: top;\n",
       "    }\n",
       "\n",
       "    .dataframe thead th {\n",
       "        text-align: right;\n",
       "    }\n",
       "</style>\n",
       "<table border=\"1\" class=\"dataframe\">\n",
       "  <thead>\n",
       "    <tr style=\"text-align: right;\">\n",
       "      <th></th>\n",
       "      <th>Status</th>\n",
       "      <th>Adult Mortality</th>\n",
       "      <th>BMI</th>\n",
       "      <th>HIV/AIDS</th>\n",
       "      <th>Diphtheria</th>\n",
       "      <th>Polio</th>\n",
       "      <th>GDP</th>\n",
       "      <th>Income composition of resources</th>\n",
       "      <th>Schooling</th>\n",
       "    </tr>\n",
       "  </thead>\n",
       "  <tbody>\n",
       "    <tr>\n",
       "      <th>0</th>\n",
       "      <td>Developing</td>\n",
       "      <td>23.0</td>\n",
       "      <td>2.8</td>\n",
       "      <td>0.4</td>\n",
       "      <td>98.0</td>\n",
       "      <td>98.0</td>\n",
       "      <td>76.569952</td>\n",
       "      <td>0.488</td>\n",
       "      <td>10.8</td>\n",
       "    </tr>\n",
       "    <tr>\n",
       "      <th>1</th>\n",
       "      <td>Developing</td>\n",
       "      <td>93.0</td>\n",
       "      <td>65.5</td>\n",
       "      <td>0.1</td>\n",
       "      <td>99.0</td>\n",
       "      <td>99.0</td>\n",
       "      <td>2271.569610</td>\n",
       "      <td>0.788</td>\n",
       "      <td>14.1</td>\n",
       "    </tr>\n",
       "    <tr>\n",
       "      <th>2</th>\n",
       "      <td>Developing</td>\n",
       "      <td>96.0</td>\n",
       "      <td>59.9</td>\n",
       "      <td>0.1</td>\n",
       "      <td>99.0</td>\n",
       "      <td>99.0</td>\n",
       "      <td>676.153440</td>\n",
       "      <td>0.773</td>\n",
       "      <td>14.7</td>\n",
       "    </tr>\n",
       "    <tr>\n",
       "      <th>3</th>\n",
       "      <td>Developing</td>\n",
       "      <td>219.0</td>\n",
       "      <td>2.6</td>\n",
       "      <td>0.1</td>\n",
       "      <td>88.0</td>\n",
       "      <td>88.0</td>\n",
       "      <td>1391.772325</td>\n",
       "      <td>0.646</td>\n",
       "      <td>11.5</td>\n",
       "    </tr>\n",
       "    <tr>\n",
       "      <th>4</th>\n",
       "      <td>Developing</td>\n",
       "      <td>146.0</td>\n",
       "      <td>47.0</td>\n",
       "      <td>0.1</td>\n",
       "      <td>87.0</td>\n",
       "      <td>87.0</td>\n",
       "      <td>294.335560</td>\n",
       "      <td>0.663</td>\n",
       "      <td>11.5</td>\n",
       "    </tr>\n",
       "  </tbody>\n",
       "</table>\n",
       "</div>"
      ],
      "text/plain": [
       "       Status  Adult Mortality   BMI  HIV/AIDS  Diphtheria  Polio  \\\n",
       "0  Developing             23.0   2.8       0.4        98.0   98.0   \n",
       "1  Developing             93.0  65.5       0.1        99.0   99.0   \n",
       "2  Developing             96.0  59.9       0.1        99.0   99.0   \n",
       "3  Developing            219.0   2.6       0.1        88.0   88.0   \n",
       "4  Developing            146.0  47.0       0.1        87.0   87.0   \n",
       "\n",
       "           GDP  Income composition of resources  Schooling  \n",
       "0    76.569952                            0.488       10.8  \n",
       "1  2271.569610                            0.788       14.1  \n",
       "2   676.153440                            0.773       14.7  \n",
       "3  1391.772325                            0.646       11.5  \n",
       "4   294.335560                            0.663       11.5  "
      ]
     },
     "execution_count": 14,
     "metadata": {},
     "output_type": "execute_result"
    }
   ],
   "source": [
    "x.head()"
   ]
  },
  {
   "cell_type": "code",
   "execution_count": 15,
   "id": "1b896bb5",
   "metadata": {},
   "outputs": [
    {
     "data": {
      "text/plain": [
       "0    65.7\n",
       "1    73.4\n",
       "2    78.7\n",
       "3    67.3\n",
       "4    71.7\n",
       "Name: Life expectancy, dtype: float64"
      ]
     },
     "execution_count": 15,
     "metadata": {},
     "output_type": "execute_result"
    }
   ],
   "source": [
    "#y is a dependant varival\n",
    "y.head()"
   ]
  },
  {
   "cell_type": "markdown",
   "id": "08b5ea69",
   "metadata": {},
   "source": [
    "# so no of independent variables/features is that is 9"
   ]
  },
  {
   "cell_type": "code",
   "execution_count": 16,
   "id": "df1685b6",
   "metadata": {},
   "outputs": [
    {
     "data": {
      "text/plain": [
       "Index(['Status', 'Adult Mortality', 'BMI', 'HIV/AIDS', 'Diphtheria', 'Polio',\n",
       "       'GDP', 'Income composition of resources', 'Schooling'],\n",
       "      dtype='object')"
      ]
     },
     "execution_count": 16,
     "metadata": {},
     "output_type": "execute_result"
    }
   ],
   "source": [
    "x.columns"
   ]
  },
  {
   "cell_type": "markdown",
   "id": "67846612",
   "metadata": {},
   "source": [
    "# dependant varival is y that is  'Life expectancy'"
   ]
  },
  {
   "cell_type": "markdown",
   "id": "ba4a7e90",
   "metadata": {},
   "source": [
    "# 2. How many numerical features are there?"
   ]
  },
  {
   "cell_type": "markdown",
   "id": "b53e5b14",
   "metadata": {},
   "source": [
    "# total numericl feature 8"
   ]
  },
  {
   "cell_type": "markdown",
   "id": "462475d9",
   "metadata": {},
   "source": [
    "# 3. How many categorical features are there?"
   ]
  },
  {
   "cell_type": "code",
   "execution_count": 17,
   "id": "8afeadb9",
   "metadata": {},
   "outputs": [
    {
     "data": {
      "text/plain": [
       "array(['Developing', 'Developed'], dtype=object)"
      ]
     },
     "execution_count": 17,
     "metadata": {},
     "output_type": "execute_result"
    }
   ],
   "source": [
    "df['Status'].unique()"
   ]
  },
  {
   "cell_type": "markdown",
   "id": "9edd5091",
   "metadata": {},
   "source": [
    "#  Ans-3 only one categorical features"
   ]
  },
  {
   "cell_type": "markdown",
   "id": "2595b7f8",
   "metadata": {},
   "source": [
    "# 4. Which is the third most important feature based on correlation for regression?"
   ]
  },
  {
   "cell_type": "code",
   "execution_count": 18,
   "id": "c628670f",
   "metadata": {},
   "outputs": [
    {
     "data": {
      "text/plain": [
       "<AxesSubplot:>"
      ]
     },
     "execution_count": 18,
     "metadata": {},
     "output_type": "execute_result"
    },
    {
     "data": {
      "image/png": "[encoded data removed]",
      "text/plain": [
       "<Figure size 864x720 with 2 Axes>"
      ]
     },
     "metadata": {
      "needs_background": "light"
     },
     "output_type": "display_data"
    }
   ],
   "source": [
    "plt.figure(figsize=(12,10))\n",
    "import seaborn as sns\n",
    "sns.heatmap(x_corr.corr(), annot = True, fmt='.2g',cmap= plt.cm.CMRmap_r)"
   ]
  },
  {
   "cell_type": "code",
   "execution_count": 19,
   "id": "f9ee7bc8",
   "metadata": {},
   "outputs": [
    {
     "data": {
      "text/plain": [
       "Index(['Unnamed: 0', 'Status', 'Life expectancy', 'Adult Mortality', 'BMI',\n",
       "       'HIV/AIDS', 'Diphtheria', 'Polio', 'GDP',\n",
       "       'Income composition of resources', 'Schooling'],\n",
       "      dtype='object')"
      ]
     },
     "execution_count": 19,
     "metadata": {},
     "output_type": "execute_result"
    }
   ],
   "source": [
    "df.columns"
   ]
  },
  {
   "cell_type": "code",
   "execution_count": null,
   "id": "4a9cf54b",
   "metadata": {},
   "outputs": [],
   "source": []
  },
  {
   "cell_type": "markdown",
   "id": "2fb5b6c8",
   "metadata": {},
   "source": [
    "# Ans-4 - BMI is the 3rd higest correlation for regression"
   ]
  },
  {
   "cell_type": "markdown",
   "id": "f175a7f0",
   "metadata": {},
   "source": [
    "# 5. Which is the least important feature based on correlation for regression?"
   ]
  },
  {
   "cell_type": "markdown",
   "id": "f27279f9",
   "metadata": {},
   "source": [
    "# ans- 5 Polio is the last important feature besd on correlation"
   ]
  },
  {
   "cell_type": "markdown",
   "id": "81c1717d",
   "metadata": {},
   "source": [
    "# Multiple Linear Regression:\n",
    "Convert Status into binary boolean variable which will be true if country is developed and\n",
    "answer the following post multiple linear regression(Note: Take default parameters of sklearn\n",
    "module and answer the following):##"
   ]
  },
  {
   "cell_type": "markdown",
   "id": "ff2d9f24",
   "metadata": {},
   "source": [
    "by changing the bineary varival 'Developing'=0 and 'Developed'=1"
   ]
  },
  {
   "cell_type": "code",
   "execution_count": 20,
   "id": "1997f46b",
   "metadata": {},
   "outputs": [],
   "source": [
    "df['Status'].replace(['Developing'],0,inplace=True)\n",
    "df['Status'].replace(['Developed'],1,inplace=True)"
   ]
  },
  {
   "cell_type": "code",
   "execution_count": 21,
   "id": "25485aa8",
   "metadata": {},
   "outputs": [],
   "source": [
    "#x is the independant varival\n",
    "x=df.drop(['Life expectancy','Unnamed: 0'],axis=1)"
   ]
  },
  {
   "cell_type": "code",
   "execution_count": 22,
   "id": "3a1b360d",
   "metadata": {},
   "outputs": [],
   "source": [
    "#dependant varival\n",
    "y=df['Life expectancy']"
   ]
  },
  {
   "cell_type": "code",
   "execution_count": 23,
   "id": "484f8e28",
   "metadata": {},
   "outputs": [
    {
     "data": {
      "text/plain": [
       "array([0, 1], dtype=int64)"
      ]
     },
     "execution_count": 23,
     "metadata": {},
     "output_type": "execute_result"
    }
   ],
   "source": [
    "df['Status'].unique()"
   ]
  },
  {
   "cell_type": "code",
   "execution_count": 24,
   "id": "a51a2254",
   "metadata": {},
   "outputs": [],
   "source": [
    "##We are taking three features for multiple linear regressions i.e Length1,Length2,Length3\n",
    "#finding the outliers with respect to output variables Length1,Length2,Length3 and Weight"
   ]
  },
  {
   "cell_type": "code",
   "execution_count": 25,
   "id": "7da9c919",
   "metadata": {},
   "outputs": [
    {
     "data": {
      "text/plain": [
       "<AxesSubplot:>"
      ]
     },
     "execution_count": 25,
     "metadata": {},
     "output_type": "execute_result"
    },
    {
     "data": {
      "image/png": "[encoded data removed]",
      "text/plain": [
       "<Figure size 1440x1800 with 1 Axes>"
      ]
     },
     "metadata": {
      "needs_background": "light"
     },
     "output_type": "display_data"
    }
   ],
   "source": [
    "plt.figure(figsize=(20,25))\n",
    "df.boxplot(column=['Status', 'Adult Mortality', 'BMI', 'HIV/AIDS', 'Diphtheria', 'Polio', 'GDP', 'Income composition of resources', 'Schooling'])\n"
   ]
  },
  {
   "cell_type": "code",
   "execution_count": 26,
   "id": "3b45b9e2",
   "metadata": {},
   "outputs": [
    {
     "data": {
      "text/plain": [
       "<AxesSubplot:>"
      ]
     },
     "execution_count": 26,
     "metadata": {},
     "output_type": "execute_result"
    },
    {
     "data": {
      "image/png": "[encoded data removed]",
      "text/plain": [
       "<Figure size 432x288 with 1 Axes>"
      ]
     },
     "metadata": {
      "needs_background": "light"
     },
     "output_type": "display_data"
    }
   ],
   "source": [
    "df.boxplot(column=['GDP'])"
   ]
  },
  {
   "cell_type": "markdown",
   "id": "19ec9b14",
   "metadata": {},
   "source": [
    "# x is the independant varival\n",
    "# y is the dependant varival"
   ]
  },
  {
   "cell_type": "code",
   "execution_count": null,
   "id": "11ef4b0e",
   "metadata": {},
   "outputs": [],
   "source": []
  },
  {
   "cell_type": "code",
   "execution_count": 27,
   "id": "1b7560d6",
   "metadata": {},
   "outputs": [],
   "source": [
    "from sklearn.model_selection import train_test_split\n",
    "X_train,X_test,y_train,y_test=train_test_split(x,y,random_state=0)"
   ]
  },
  {
   "cell_type": "code",
   "execution_count": 28,
   "id": "f4dba2b5",
   "metadata": {},
   "outputs": [
    {
     "data": {
      "text/plain": [
       "LinearRegression()"
      ]
     },
     "execution_count": 28,
     "metadata": {},
     "output_type": "execute_result"
    }
   ],
   "source": [
    "from sklearn.linear_model import LinearRegression\n",
    "regressor = LinearRegression()\n",
    "regressor.fit(X_train, y_train)"
   ]
  },
  {
   "cell_type": "code",
   "execution_count": 29,
   "id": "6d919bab",
   "metadata": {},
   "outputs": [
    {
     "data": {
      "text/plain": [
       "(441, 9)"
      ]
     },
     "execution_count": 29,
     "metadata": {},
     "output_type": "execute_result"
    }
   ],
   "source": [
    "X_test.shape"
   ]
  },
  {
   "cell_type": "code",
   "execution_count": 30,
   "id": "a2b467a3",
   "metadata": {},
   "outputs": [
    {
     "data": {
      "text/plain": [
       "(1323, 9)"
      ]
     },
     "execution_count": 30,
     "metadata": {},
     "output_type": "execute_result"
    }
   ],
   "source": [
    "X_train.shape"
   ]
  },
  {
   "cell_type": "markdown",
   "id": "8fbef06b",
   "metadata": {},
   "source": [
    "# Implementing Multiple Linear Regressions on test data"
   ]
  },
  {
   "cell_type": "code",
   "execution_count": 31,
   "id": "4dc07200",
   "metadata": {},
   "outputs": [],
   "source": [
    "#Importing Dataset\n",
    "df_test=pd.read_csv(\"prep0122284_test.csv\")"
   ]
  },
  {
   "cell_type": "code",
   "execution_count": 32,
   "id": "3f1926ef",
   "metadata": {},
   "outputs": [],
   "source": [
    "df_test['Status'].replace(['Developing'],0,inplace=True)\n",
    "df_test['Status'].replace(['Developed'],1,inplace=True)"
   ]
  },
  {
   "cell_type": "code",
   "execution_count": 33,
   "id": "73c0a98e",
   "metadata": {},
   "outputs": [
    {
     "name": "stdout",
     "output_type": "stream",
     "text": [
      "<class 'pandas.core.frame.DataFrame'>\n",
      "RangeIndex: 441 entries, 0 to 440\n",
      "Data columns (total 11 columns):\n",
      " #   Column                           Non-Null Count  Dtype  \n",
      "---  ------                           --------------  -----  \n",
      " 0   Unnamed: 0                       441 non-null    int64  \n",
      " 1   Status                           441 non-null    int64  \n",
      " 2   Life expectancy                  441 non-null    float64\n",
      " 3   Adult Mortality                  441 non-null    float64\n",
      " 4   BMI                              441 non-null    float64\n",
      " 5   HIV/AIDS                         441 non-null    float64\n",
      " 6   Diphtheria                       441 non-null    float64\n",
      " 7   Polio                            441 non-null    float64\n",
      " 8   GDP                              441 non-null    float64\n",
      " 9   Income composition of resources  441 non-null    float64\n",
      " 10  Schooling                        441 non-null    float64\n",
      "dtypes: float64(9), int64(2)\n",
      "memory usage: 38.0 KB\n"
     ]
    }
   ],
   "source": [
    "df_test.info()"
   ]
  },
  {
   "cell_type": "code",
   "execution_count": 34,
   "id": "d184755a",
   "metadata": {},
   "outputs": [
    {
     "data": {
      "text/plain": [
       "(441, 11)"
      ]
     },
     "execution_count": 34,
     "metadata": {},
     "output_type": "execute_result"
    }
   ],
   "source": [
    "df_test.shape"
   ]
  },
  {
   "cell_type": "code",
   "execution_count": 35,
   "id": "ad9fe6ec",
   "metadata": {},
   "outputs": [],
   "source": [
    "#x1 is the independant varival on test data\n",
    "#y1 is the dependant varival on test data\n",
    "x1=df_test.drop(['Life expectancy','Unnamed: 0'],axis=1)\n",
    "y1=df_test['Life expectancy']"
   ]
  },
  {
   "cell_type": "code",
   "execution_count": 36,
   "id": "f05d1633",
   "metadata": {},
   "outputs": [
    {
     "data": {
      "text/html": [
       "<div>\n",
       "<style scoped>\n",
       "    .dataframe tbody tr th:only-of-type {\n",
       "        vertical-align: middle;\n",
       "    }\n",
       "\n",
       "    .dataframe tbody tr th {\n",
       "        vertical-align: top;\n",
       "    }\n",
       "\n",
       "    .dataframe thead th {\n",
       "        text-align: right;\n",
       "    }\n",
       "</style>\n",
       "<table border=\"1\" class=\"dataframe\">\n",
       "  <thead>\n",
       "    <tr style=\"text-align: right;\">\n",
       "      <th></th>\n",
       "      <th>Status</th>\n",
       "      <th>Adult Mortality</th>\n",
       "      <th>BMI</th>\n",
       "      <th>HIV/AIDS</th>\n",
       "      <th>Diphtheria</th>\n",
       "      <th>Polio</th>\n",
       "      <th>GDP</th>\n",
       "      <th>Income composition of resources</th>\n",
       "      <th>Schooling</th>\n",
       "    </tr>\n",
       "  </thead>\n",
       "  <tbody>\n",
       "    <tr>\n",
       "      <th>0</th>\n",
       "      <td>0</td>\n",
       "      <td>253.0</td>\n",
       "      <td>13.5</td>\n",
       "      <td>1.7</td>\n",
       "      <td>85.0</td>\n",
       "      <td>86.0</td>\n",
       "      <td>48.615184</td>\n",
       "      <td>0.458</td>\n",
       "      <td>9.7</td>\n",
       "    </tr>\n",
       "    <tr>\n",
       "      <th>1</th>\n",
       "      <td>0</td>\n",
       "      <td>191.0</td>\n",
       "      <td>19.7</td>\n",
       "      <td>0.1</td>\n",
       "      <td>72.0</td>\n",
       "      <td>78.0</td>\n",
       "      <td>1586.254000</td>\n",
       "      <td>0.632</td>\n",
       "      <td>10.9</td>\n",
       "    </tr>\n",
       "    <tr>\n",
       "      <th>2</th>\n",
       "      <td>0</td>\n",
       "      <td>449.0</td>\n",
       "      <td>46.4</td>\n",
       "      <td>19.0</td>\n",
       "      <td>76.0</td>\n",
       "      <td>75.0</td>\n",
       "      <td>5888.628400</td>\n",
       "      <td>0.622</td>\n",
       "      <td>12.8</td>\n",
       "    </tr>\n",
       "    <tr>\n",
       "      <th>3</th>\n",
       "      <td>0</td>\n",
       "      <td>125.0</td>\n",
       "      <td>48.8</td>\n",
       "      <td>0.1</td>\n",
       "      <td>87.0</td>\n",
       "      <td>91.0</td>\n",
       "      <td>7189.691229</td>\n",
       "      <td>0.741</td>\n",
       "      <td>11.7</td>\n",
       "    </tr>\n",
       "    <tr>\n",
       "      <th>4</th>\n",
       "      <td>0</td>\n",
       "      <td>252.0</td>\n",
       "      <td>17.3</td>\n",
       "      <td>0.9</td>\n",
       "      <td>7.0</td>\n",
       "      <td>75.0</td>\n",
       "      <td>348.151511</td>\n",
       "      <td>0.312</td>\n",
       "      <td>4.5</td>\n",
       "    </tr>\n",
       "    <tr>\n",
       "      <th>...</th>\n",
       "      <td>...</td>\n",
       "      <td>...</td>\n",
       "      <td>...</td>\n",
       "      <td>...</td>\n",
       "      <td>...</td>\n",
       "      <td>...</td>\n",
       "      <td>...</td>\n",
       "      <td>...</td>\n",
       "      <td>...</td>\n",
       "    </tr>\n",
       "    <tr>\n",
       "      <th>436</th>\n",
       "      <td>0</td>\n",
       "      <td>271.0</td>\n",
       "      <td>21.3</td>\n",
       "      <td>1.5</td>\n",
       "      <td>66.0</td>\n",
       "      <td>72.0</td>\n",
       "      <td>835.889980</td>\n",
       "      <td>0.404</td>\n",
       "      <td>7.5</td>\n",
       "    </tr>\n",
       "    <tr>\n",
       "      <th>437</th>\n",
       "      <td>0</td>\n",
       "      <td>178.0</td>\n",
       "      <td>56.3</td>\n",
       "      <td>0.9</td>\n",
       "      <td>84.0</td>\n",
       "      <td>84.0</td>\n",
       "      <td>9272.413453</td>\n",
       "      <td>0.708</td>\n",
       "      <td>12.7</td>\n",
       "    </tr>\n",
       "    <tr>\n",
       "      <th>438</th>\n",
       "      <td>0</td>\n",
       "      <td>74.0</td>\n",
       "      <td>58.0</td>\n",
       "      <td>0.1</td>\n",
       "      <td>99.0</td>\n",
       "      <td>99.0</td>\n",
       "      <td>3954.227830</td>\n",
       "      <td>0.762</td>\n",
       "      <td>14.2</td>\n",
       "    </tr>\n",
       "    <tr>\n",
       "      <th>439</th>\n",
       "      <td>0</td>\n",
       "      <td>148.0</td>\n",
       "      <td>32.8</td>\n",
       "      <td>0.1</td>\n",
       "      <td>97.0</td>\n",
       "      <td>98.0</td>\n",
       "      <td>1153.938220</td>\n",
       "      <td>0.769</td>\n",
       "      <td>14.7</td>\n",
       "    </tr>\n",
       "    <tr>\n",
       "      <th>440</th>\n",
       "      <td>1</td>\n",
       "      <td>76.0</td>\n",
       "      <td>58.8</td>\n",
       "      <td>0.1</td>\n",
       "      <td>99.0</td>\n",
       "      <td>96.0</td>\n",
       "      <td>13198.669300</td>\n",
       "      <td>0.888</td>\n",
       "      <td>13.5</td>\n",
       "    </tr>\n",
       "  </tbody>\n",
       "</table>\n",
       "<p>441 rows × 9 columns</p>\n",
       "</div>"
      ],
      "text/plain": [
       "     Status  Adult Mortality   BMI  HIV/AIDS  Diphtheria  Polio           GDP  \\\n",
       "0         0            253.0  13.5       1.7        85.0   86.0     48.615184   \n",
       "1         0            191.0  19.7       0.1        72.0   78.0   1586.254000   \n",
       "2         0            449.0  46.4      19.0        76.0   75.0   5888.628400   \n",
       "3         0            125.0  48.8       0.1        87.0   91.0   7189.691229   \n",
       "4         0            252.0  17.3       0.9         7.0   75.0    348.151511   \n",
       "..      ...              ...   ...       ...         ...    ...           ...   \n",
       "436       0            271.0  21.3       1.5        66.0   72.0    835.889980   \n",
       "437       0            178.0  56.3       0.9        84.0   84.0   9272.413453   \n",
       "438       0             74.0  58.0       0.1        99.0   99.0   3954.227830   \n",
       "439       0            148.0  32.8       0.1        97.0   98.0   1153.938220   \n",
       "440       1             76.0  58.8       0.1        99.0   96.0  13198.669300   \n",
       "\n",
       "     Income composition of resources  Schooling  \n",
       "0                              0.458        9.7  \n",
       "1                              0.632       10.9  \n",
       "2                              0.622       12.8  \n",
       "3                              0.741       11.7  \n",
       "4                              0.312        4.5  \n",
       "..                               ...        ...  \n",
       "436                            0.404        7.5  \n",
       "437                            0.708       12.7  \n",
       "438                            0.762       14.2  \n",
       "439                            0.769       14.7  \n",
       "440                            0.888       13.5  \n",
       "\n",
       "[441 rows x 9 columns]"
      ]
     },
     "execution_count": 36,
     "metadata": {},
     "output_type": "execute_result"
    }
   ],
   "source": [
    "x1"
   ]
  },
  {
   "cell_type": "code",
   "execution_count": 37,
   "id": "63cab7b6",
   "metadata": {},
   "outputs": [],
   "source": [
    "y_pred = regressor.predict(x1)\n",
    "#np.set_printoptions(precision=2)\n",
    "#print(np.concatenate((y_pred.reshape(len(y_pred),1), y_test.reshape(len(y_test),1)),1))"
   ]
  },
  {
   "cell_type": "code",
   "execution_count": 38,
   "id": "ab6841c1",
   "metadata": {},
   "outputs": [
    {
     "data": {
      "text/plain": [
       "0.8521078273666538"
      ]
     },
     "execution_count": 38,
     "metadata": {},
     "output_type": "execute_result"
    }
   ],
   "source": [
    "from sklearn.metrics import r2_score\n",
    "r2_score(y1, y_pred)"
   ]
  },
  {
   "cell_type": "markdown",
   "id": "69cf55d8",
   "metadata": {},
   "source": [
    "# 1. What is mean_squared_error for the test dataset?"
   ]
  },
  {
   "cell_type": "markdown",
   "id": "06af5630",
   "metadata": {},
   "source": [
    "# Computing R-Squared Value"
   ]
  },
  {
   "cell_type": "code",
   "execution_count": 39,
   "id": "8b416f46",
   "metadata": {},
   "outputs": [],
   "source": [
    "from sklearn import metrics"
   ]
  },
  {
   "cell_type": "code",
   "execution_count": 40,
   "id": "f115163a",
   "metadata": {},
   "outputs": [],
   "source": [
    "mean_squared_error=metrics.mean_squared_error(y1,y_pred)"
   ]
  },
  {
   "cell_type": "code",
   "execution_count": 41,
   "id": "163ed65c",
   "metadata": {},
   "outputs": [
    {
     "name": "stdout",
     "output_type": "stream",
     "text": [
      "Sqaured mean error 3.59\n"
     ]
    }
   ],
   "source": [
    "print('Sqaured mean error', round(np.sqrt(mean_squared_error),2))"
   ]
  },
  {
   "cell_type": "markdown",
   "id": "86d5d17d",
   "metadata": {},
   "source": [
    "# 2. What is r2_score for the test dataset?"
   ]
  },
  {
   "cell_type": "code",
   "execution_count": 42,
   "id": "b7e4d4d1",
   "metadata": {},
   "outputs": [
    {
     "data": {
      "text/plain": [
       "0.8521078273666538"
      ]
     },
     "execution_count": 42,
     "metadata": {},
     "output_type": "execute_result"
    }
   ],
   "source": [
    "from sklearn.metrics import r2_score\n",
    "r2_score(y1, y_pred)"
   ]
  },
  {
   "cell_type": "code",
   "execution_count": 43,
   "id": "8b4a182a",
   "metadata": {},
   "outputs": [
    {
     "name": "stdout",
     "output_type": "stream",
     "text": [
      "R sqaured testing 0.852\n"
     ]
    }
   ],
   "source": [
    "print('R sqaured testing',round(r2_score(y1, y_pred),3) )"
   ]
  },
  {
   "cell_type": "markdown",
   "id": "42fc4345",
   "metadata": {},
   "source": [
    "# 3. What is the mean absolute error for the test dataset?"
   ]
  },
  {
   "cell_type": "code",
   "execution_count": 44,
   "id": "c892fd82",
   "metadata": {},
   "outputs": [],
   "source": [
    " from sklearn.metrics import mean_absolute_error"
   ]
  },
  {
   "cell_type": "code",
   "execution_count": 45,
   "id": "7da75b2f",
   "metadata": {},
   "outputs": [
    {
     "data": {
      "text/plain": [
       "array([2.79186554])"
      ]
     },
     "execution_count": 45,
     "metadata": {},
     "output_type": "execute_result"
    }
   ],
   "source": [
    "mean_absolute_error(y1, y_pred, multioutput='raw_values')"
   ]
  },
  {
   "cell_type": "markdown",
   "id": "cd337057",
   "metadata": {},
   "source": [
    "# 4. What is the value of cost function on the train and test dataset for the model previously trained?\n"
   ]
  },
  {
   "cell_type": "raw",
   "id": "29b7ec67",
   "metadata": {},
   "source": [
    "root_mean_squared_error=mean_squared_error**1/2"
   ]
  },
  {
   "cell_type": "markdown",
   "id": "b1ec7c67",
   "metadata": {},
   "source": [
    "# 5. What is mean_squared_error for the test dataset after we take top 5 features based on correlation?"
   ]
  },
  {
   "cell_type": "code",
   "execution_count": 46,
   "id": "0965f7b3",
   "metadata": {},
   "outputs": [
    {
     "data": {
      "text/html": [
       "<div>\n",
       "<style scoped>\n",
       "    .dataframe tbody tr th:only-of-type {\n",
       "        vertical-align: middle;\n",
       "    }\n",
       "\n",
       "    .dataframe tbody tr th {\n",
       "        vertical-align: top;\n",
       "    }\n",
       "\n",
       "    .dataframe thead th {\n",
       "        text-align: right;\n",
       "    }\n",
       "</style>\n",
       "<table border=\"1\" class=\"dataframe\">\n",
       "  <thead>\n",
       "    <tr style=\"text-align: right;\">\n",
       "      <th></th>\n",
       "      <th>Unnamed: 0</th>\n",
       "      <th>Status</th>\n",
       "      <th>Life expectancy</th>\n",
       "      <th>Adult Mortality</th>\n",
       "      <th>BMI</th>\n",
       "      <th>HIV/AIDS</th>\n",
       "      <th>Diphtheria</th>\n",
       "      <th>Polio</th>\n",
       "      <th>GDP</th>\n",
       "      <th>Income composition of resources</th>\n",
       "      <th>Schooling</th>\n",
       "    </tr>\n",
       "  </thead>\n",
       "  <tbody>\n",
       "    <tr>\n",
       "      <th>0</th>\n",
       "      <td>2152</td>\n",
       "      <td>0</td>\n",
       "      <td>65.7</td>\n",
       "      <td>23.0</td>\n",
       "      <td>2.8</td>\n",
       "      <td>0.4</td>\n",
       "      <td>98.0</td>\n",
       "      <td>98.0</td>\n",
       "      <td>76.569952</td>\n",
       "      <td>0.488</td>\n",
       "      <td>10.8</td>\n",
       "    </tr>\n",
       "    <tr>\n",
       "      <th>1</th>\n",
       "      <td>1406</td>\n",
       "      <td>0</td>\n",
       "      <td>73.4</td>\n",
       "      <td>93.0</td>\n",
       "      <td>65.5</td>\n",
       "      <td>0.1</td>\n",
       "      <td>99.0</td>\n",
       "      <td>99.0</td>\n",
       "      <td>2271.569610</td>\n",
       "      <td>0.788</td>\n",
       "      <td>14.1</td>\n",
       "    </tr>\n",
       "  </tbody>\n",
       "</table>\n",
       "</div>"
      ],
      "text/plain": [
       "   Unnamed: 0  Status  Life expectancy  Adult Mortality   BMI  HIV/AIDS  \\\n",
       "0        2152       0             65.7             23.0   2.8       0.4   \n",
       "1        1406       0             73.4             93.0  65.5       0.1   \n",
       "\n",
       "   Diphtheria  Polio          GDP  Income composition of resources  Schooling  \n",
       "0        98.0   98.0    76.569952                            0.488       10.8  \n",
       "1        99.0   99.0  2271.569610                            0.788       14.1  "
      ]
     },
     "execution_count": 46,
     "metadata": {},
     "output_type": "execute_result"
    }
   ],
   "source": [
    "df.head(2)"
   ]
  },
  {
   "cell_type": "code",
   "execution_count": 47,
   "id": "087cafa2",
   "metadata": {},
   "outputs": [],
   "source": [
    "# top 5 feature in data set\n",
    "x_top=df.drop(['Life expectancy','Status','Adult Mortality', 'HIV/AIDS','Polio','Unnamed: 0'],axis=1)"
   ]
  },
  {
   "cell_type": "code",
   "execution_count": 48,
   "id": "c7287260",
   "metadata": {},
   "outputs": [],
   "source": [
    "y_top=df['Life expectancy']"
   ]
  },
  {
   "cell_type": "code",
   "execution_count": 49,
   "id": "dd544a12",
   "metadata": {},
   "outputs": [
    {
     "data": {
      "text/plain": [
       "(1764, 5)"
      ]
     },
     "execution_count": 49,
     "metadata": {},
     "output_type": "execute_result"
    }
   ],
   "source": [
    "x_top.shape"
   ]
  },
  {
   "cell_type": "code",
   "execution_count": 50,
   "id": "f4e2ade5",
   "metadata": {},
   "outputs": [
    {
     "data": {
      "text/plain": [
       "(1764,)"
      ]
     },
     "execution_count": 50,
     "metadata": {},
     "output_type": "execute_result"
    }
   ],
   "source": [
    "y_top.shape"
   ]
  },
  {
   "cell_type": "code",
   "execution_count": 51,
   "id": "f2243830",
   "metadata": {},
   "outputs": [],
   "source": [
    "from sklearn.model_selection import train_test_split\n",
    "X_top_train,X_top_test,y_top_train,y_top_test=train_test_split(x_top,y_top,random_state=0)"
   ]
  },
  {
   "cell_type": "code",
   "execution_count": 52,
   "id": "54d8d18d",
   "metadata": {},
   "outputs": [
    {
     "data": {
      "text/plain": [
       "LinearRegression()"
      ]
     },
     "execution_count": 52,
     "metadata": {},
     "output_type": "execute_result"
    }
   ],
   "source": [
    "from sklearn.linear_model import LinearRegression\n",
    "model = LinearRegression()\n",
    "model.fit(X_top_train, y_top_train)"
   ]
  },
  {
   "cell_type": "code",
   "execution_count": 53,
   "id": "83c3d26f",
   "metadata": {},
   "outputs": [],
   "source": [
    "#x1 is the independant varival on test data\n",
    "#y1 is the dependant varival on test data\n",
    "x1_top_test=df_test.drop(['Life expectancy','Status','Adult Mortality', 'HIV/AIDS','Polio','Unnamed: 0'],axis=1)\n",
    "y1_top_test=df_test['Life expectancy']"
   ]
  },
  {
   "cell_type": "code",
   "execution_count": 54,
   "id": "29f01b40",
   "metadata": {},
   "outputs": [],
   "source": [
    "y_top_pred = model.predict(x1_top_test)\n",
    "#np.set_printoptions(precision=2)\n",
    "#print(np.concatenate((y_pred.reshape(len(y_pred),1), y_test.reshape(len(y_test),1)),1))"
   ]
  },
  {
   "cell_type": "code",
   "execution_count": null,
   "id": "f04d5780",
   "metadata": {},
   "outputs": [],
   "source": []
  },
  {
   "cell_type": "code",
   "execution_count": null,
   "id": "38b597e9",
   "metadata": {},
   "outputs": [],
   "source": []
  },
  {
   "cell_type": "markdown",
   "id": "a6643df0",
   "metadata": {},
   "source": [
    "# mean_squared_erro"
   ]
  },
  {
   "cell_type": "code",
   "execution_count": 55,
   "id": "1f1b9016",
   "metadata": {},
   "outputs": [],
   "source": [
    "mean_squared_error=metrics.mean_squared_error(y1_top_test,y_top_pred)"
   ]
  },
  {
   "cell_type": "code",
   "execution_count": 56,
   "id": "72cda1f3",
   "metadata": {},
   "outputs": [
    {
     "name": "stdout",
     "output_type": "stream",
     "text": [
      "Sqaured mean error 5.24\n"
     ]
    }
   ],
   "source": [
    "print('Sqaured mean error', round(np.sqrt(mean_squared_error),2))"
   ]
  },
  {
   "cell_type": "code",
   "execution_count": null,
   "id": "c6d10278",
   "metadata": {},
   "outputs": [],
   "source": []
  },
  {
   "cell_type": "markdown",
   "id": "ef1ba44a",
   "metadata": {},
   "source": [
    "#  Besed on correlition i also tske top 5 correlation features so"
   ]
  },
  {
   "cell_type": "code",
   "execution_count": 57,
   "id": "61f5d598",
   "metadata": {},
   "outputs": [
    {
     "name": "stdout",
     "output_type": "stream",
     "text": [
      "Sqaured mean error 5.24\n"
     ]
    }
   ],
   "source": [
    "print('Sqaured mean error', round(np.sqrt(mean_squared_error),2))"
   ]
  },
  {
   "cell_type": "code",
   "execution_count": 58,
   "id": "90cfd169",
   "metadata": {},
   "outputs": [
    {
     "data": {
      "text/html": [
       "<div>\n",
       "<style scoped>\n",
       "    .dataframe tbody tr th:only-of-type {\n",
       "        vertical-align: middle;\n",
       "    }\n",
       "\n",
       "    .dataframe tbody tr th {\n",
       "        vertical-align: top;\n",
       "    }\n",
       "\n",
       "    .dataframe thead th {\n",
       "        text-align: right;\n",
       "    }\n",
       "</style>\n",
       "<table border=\"1\" class=\"dataframe\">\n",
       "  <thead>\n",
       "    <tr style=\"text-align: right;\">\n",
       "      <th></th>\n",
       "      <th>Status</th>\n",
       "      <th>Adult Mortality</th>\n",
       "      <th>BMI</th>\n",
       "      <th>HIV/AIDS</th>\n",
       "      <th>Diphtheria</th>\n",
       "      <th>Polio</th>\n",
       "      <th>GDP</th>\n",
       "      <th>Income composition of resources</th>\n",
       "      <th>Schooling</th>\n",
       "    </tr>\n",
       "  </thead>\n",
       "  <tbody>\n",
       "    <tr>\n",
       "      <th>0</th>\n",
       "      <td>0</td>\n",
       "      <td>253.0</td>\n",
       "      <td>13.5</td>\n",
       "      <td>1.7</td>\n",
       "      <td>85.0</td>\n",
       "      <td>86.0</td>\n",
       "      <td>48.615184</td>\n",
       "      <td>0.458</td>\n",
       "      <td>9.7</td>\n",
       "    </tr>\n",
       "    <tr>\n",
       "      <th>1</th>\n",
       "      <td>0</td>\n",
       "      <td>191.0</td>\n",
       "      <td>19.7</td>\n",
       "      <td>0.1</td>\n",
       "      <td>72.0</td>\n",
       "      <td>78.0</td>\n",
       "      <td>1586.254000</td>\n",
       "      <td>0.632</td>\n",
       "      <td>10.9</td>\n",
       "    </tr>\n",
       "    <tr>\n",
       "      <th>2</th>\n",
       "      <td>0</td>\n",
       "      <td>449.0</td>\n",
       "      <td>46.4</td>\n",
       "      <td>19.0</td>\n",
       "      <td>76.0</td>\n",
       "      <td>75.0</td>\n",
       "      <td>5888.628400</td>\n",
       "      <td>0.622</td>\n",
       "      <td>12.8</td>\n",
       "    </tr>\n",
       "    <tr>\n",
       "      <th>3</th>\n",
       "      <td>0</td>\n",
       "      <td>125.0</td>\n",
       "      <td>48.8</td>\n",
       "      <td>0.1</td>\n",
       "      <td>87.0</td>\n",
       "      <td>91.0</td>\n",
       "      <td>7189.691229</td>\n",
       "      <td>0.741</td>\n",
       "      <td>11.7</td>\n",
       "    </tr>\n",
       "    <tr>\n",
       "      <th>4</th>\n",
       "      <td>0</td>\n",
       "      <td>252.0</td>\n",
       "      <td>17.3</td>\n",
       "      <td>0.9</td>\n",
       "      <td>7.0</td>\n",
       "      <td>75.0</td>\n",
       "      <td>348.151511</td>\n",
       "      <td>0.312</td>\n",
       "      <td>4.5</td>\n",
       "    </tr>\n",
       "    <tr>\n",
       "      <th>...</th>\n",
       "      <td>...</td>\n",
       "      <td>...</td>\n",
       "      <td>...</td>\n",
       "      <td>...</td>\n",
       "      <td>...</td>\n",
       "      <td>...</td>\n",
       "      <td>...</td>\n",
       "      <td>...</td>\n",
       "      <td>...</td>\n",
       "    </tr>\n",
       "    <tr>\n",
       "      <th>436</th>\n",
       "      <td>0</td>\n",
       "      <td>271.0</td>\n",
       "      <td>21.3</td>\n",
       "      <td>1.5</td>\n",
       "      <td>66.0</td>\n",
       "      <td>72.0</td>\n",
       "      <td>835.889980</td>\n",
       "      <td>0.404</td>\n",
       "      <td>7.5</td>\n",
       "    </tr>\n",
       "    <tr>\n",
       "      <th>437</th>\n",
       "      <td>0</td>\n",
       "      <td>178.0</td>\n",
       "      <td>56.3</td>\n",
       "      <td>0.9</td>\n",
       "      <td>84.0</td>\n",
       "      <td>84.0</td>\n",
       "      <td>9272.413453</td>\n",
       "      <td>0.708</td>\n",
       "      <td>12.7</td>\n",
       "    </tr>\n",
       "    <tr>\n",
       "      <th>438</th>\n",
       "      <td>0</td>\n",
       "      <td>74.0</td>\n",
       "      <td>58.0</td>\n",
       "      <td>0.1</td>\n",
       "      <td>99.0</td>\n",
       "      <td>99.0</td>\n",
       "      <td>3954.227830</td>\n",
       "      <td>0.762</td>\n",
       "      <td>14.2</td>\n",
       "    </tr>\n",
       "    <tr>\n",
       "      <th>439</th>\n",
       "      <td>0</td>\n",
       "      <td>148.0</td>\n",
       "      <td>32.8</td>\n",
       "      <td>0.1</td>\n",
       "      <td>97.0</td>\n",
       "      <td>98.0</td>\n",
       "      <td>1153.938220</td>\n",
       "      <td>0.769</td>\n",
       "      <td>14.7</td>\n",
       "    </tr>\n",
       "    <tr>\n",
       "      <th>440</th>\n",
       "      <td>1</td>\n",
       "      <td>76.0</td>\n",
       "      <td>58.8</td>\n",
       "      <td>0.1</td>\n",
       "      <td>99.0</td>\n",
       "      <td>96.0</td>\n",
       "      <td>13198.669300</td>\n",
       "      <td>0.888</td>\n",
       "      <td>13.5</td>\n",
       "    </tr>\n",
       "  </tbody>\n",
       "</table>\n",
       "<p>441 rows × 9 columns</p>\n",
       "</div>"
      ],
      "text/plain": [
       "     Status  Adult Mortality   BMI  HIV/AIDS  Diphtheria  Polio           GDP  \\\n",
       "0         0            253.0  13.5       1.7        85.0   86.0     48.615184   \n",
       "1         0            191.0  19.7       0.1        72.0   78.0   1586.254000   \n",
       "2         0            449.0  46.4      19.0        76.0   75.0   5888.628400   \n",
       "3         0            125.0  48.8       0.1        87.0   91.0   7189.691229   \n",
       "4         0            252.0  17.3       0.9         7.0   75.0    348.151511   \n",
       "..      ...              ...   ...       ...         ...    ...           ...   \n",
       "436       0            271.0  21.3       1.5        66.0   72.0    835.889980   \n",
       "437       0            178.0  56.3       0.9        84.0   84.0   9272.413453   \n",
       "438       0             74.0  58.0       0.1        99.0   99.0   3954.227830   \n",
       "439       0            148.0  32.8       0.1        97.0   98.0   1153.938220   \n",
       "440       1             76.0  58.8       0.1        99.0   96.0  13198.669300   \n",
       "\n",
       "     Income composition of resources  Schooling  \n",
       "0                              0.458        9.7  \n",
       "1                              0.632       10.9  \n",
       "2                              0.622       12.8  \n",
       "3                              0.741       11.7  \n",
       "4                              0.312        4.5  \n",
       "..                               ...        ...  \n",
       "436                            0.404        7.5  \n",
       "437                            0.708       12.7  \n",
       "438                            0.762       14.2  \n",
       "439                            0.769       14.7  \n",
       "440                            0.888       13.5  \n",
       "\n",
       "[441 rows x 9 columns]"
      ]
     },
     "execution_count": 58,
     "metadata": {},
     "output_type": "execute_result"
    }
   ],
   "source": [
    "x1"
   ]
  },
  {
   "cell_type": "raw",
   "id": "fec6f3d6",
   "metadata": {},
   "source": [
    "a. Case 1\n",
    "i. Status=Developing\n",
    "ii. Adult Mortality = 730\n",
    "iii. BMI = 27\n",
    "iv. HIV/AIDS = 33\n",
    "v. Diphtheria=70\n",
    "vi. Polio =60\n",
    "vii. GDP=450\n",
    "viii. Income composition of resources = 0.35\n",
    "ix. Schooling=10\n"
   ]
  },
  {
   "cell_type": "code",
   "execution_count": 59,
   "id": "88c93224",
   "metadata": {},
   "outputs": [
    {
     "data": {
      "text/plain": [
       "array([39.79738095])"
      ]
     },
     "execution_count": 59,
     "metadata": {},
     "output_type": "execute_result"
    }
   ],
   "source": [
    "regressor.predict([[0,730,27,33,70,60,450,0.35,10]])"
   ]
  },
  {
   "cell_type": "code",
   "execution_count": null,
   "id": "2bedc5a4",
   "metadata": {},
   "outputs": [],
   "source": []
  },
  {
   "cell_type": "code",
   "execution_count": null,
   "id": "92ae064d",
   "metadata": {},
   "outputs": [],
   "source": [
    "\n"
   ]
  },
  {
   "cell_type": "raw",
   "id": "0ca21008",
   "metadata": {},
   "source": [
    "b. Case 2\n",
    "i. Status=Developed\n",
    "ii. Adult Mortality = 100\n",
    "iii. BMI = 20\n",
    "iv. HIV/AIDS = 1\n",
    "v. Diphtheria=7\n",
    "vi. Polio =6\n",
    "vii. GDP=4500\n",
    "viii. Income composition of resources = 0.5\n",
    "ix. Schooling=12"
   ]
  },
  {
   "cell_type": "code",
   "execution_count": 61,
   "id": "d9f5ae03",
   "metadata": {},
   "outputs": [
    {
     "data": {
      "text/plain": [
       "array([64.66690462])"
      ]
     },
     "execution_count": 61,
     "metadata": {},
     "output_type": "execute_result"
    }
   ],
   "source": [
    "regressor.predict([[1,100,20,1,7,6,4500,.5,12]])"
   ]
  },
  {
   "cell_type": "markdown",
   "id": "b22a8b3e",
   "metadata": {},
   "source": [
    "# Logistic regression:\n"
   ]
  },
  {
   "cell_type": "raw",
   "id": "a297526b",
   "metadata": {},
   "source": [
    "Convert Life expectancy into binary variable >=65 which is true if life expectancy is greater\n",
    "than or equal to 65\n",
    "Take default parameters of Logistics regression in sklearn module\n"
   ]
  },
  {
   "cell_type": "code",
   "execution_count": 62,
   "id": "ef3871c2",
   "metadata": {},
   "outputs": [],
   "source": [
    "df.loc[df[\"Life expectancy\"]<65,'binary_life_expectancy']=0\n",
    "df.loc[df['Life expectancy']>=65,'binary_life_expectancy']=1"
   ]
  },
  {
   "cell_type": "code",
   "execution_count": null,
   "id": "851d40d7",
   "metadata": {},
   "outputs": [],
   "source": [
    "\n"
   ]
  },
  {
   "cell_type": "code",
   "execution_count": null,
   "id": "f5b41ccf",
   "metadata": {},
   "outputs": [],
   "source": []
  },
  {
   "cell_type": "code",
   "execution_count": 64,
   "id": "2fefc7b0",
   "metadata": {},
   "outputs": [],
   "source": [
    "df_test.loc[df_test[\"Life expectancy\"]<65,'binary_life_expectancy']=0\n",
    "df_test.loc[df_test['Life expectancy']>=65,'binary_life_expectancy']=1\n"
   ]
  },
  {
   "cell_type": "code",
   "execution_count": 65,
   "id": "8e82877f",
   "metadata": {},
   "outputs": [
    {
     "data": {
      "text/plain": [
       "1.0    308\n",
       "0.0    133\n",
       "Name: binary_life_expectancy, dtype: int64"
      ]
     },
     "execution_count": 65,
     "metadata": {},
     "output_type": "execute_result"
    }
   ],
   "source": [
    "df_test[\"binary_life_expectancy\"].value_counts()"
   ]
  },
  {
   "cell_type": "code",
   "execution_count": 66,
   "id": "c99343e7",
   "metadata": {},
   "outputs": [
    {
     "data": {
      "text/plain": [
       "(441, 12)"
      ]
     },
     "execution_count": 66,
     "metadata": {},
     "output_type": "execute_result"
    }
   ],
   "source": [
    "df_test.shape"
   ]
  },
  {
   "cell_type": "code",
   "execution_count": 67,
   "id": "da30db20",
   "metadata": {},
   "outputs": [],
   "source": [
    "#df_test.loc[df_test['Life expectancy']<65,'Life expectancy']=0"
   ]
  },
  {
   "cell_type": "code",
   "execution_count": 68,
   "id": "5a8170ed",
   "metadata": {},
   "outputs": [
    {
     "data": {
      "text/plain": [
       "array([61.5, 67.3, 56.5, 71.6, 58.2, 72.9, 81.8, 59.3, 51.5, 73.5, 74. ,\n",
       "       45.9, 75. , 56.2, 58.6, 76.2, 78.3, 52.1, 78. , 73.3, 65.3, 52.9,\n",
       "       75.4, 62. , 44. , 54.7, 73. , 55.4, 79. , 81.9, 46.5, 81.4, 59.9,\n",
       "       58.8, 70. , 79.1, 81.3, 49.4, 66.2, 53.5, 66.8, 80. , 69.2, 72.3,\n",
       "       62.8, 65.1, 68.4, 71.1, 75.8, 64.4, 66.6, 52.8, 56.7, 68.5, 55.9,\n",
       "       58. , 68. , 71.5, 61.8, 82.6, 79.2, 52.3, 69.5, 81.2, 74.5, 60. ,\n",
       "       51. , 71.4, 63. , 63.4, 83. , 69.9, 77.2, 67.8, 72.2, 65.2, 72.7,\n",
       "       63.8, 74.8, 74.1, 76.8, 65. , 76.7, 49.6, 54.1, 68.7, 75.5, 74.4,\n",
       "       69.6, 89. , 68.6, 57.2, 82.9, 82. , 51.6, 67.5, 76.6, 61.4, 76.9,\n",
       "       73.4, 57.9, 81.5, 64.8, 77.6, 69.1, 51.7, 63.2, 79.8, 78.1, 62.5,\n",
       "       58.9, 54.8, 82.4, 86. , 77. , 79.5, 61. , 78.6, 78.9, 73.6, 72.5,\n",
       "       71. , 51.4, 74.6, 54.9, 78.4, 88. , 77.1, 71.8, 69.3, 62.6, 63.5,\n",
       "       72.8, 55.6, 74.9, 73.9, 81.1, 73.2, 57.7, 71.2, 74.7, 67.4, 81. ,\n",
       "       75.2, 72.4, 58.4, 49.8, 52.7, 59.6, 82.3, 68.3, 59.2, 59.5, 63.7,\n",
       "       65.9, 59.8, 82.7, 87. , 67.7, 79.7, 79.4, 52.2, 78.5, 48.1, 72. ,\n",
       "       73.1, 75.1, 59.4, 83.3, 53.2, 61.1, 76.4, 46.3, 79.9, 64.6, 75.6,\n",
       "       57.5, 59.7, 69.7, 58.5, 71.7, 77.5, 54.5, 78.7, 68.8, 59. , 62.4,\n",
       "       66.1, 67.2, 57. , 48.5, 73.8, 68.2, 71.9, 64. , 56. , 49.3, 54. ,\n",
       "       67.1, 57.6, 58.3, 79.6, 64.7, 55.3, 77.9, 55. , 83.5, 56.1, 65.8,\n",
       "       78.2, 57.1, 81.7, 69.4, 74.2, 52.6, 82.1, 62.1, 76.1, 53.1, 63.3,\n",
       "       74.3, 64.3, 72.1, 64.9, 75.9, 56.8, 71.3, 77.8])"
      ]
     },
     "execution_count": 68,
     "metadata": {},
     "output_type": "execute_result"
    }
   ],
   "source": [
    "df_test['Life expectancy'].unique()"
   ]
  },
  {
   "cell_type": "markdown",
   "id": "be0c3288",
   "metadata": {},
   "source": [
    "from sklearn.preprocessing import StandardScaler\n",
    "sc = StandardScaler()\n",
    "X_train = sc.fit_transform(X_train)\n",
    "X_test = sc.transform(X_test)"
   ]
  },
  {
   "cell_type": "code",
   "execution_count": 69,
   "id": "17716e2b",
   "metadata": {},
   "outputs": [],
   "source": [
    "#df=df.drop([\"Unnamed: 0\"])\n",
    "X_train=df.drop([\"Life expectancy\",\"binary_life_expectancy\",'Unnamed: 0'],axis=1)\n",
    "y_train=df[\"binary_life_expectancy\"]"
   ]
  },
  {
   "cell_type": "code",
   "execution_count": null,
   "id": "9884e3ad",
   "metadata": {},
   "outputs": [],
   "source": []
  },
  {
   "cell_type": "markdown",
   "id": "2a376d3c",
   "metadata": {},
   "source": [
    "# Feature Scaling"
   ]
  },
  {
   "cell_type": "code",
   "execution_count": 116,
   "id": "71453126",
   "metadata": {},
   "outputs": [],
   "source": [
    "#X_train"
   ]
  },
  {
   "cell_type": "code",
   "execution_count": 71,
   "id": "1cad2b55",
   "metadata": {},
   "outputs": [],
   "source": [
    "from sklearn.preprocessing import StandardScaler\n",
    "sc = StandardScaler()\n",
    "X_train = sc.fit_transform(X_train)\n",
    "X_test = sc.transform(X_test)"
   ]
  },
  {
   "cell_type": "code",
   "execution_count": 72,
   "id": "b4df80bf",
   "metadata": {},
   "outputs": [],
   "source": [
    "from sklearn.preprocessing import StandardScaler\n",
    "sc = StandardScaler()\n",
    "X_train = sc.fit_transform(X_train)\n"
   ]
  },
  {
   "cell_type": "code",
   "execution_count": 73,
   "id": "ef91b246",
   "metadata": {},
   "outputs": [
    {
     "data": {
      "text/plain": [
       "(1764, 9)"
      ]
     },
     "execution_count": 73,
     "metadata": {},
     "output_type": "execute_result"
    }
   ],
   "source": [
    "X_train.shape"
   ]
  },
  {
   "cell_type": "code",
   "execution_count": 74,
   "id": "9eeea595",
   "metadata": {},
   "outputs": [
    {
     "data": {
      "text/plain": [
       "(441, 9)"
      ]
     },
     "execution_count": 74,
     "metadata": {},
     "output_type": "execute_result"
    }
   ],
   "source": [
    "X_test.shape"
   ]
  },
  {
   "cell_type": "code",
   "execution_count": 75,
   "id": "0307b2f2",
   "metadata": {},
   "outputs": [],
   "source": [
    "X_test = sc.transform(X_test)"
   ]
  },
  {
   "cell_type": "code",
   "execution_count": 76,
   "id": "5fce1a68",
   "metadata": {},
   "outputs": [
    {
     "data": {
      "text/plain": [
       "LogisticRegression(max_iter=400, random_state=0)"
      ]
     },
     "execution_count": 76,
     "metadata": {},
     "output_type": "execute_result"
    }
   ],
   "source": [
    "from sklearn.linear_model import LogisticRegression\n",
    "classifier = LogisticRegression(random_state = 0,max_iter=400)\n",
    "classifier.fit(X_train, y_train)"
   ]
  },
  {
   "cell_type": "markdown",
   "id": "71772d1f",
   "metadata": {},
   "source": [
    "# Implementing Logistic regression Regressions on test data"
   ]
  },
  {
   "cell_type": "code",
   "execution_count": 77,
   "id": "dfbe9f51",
   "metadata": {},
   "outputs": [],
   "source": [
    "#Importing Dataset\n",
    "df_test=pd.read_csv(\"prep0122284_test.csv\")"
   ]
  },
  {
   "cell_type": "code",
   "execution_count": null,
   "id": "e643b319",
   "metadata": {},
   "outputs": [],
   "source": [
    "\n"
   ]
  },
  {
   "cell_type": "code",
   "execution_count": 78,
   "id": "e2eef7a3",
   "metadata": {},
   "outputs": [],
   "source": [
    "df_test['Status'].replace(['Developing'],0,inplace=True)\n",
    "df_test['Status'].replace(['Developed'],1,inplace=True)"
   ]
  },
  {
   "cell_type": "code",
   "execution_count": 79,
   "id": "8f9616a0",
   "metadata": {},
   "outputs": [
    {
     "data": {
      "text/html": [
       "<div>\n",
       "<style scoped>\n",
       "    .dataframe tbody tr th:only-of-type {\n",
       "        vertical-align: middle;\n",
       "    }\n",
       "\n",
       "    .dataframe tbody tr th {\n",
       "        vertical-align: top;\n",
       "    }\n",
       "\n",
       "    .dataframe thead th {\n",
       "        text-align: right;\n",
       "    }\n",
       "</style>\n",
       "<table border=\"1\" class=\"dataframe\">\n",
       "  <thead>\n",
       "    <tr style=\"text-align: right;\">\n",
       "      <th></th>\n",
       "      <th>Unnamed: 0</th>\n",
       "      <th>Status</th>\n",
       "      <th>Life expectancy</th>\n",
       "      <th>Adult Mortality</th>\n",
       "      <th>BMI</th>\n",
       "      <th>HIV/AIDS</th>\n",
       "      <th>Diphtheria</th>\n",
       "      <th>Polio</th>\n",
       "      <th>GDP</th>\n",
       "      <th>Income composition of resources</th>\n",
       "      <th>Schooling</th>\n",
       "    </tr>\n",
       "  </thead>\n",
       "  <tbody>\n",
       "    <tr>\n",
       "      <th>0</th>\n",
       "      <td>475</td>\n",
       "      <td>0</td>\n",
       "      <td>61.5</td>\n",
       "      <td>253.0</td>\n",
       "      <td>13.5</td>\n",
       "      <td>1.7</td>\n",
       "      <td>85.0</td>\n",
       "      <td>86.0</td>\n",
       "      <td>48.615184</td>\n",
       "      <td>0.458</td>\n",
       "      <td>9.7</td>\n",
       "    </tr>\n",
       "    <tr>\n",
       "      <th>1</th>\n",
       "      <td>1211</td>\n",
       "      <td>0</td>\n",
       "      <td>67.3</td>\n",
       "      <td>191.0</td>\n",
       "      <td>19.7</td>\n",
       "      <td>0.1</td>\n",
       "      <td>72.0</td>\n",
       "      <td>78.0</td>\n",
       "      <td>1586.254000</td>\n",
       "      <td>0.632</td>\n",
       "      <td>10.9</td>\n",
       "    </tr>\n",
       "    <tr>\n",
       "      <th>2</th>\n",
       "      <td>2399</td>\n",
       "      <td>0</td>\n",
       "      <td>56.5</td>\n",
       "      <td>449.0</td>\n",
       "      <td>46.4</td>\n",
       "      <td>19.0</td>\n",
       "      <td>76.0</td>\n",
       "      <td>75.0</td>\n",
       "      <td>5888.628400</td>\n",
       "      <td>0.622</td>\n",
       "      <td>12.8</td>\n",
       "    </tr>\n",
       "    <tr>\n",
       "      <th>3</th>\n",
       "      <td>148</td>\n",
       "      <td>0</td>\n",
       "      <td>71.6</td>\n",
       "      <td>125.0</td>\n",
       "      <td>48.8</td>\n",
       "      <td>0.1</td>\n",
       "      <td>87.0</td>\n",
       "      <td>91.0</td>\n",
       "      <td>7189.691229</td>\n",
       "      <td>0.741</td>\n",
       "      <td>11.7</td>\n",
       "    </tr>\n",
       "    <tr>\n",
       "      <th>4</th>\n",
       "      <td>1882</td>\n",
       "      <td>0</td>\n",
       "      <td>58.2</td>\n",
       "      <td>252.0</td>\n",
       "      <td>17.3</td>\n",
       "      <td>0.9</td>\n",
       "      <td>7.0</td>\n",
       "      <td>75.0</td>\n",
       "      <td>348.151511</td>\n",
       "      <td>0.312</td>\n",
       "      <td>4.5</td>\n",
       "    </tr>\n",
       "    <tr>\n",
       "      <th>...</th>\n",
       "      <td>...</td>\n",
       "      <td>...</td>\n",
       "      <td>...</td>\n",
       "      <td>...</td>\n",
       "      <td>...</td>\n",
       "      <td>...</td>\n",
       "      <td>...</td>\n",
       "      <td>...</td>\n",
       "      <td>...</td>\n",
       "      <td>...</td>\n",
       "      <td>...</td>\n",
       "    </tr>\n",
       "    <tr>\n",
       "      <th>436</th>\n",
       "      <td>1622</td>\n",
       "      <td>0</td>\n",
       "      <td>56.8</td>\n",
       "      <td>271.0</td>\n",
       "      <td>21.3</td>\n",
       "      <td>1.5</td>\n",
       "      <td>66.0</td>\n",
       "      <td>72.0</td>\n",
       "      <td>835.889980</td>\n",
       "      <td>0.404</td>\n",
       "      <td>7.5</td>\n",
       "    </tr>\n",
       "    <tr>\n",
       "      <th>437</th>\n",
       "      <td>2476</td>\n",
       "      <td>0</td>\n",
       "      <td>71.3</td>\n",
       "      <td>178.0</td>\n",
       "      <td>56.3</td>\n",
       "      <td>0.9</td>\n",
       "      <td>84.0</td>\n",
       "      <td>84.0</td>\n",
       "      <td>9272.413453</td>\n",
       "      <td>0.708</td>\n",
       "      <td>12.7</td>\n",
       "    </tr>\n",
       "    <tr>\n",
       "      <th>438</th>\n",
       "      <td>16</td>\n",
       "      <td>0</td>\n",
       "      <td>77.8</td>\n",
       "      <td>74.0</td>\n",
       "      <td>58.0</td>\n",
       "      <td>0.1</td>\n",
       "      <td>99.0</td>\n",
       "      <td>99.0</td>\n",
       "      <td>3954.227830</td>\n",
       "      <td>0.762</td>\n",
       "      <td>14.2</td>\n",
       "    </tr>\n",
       "    <tr>\n",
       "      <th>439</th>\n",
       "      <td>1668</td>\n",
       "      <td>0</td>\n",
       "      <td>74.2</td>\n",
       "      <td>148.0</td>\n",
       "      <td>32.8</td>\n",
       "      <td>0.1</td>\n",
       "      <td>97.0</td>\n",
       "      <td>98.0</td>\n",
       "      <td>1153.938220</td>\n",
       "      <td>0.769</td>\n",
       "      <td>14.7</td>\n",
       "    </tr>\n",
       "    <tr>\n",
       "      <th>440</th>\n",
       "      <td>1544</td>\n",
       "      <td>1</td>\n",
       "      <td>83.0</td>\n",
       "      <td>76.0</td>\n",
       "      <td>58.8</td>\n",
       "      <td>0.1</td>\n",
       "      <td>99.0</td>\n",
       "      <td>96.0</td>\n",
       "      <td>13198.669300</td>\n",
       "      <td>0.888</td>\n",
       "      <td>13.5</td>\n",
       "    </tr>\n",
       "  </tbody>\n",
       "</table>\n",
       "<p>441 rows × 11 columns</p>\n",
       "</div>"
      ],
      "text/plain": [
       "     Unnamed: 0  Status  Life expectancy  Adult Mortality   BMI  HIV/AIDS  \\\n",
       "0           475       0             61.5            253.0  13.5       1.7   \n",
       "1          1211       0             67.3            191.0  19.7       0.1   \n",
       "2          2399       0             56.5            449.0  46.4      19.0   \n",
       "3           148       0             71.6            125.0  48.8       0.1   \n",
       "4          1882       0             58.2            252.0  17.3       0.9   \n",
       "..          ...     ...              ...              ...   ...       ...   \n",
       "436        1622       0             56.8            271.0  21.3       1.5   \n",
       "437        2476       0             71.3            178.0  56.3       0.9   \n",
       "438          16       0             77.8             74.0  58.0       0.1   \n",
       "439        1668       0             74.2            148.0  32.8       0.1   \n",
       "440        1544       1             83.0             76.0  58.8       0.1   \n",
       "\n",
       "     Diphtheria  Polio           GDP  Income composition of resources  \\\n",
       "0          85.0   86.0     48.615184                            0.458   \n",
       "1          72.0   78.0   1586.254000                            0.632   \n",
       "2          76.0   75.0   5888.628400                            0.622   \n",
       "3          87.0   91.0   7189.691229                            0.741   \n",
       "4           7.0   75.0    348.151511                            0.312   \n",
       "..          ...    ...           ...                              ...   \n",
       "436        66.0   72.0    835.889980                            0.404   \n",
       "437        84.0   84.0   9272.413453                            0.708   \n",
       "438        99.0   99.0   3954.227830                            0.762   \n",
       "439        97.0   98.0   1153.938220                            0.769   \n",
       "440        99.0   96.0  13198.669300                            0.888   \n",
       "\n",
       "     Schooling  \n",
       "0          9.7  \n",
       "1         10.9  \n",
       "2         12.8  \n",
       "3         11.7  \n",
       "4          4.5  \n",
       "..         ...  \n",
       "436        7.5  \n",
       "437       12.7  \n",
       "438       14.2  \n",
       "439       14.7  \n",
       "440       13.5  \n",
       "\n",
       "[441 rows x 11 columns]"
      ]
     },
     "execution_count": 79,
     "metadata": {},
     "output_type": "execute_result"
    }
   ],
   "source": [
    "df_test"
   ]
  },
  {
   "cell_type": "code",
   "execution_count": 80,
   "id": "f1ecb65d",
   "metadata": {},
   "outputs": [],
   "source": [
    "#x1 is the independant varival on test data\n",
    "#y1 is the dependant varival on test data\n",
    "x1=df_test.drop(['Life expectancy','Unnamed: 0'],axis=1)\n",
    "y1=pd.DataFrame(df_test['Life expectancy'])"
   ]
  },
  {
   "cell_type": "code",
   "execution_count": null,
   "id": "ef9ac819",
   "metadata": {},
   "outputs": [],
   "source": []
  },
  {
   "cell_type": "code",
   "execution_count": 81,
   "id": "d727e2e0",
   "metadata": {},
   "outputs": [
    {
     "data": {
      "text/html": [
       "<div>\n",
       "<style scoped>\n",
       "    .dataframe tbody tr th:only-of-type {\n",
       "        vertical-align: middle;\n",
       "    }\n",
       "\n",
       "    .dataframe tbody tr th {\n",
       "        vertical-align: top;\n",
       "    }\n",
       "\n",
       "    .dataframe thead th {\n",
       "        text-align: right;\n",
       "    }\n",
       "</style>\n",
       "<table border=\"1\" class=\"dataframe\">\n",
       "  <thead>\n",
       "    <tr style=\"text-align: right;\">\n",
       "      <th></th>\n",
       "      <th>Life expectancy</th>\n",
       "    </tr>\n",
       "  </thead>\n",
       "  <tbody>\n",
       "    <tr>\n",
       "      <th>0</th>\n",
       "      <td>61.5</td>\n",
       "    </tr>\n",
       "    <tr>\n",
       "      <th>1</th>\n",
       "      <td>67.3</td>\n",
       "    </tr>\n",
       "    <tr>\n",
       "      <th>2</th>\n",
       "      <td>56.5</td>\n",
       "    </tr>\n",
       "    <tr>\n",
       "      <th>3</th>\n",
       "      <td>71.6</td>\n",
       "    </tr>\n",
       "    <tr>\n",
       "      <th>4</th>\n",
       "      <td>58.2</td>\n",
       "    </tr>\n",
       "    <tr>\n",
       "      <th>...</th>\n",
       "      <td>...</td>\n",
       "    </tr>\n",
       "    <tr>\n",
       "      <th>436</th>\n",
       "      <td>56.8</td>\n",
       "    </tr>\n",
       "    <tr>\n",
       "      <th>437</th>\n",
       "      <td>71.3</td>\n",
       "    </tr>\n",
       "    <tr>\n",
       "      <th>438</th>\n",
       "      <td>77.8</td>\n",
       "    </tr>\n",
       "    <tr>\n",
       "      <th>439</th>\n",
       "      <td>74.2</td>\n",
       "    </tr>\n",
       "    <tr>\n",
       "      <th>440</th>\n",
       "      <td>83.0</td>\n",
       "    </tr>\n",
       "  </tbody>\n",
       "</table>\n",
       "<p>441 rows × 1 columns</p>\n",
       "</div>"
      ],
      "text/plain": [
       "     Life expectancy\n",
       "0               61.5\n",
       "1               67.3\n",
       "2               56.5\n",
       "3               71.6\n",
       "4               58.2\n",
       "..               ...\n",
       "436             56.8\n",
       "437             71.3\n",
       "438             77.8\n",
       "439             74.2\n",
       "440             83.0\n",
       "\n",
       "[441 rows x 1 columns]"
      ]
     },
     "execution_count": 81,
     "metadata": {},
     "output_type": "execute_result"
    }
   ],
   "source": [
    "y1"
   ]
  },
  {
   "cell_type": "code",
   "execution_count": 82,
   "id": "c3bbcf91",
   "metadata": {},
   "outputs": [],
   "source": [
    "y1.loc[y1['Life expectancy']<65,'binary_life_expectancy']=0\n",
    "\n"
   ]
  },
  {
   "cell_type": "code",
   "execution_count": 83,
   "id": "b9a93601",
   "metadata": {},
   "outputs": [],
   "source": [
    "y1.loc[y1['Life expectancy']>=65,'binary_life_expectancy']=1"
   ]
  },
  {
   "cell_type": "code",
   "execution_count": 84,
   "id": "1072b205",
   "metadata": {},
   "outputs": [],
   "source": [
    "#df=df.drop([\"Unnamed: 0\"])\n",
    "x1=df.drop([\"Life expectancy\",\"binary_life_expectancy\",'Unnamed: 0'],axis=1)\n",
    "y1=df[\"binary_life_expectancy\"]"
   ]
  },
  {
   "cell_type": "code",
   "execution_count": 85,
   "id": "ff583957",
   "metadata": {},
   "outputs": [
    {
     "data": {
      "text/html": [
       "<div>\n",
       "<style scoped>\n",
       "    .dataframe tbody tr th:only-of-type {\n",
       "        vertical-align: middle;\n",
       "    }\n",
       "\n",
       "    .dataframe tbody tr th {\n",
       "        vertical-align: top;\n",
       "    }\n",
       "\n",
       "    .dataframe thead th {\n",
       "        text-align: right;\n",
       "    }\n",
       "</style>\n",
       "<table border=\"1\" class=\"dataframe\">\n",
       "  <thead>\n",
       "    <tr style=\"text-align: right;\">\n",
       "      <th></th>\n",
       "      <th>Status</th>\n",
       "      <th>Adult Mortality</th>\n",
       "      <th>BMI</th>\n",
       "      <th>HIV/AIDS</th>\n",
       "      <th>Diphtheria</th>\n",
       "      <th>Polio</th>\n",
       "      <th>GDP</th>\n",
       "      <th>Income composition of resources</th>\n",
       "      <th>Schooling</th>\n",
       "    </tr>\n",
       "  </thead>\n",
       "  <tbody>\n",
       "    <tr>\n",
       "      <th>0</th>\n",
       "      <td>0</td>\n",
       "      <td>23.0</td>\n",
       "      <td>2.8</td>\n",
       "      <td>0.4</td>\n",
       "      <td>98.0</td>\n",
       "      <td>98.0</td>\n",
       "      <td>76.569952</td>\n",
       "      <td>0.488</td>\n",
       "      <td>10.8</td>\n",
       "    </tr>\n",
       "    <tr>\n",
       "      <th>1</th>\n",
       "      <td>0</td>\n",
       "      <td>93.0</td>\n",
       "      <td>65.5</td>\n",
       "      <td>0.1</td>\n",
       "      <td>99.0</td>\n",
       "      <td>99.0</td>\n",
       "      <td>2271.569610</td>\n",
       "      <td>0.788</td>\n",
       "      <td>14.1</td>\n",
       "    </tr>\n",
       "    <tr>\n",
       "      <th>2</th>\n",
       "      <td>0</td>\n",
       "      <td>96.0</td>\n",
       "      <td>59.9</td>\n",
       "      <td>0.1</td>\n",
       "      <td>99.0</td>\n",
       "      <td>99.0</td>\n",
       "      <td>676.153440</td>\n",
       "      <td>0.773</td>\n",
       "      <td>14.7</td>\n",
       "    </tr>\n",
       "    <tr>\n",
       "      <th>3</th>\n",
       "      <td>0</td>\n",
       "      <td>219.0</td>\n",
       "      <td>2.6</td>\n",
       "      <td>0.1</td>\n",
       "      <td>88.0</td>\n",
       "      <td>88.0</td>\n",
       "      <td>1391.772325</td>\n",
       "      <td>0.646</td>\n",
       "      <td>11.5</td>\n",
       "    </tr>\n",
       "    <tr>\n",
       "      <th>4</th>\n",
       "      <td>0</td>\n",
       "      <td>146.0</td>\n",
       "      <td>47.0</td>\n",
       "      <td>0.1</td>\n",
       "      <td>87.0</td>\n",
       "      <td>87.0</td>\n",
       "      <td>294.335560</td>\n",
       "      <td>0.663</td>\n",
       "      <td>11.5</td>\n",
       "    </tr>\n",
       "    <tr>\n",
       "      <th>...</th>\n",
       "      <td>...</td>\n",
       "      <td>...</td>\n",
       "      <td>...</td>\n",
       "      <td>...</td>\n",
       "      <td>...</td>\n",
       "      <td>...</td>\n",
       "      <td>...</td>\n",
       "      <td>...</td>\n",
       "      <td>...</td>\n",
       "    </tr>\n",
       "    <tr>\n",
       "      <th>1759</th>\n",
       "      <td>0</td>\n",
       "      <td>19.0</td>\n",
       "      <td>59.5</td>\n",
       "      <td>0.1</td>\n",
       "      <td>95.0</td>\n",
       "      <td>95.0</td>\n",
       "      <td>4132.762920</td>\n",
       "      <td>0.743</td>\n",
       "      <td>14.4</td>\n",
       "    </tr>\n",
       "    <tr>\n",
       "      <th>1760</th>\n",
       "      <td>0</td>\n",
       "      <td>93.0</td>\n",
       "      <td>18.0</td>\n",
       "      <td>0.1</td>\n",
       "      <td>98.0</td>\n",
       "      <td>98.0</td>\n",
       "      <td>3488.493769</td>\n",
       "      <td>0.625</td>\n",
       "      <td>12.1</td>\n",
       "    </tr>\n",
       "    <tr>\n",
       "      <th>1761</th>\n",
       "      <td>0</td>\n",
       "      <td>178.0</td>\n",
       "      <td>16.4</td>\n",
       "      <td>0.2</td>\n",
       "      <td>82.0</td>\n",
       "      <td>83.0</td>\n",
       "      <td>592.183522</td>\n",
       "      <td>0.515</td>\n",
       "      <td>11.1</td>\n",
       "    </tr>\n",
       "    <tr>\n",
       "      <th>1762</th>\n",
       "      <td>1</td>\n",
       "      <td>219.0</td>\n",
       "      <td>56.0</td>\n",
       "      <td>0.1</td>\n",
       "      <td>97.0</td>\n",
       "      <td>98.0</td>\n",
       "      <td>4132.349270</td>\n",
       "      <td>0.746</td>\n",
       "      <td>14.8</td>\n",
       "    </tr>\n",
       "    <tr>\n",
       "      <th>1763</th>\n",
       "      <td>0</td>\n",
       "      <td>41.0</td>\n",
       "      <td>21.3</td>\n",
       "      <td>7.9</td>\n",
       "      <td>63.0</td>\n",
       "      <td>61.0</td>\n",
       "      <td>614.672934</td>\n",
       "      <td>0.437</td>\n",
       "      <td>7.1</td>\n",
       "    </tr>\n",
       "  </tbody>\n",
       "</table>\n",
       "<p>1764 rows × 9 columns</p>\n",
       "</div>"
      ],
      "text/plain": [
       "      Status  Adult Mortality   BMI  HIV/AIDS  Diphtheria  Polio          GDP  \\\n",
       "0          0             23.0   2.8       0.4        98.0   98.0    76.569952   \n",
       "1          0             93.0  65.5       0.1        99.0   99.0  2271.569610   \n",
       "2          0             96.0  59.9       0.1        99.0   99.0   676.153440   \n",
       "3          0            219.0   2.6       0.1        88.0   88.0  1391.772325   \n",
       "4          0            146.0  47.0       0.1        87.0   87.0   294.335560   \n",
       "...      ...              ...   ...       ...         ...    ...          ...   \n",
       "1759       0             19.0  59.5       0.1        95.0   95.0  4132.762920   \n",
       "1760       0             93.0  18.0       0.1        98.0   98.0  3488.493769   \n",
       "1761       0            178.0  16.4       0.2        82.0   83.0   592.183522   \n",
       "1762       1            219.0  56.0       0.1        97.0   98.0  4132.349270   \n",
       "1763       0             41.0  21.3       7.9        63.0   61.0   614.672934   \n",
       "\n",
       "      Income composition of resources  Schooling  \n",
       "0                               0.488       10.8  \n",
       "1                               0.788       14.1  \n",
       "2                               0.773       14.7  \n",
       "3                               0.646       11.5  \n",
       "4                               0.663       11.5  \n",
       "...                               ...        ...  \n",
       "1759                            0.743       14.4  \n",
       "1760                            0.625       12.1  \n",
       "1761                            0.515       11.1  \n",
       "1762                            0.746       14.8  \n",
       "1763                            0.437        7.1  \n",
       "\n",
       "[1764 rows x 9 columns]"
      ]
     },
     "execution_count": 85,
     "metadata": {},
     "output_type": "execute_result"
    }
   ],
   "source": [
    "x1"
   ]
  },
  {
   "cell_type": "code",
   "execution_count": 86,
   "id": "5cc5a1d1",
   "metadata": {},
   "outputs": [],
   "source": [
    "from sklearn.metrics import confusion_matrix, accuracy_score\n",
    "y_pred = classifier.predict(x1)\n",
    "cm = confusion_matrix(y1, y_pred)\n"
   ]
  },
  {
   "cell_type": "code",
   "execution_count": 87,
   "id": "81885b9d",
   "metadata": {},
   "outputs": [
    {
     "name": "stdout",
     "output_type": "stream",
     "text": [
      "[[  66  415]\n",
      " [  16 1267]]\n"
     ]
    },
    {
     "data": {
      "text/plain": [
       "0.7556689342403629"
      ]
     },
     "execution_count": 87,
     "metadata": {},
     "output_type": "execute_result"
    }
   ],
   "source": [
    "print(cm)\n",
    "accuracy_score(y1, y_pred)"
   ]
  },
  {
   "cell_type": "markdown",
   "id": "798c6e80",
   "metadata": {},
   "source": [
    "# 1. What is the accuracy of the logistic regression model on the test dataset"
   ]
  },
  {
   "cell_type": "code",
   "execution_count": 88,
   "id": "314c18ba",
   "metadata": {},
   "outputs": [
    {
     "data": {
      "text/plain": [
       "0.7556689342403629"
      ]
     },
     "execution_count": 88,
     "metadata": {},
     "output_type": "execute_result"
    }
   ],
   "source": [
    "accuracy_score(y1, y_pred)"
   ]
  },
  {
   "cell_type": "markdown",
   "id": "ac323119",
   "metadata": {},
   "source": [
    "# 2. Find the number of false positives & False negatives on the test data set."
   ]
  },
  {
   "cell_type": "code",
   "execution_count": 89,
   "id": "1bddbc41",
   "metadata": {},
   "outputs": [
    {
     "name": "stdout",
     "output_type": "stream",
     "text": [
      "              precision    recall  f1-score   support\n",
      "\n",
      "         0.0       0.80      0.14      0.23       481\n",
      "         1.0       0.75      0.99      0.85      1283\n",
      "\n",
      "    accuracy                           0.76      1764\n",
      "   macro avg       0.78      0.56      0.54      1764\n",
      "weighted avg       0.77      0.76      0.69      1764\n",
      "\n"
     ]
    }
   ],
   "source": [
    "from sklearn.metrics import classification_report\n",
    "print(classification_report(y1,y_pred))"
   ]
  },
  {
   "cell_type": "code",
   "execution_count": 90,
   "id": "9bb86de2",
   "metadata": {},
   "outputs": [
    {
     "data": {
      "text/plain": [
       "(66, 415, 16, 1267)"
      ]
     },
     "execution_count": 90,
     "metadata": {},
     "output_type": "execute_result"
    }
   ],
   "source": [
    "tn, fp, fn, tp = confusion_matrix(y1,y_pred).ravel()\n",
    ">>> (tn, fp, fn, tp)"
   ]
  },
  {
   "cell_type": "markdown",
   "id": "4c654923",
   "metadata": {},
   "source": [
    "# 3. Calculate the precision and recall on the test dataset.\n"
   ]
  },
  {
   "cell_type": "code",
   "execution_count": 91,
   "id": "c9f2af91",
   "metadata": {},
   "outputs": [
    {
     "data": {
      "text/plain": [
       "0.753269916765755"
      ]
     },
     "execution_count": 91,
     "metadata": {},
     "output_type": "execute_result"
    }
   ],
   "source": [
    " from sklearn.metrics import precision_score\n",
    "precision_score(y1,y_pred)"
   ]
  },
  {
   "cell_type": "code",
   "execution_count": 92,
   "id": "19dcca75",
   "metadata": {},
   "outputs": [
    {
     "data": {
      "text/plain": [
       "(0.753269916765755, 0.9875292283710054, 0.854637436762226, None)"
      ]
     },
     "execution_count": 92,
     "metadata": {},
     "output_type": "execute_result"
    }
   ],
   "source": [
    "import numpy as np\n",
    "from sklearn.metrics import precision_recall_fscore_support\n",
    "precision_recall_fscore_support(y1,y_pred,average='binary')"
   ]
  },
  {
   "cell_type": "raw",
   "id": "03008ea7",
   "metadata": {},
   "source": [
    "import numpy as np\n",
    "from sklearn.metrics import precision_recall_curve\n",
    "precision_recall_curve(y1,y_pred)"
   ]
  },
  {
   "cell_type": "code",
   "execution_count": 93,
   "id": "758072d0",
   "metadata": {},
   "outputs": [
    {
     "data": {
      "text/plain": [
       "<sklearn.metrics._plot.precision_recall_curve.PrecisionRecallDisplay at 0x1d69b95e880>"
      ]
     },
     "execution_count": 93,
     "metadata": {},
     "output_type": "execute_result"
    },
    {
     "data": {
      "image/png": "[encoded data removed]",
      "text/plain": [
       "<Figure size 432x288 with 1 Axes>"
      ]
     },
     "metadata": {
      "needs_background": "light"
     },
     "output_type": "display_data"
    }
   ],
   "source": [
    "from sklearn.metrics import (precision_recall_curve,PrecisionRecallDisplay)\n",
    "predictions = classifier.predict(x1)\n",
    "precision, recall, _ = precision_recall_curve(y1, predictions)\n",
    "disp = PrecisionRecallDisplay(precision=precision, recall=recall)\n",
    "disp.plot()"
   ]
  },
  {
   "cell_type": "markdown",
   "id": "50d231d8",
   "metadata": {},
   "source": [
    "# 4. What is the value of the cost function on the train and test dataset?"
   ]
  },
  {
   "cell_type": "code",
   "execution_count": null,
   "id": "9bd2e2f3",
   "metadata": {},
   "outputs": [],
   "source": []
  },
  {
   "cell_type": "markdown",
   "id": "7bc48947",
   "metadata": {},
   "source": [
    "# 5. If we keep the threshold for positive class to be 70% then what is the accuracy of the\n",
    "model on the test dataset?"
   ]
  },
  {
   "cell_type": "code",
   "execution_count": 94,
   "id": "80295856",
   "metadata": {},
   "outputs": [],
   "source": [
    "\n",
    "from sklearn.linear_model import LogisticRegression\n",
    "model = LogisticRegression()"
   ]
  },
  {
   "cell_type": "code",
   "execution_count": 95,
   "id": "ae545690",
   "metadata": {},
   "outputs": [
    {
     "data": {
      "text/plain": [
       "array([[-0.4662524 , -1.07168712, -1.79877285, ..., -0.5195625 ,\n",
       "        -0.698045  , -0.42080311],\n",
       "       [-0.4662524 , -0.51724543,  1.36334885, ..., -0.36995355,\n",
       "         0.72181122,  0.57682622],\n",
       "       [-0.4662524 , -0.49348364,  1.0809265 , ..., -0.47869549,\n",
       "         0.65081841,  0.75821338],\n",
       "       ...,\n",
       "       [-0.4662524 ,  0.1560052 , -1.11288999, ..., -0.4844188 ,\n",
       "        -0.57025794, -0.33010953],\n",
       "       [ 2.14476106,  0.48074962,  0.8842395 , ..., -0.2431247 ,\n",
       "         0.52303135,  0.78844457],\n",
       "       [-0.4662524 , -0.9291164 , -0.86577043, ..., -0.48288594,\n",
       "        -0.93942055, -1.53935721]])"
      ]
     },
     "execution_count": 95,
     "metadata": {},
     "output_type": "execute_result"
    }
   ],
   "source": [
    "X_train"
   ]
  },
  {
   "cell_type": "code",
   "execution_count": 96,
   "id": "b5495266",
   "metadata": {},
   "outputs": [],
   "source": [
    "from sklearn.metrics import recall_score"
   ]
  },
  {
   "cell_type": "code",
   "execution_count": 97,
   "id": "5b68cbf4",
   "metadata": {},
   "outputs": [],
   "source": [
    "from sklearn.metrics import roc_auc_score"
   ]
  },
  {
   "cell_type": "code",
   "execution_count": null,
   "id": "edf72edb",
   "metadata": {},
   "outputs": [],
   "source": []
  },
  {
   "cell_type": "code",
   "execution_count": 99,
   "id": "106a8ec5",
   "metadata": {},
   "outputs": [
    {
     "data": {
      "text/html": [
       "<div>\n",
       "<style scoped>\n",
       "    .dataframe tbody tr th:only-of-type {\n",
       "        vertical-align: middle;\n",
       "    }\n",
       "\n",
       "    .dataframe tbody tr th {\n",
       "        vertical-align: top;\n",
       "    }\n",
       "\n",
       "    .dataframe thead th {\n",
       "        text-align: right;\n",
       "    }\n",
       "</style>\n",
       "<table border=\"1\" class=\"dataframe\">\n",
       "  <thead>\n",
       "    <tr style=\"text-align: right;\">\n",
       "      <th></th>\n",
       "      <th>0</th>\n",
       "    </tr>\n",
       "  </thead>\n",
       "  <tbody>\n",
       "    <tr>\n",
       "      <th>accuracy</th>\n",
       "      <td>0.755669</td>\n",
       "    </tr>\n",
       "    <tr>\n",
       "      <th>recall</th>\n",
       "      <td>0.987529</td>\n",
       "    </tr>\n",
       "    <tr>\n",
       "      <th>precision</th>\n",
       "      <td>0.753270</td>\n",
       "    </tr>\n",
       "    <tr>\n",
       "      <th>roc_auc_score</th>\n",
       "      <td>0.562372</td>\n",
       "    </tr>\n",
       "  </tbody>\n",
       "</table>\n",
       "</div>"
      ],
      "text/plain": [
       "                      0\n",
       "accuracy       0.755669\n",
       "recall         0.987529\n",
       "precision      0.753270\n",
       "roc_auc_score  0.562372"
      ]
     },
     "execution_count": 99,
     "metadata": {},
     "output_type": "execute_result"
    }
   ],
   "source": [
    "pd.DataFrame(data=[accuracy_score(y1, y_pred), recall_score(y1,y_pred),\n",
    "                   precision_score(y1, y_pred), roc_auc_score(y1, y_pred)], \n",
    "             index=[\"accuracy\", \"recall\", \"precision\", \"roc_auc_score\"])"
   ]
  },
  {
   "cell_type": "code",
   "execution_count": null,
   "id": "86dd121b",
   "metadata": {},
   "outputs": [],
   "source": []
  },
  {
   "cell_type": "code",
   "execution_count": 101,
   "id": "7e91713a",
   "metadata": {},
   "outputs": [
    {
     "data": {
      "text/html": [
       "<div>\n",
       "<style scoped>\n",
       "    .dataframe tbody tr th:only-of-type {\n",
       "        vertical-align: middle;\n",
       "    }\n",
       "\n",
       "    .dataframe tbody tr th {\n",
       "        vertical-align: top;\n",
       "    }\n",
       "\n",
       "    .dataframe thead th {\n",
       "        text-align: right;\n",
       "    }\n",
       "</style>\n",
       "<table border=\"1\" class=\"dataframe\">\n",
       "  <thead>\n",
       "    <tr style=\"text-align: right;\">\n",
       "      <th></th>\n",
       "      <th>0</th>\n",
       "    </tr>\n",
       "  </thead>\n",
       "  <tbody>\n",
       "    <tr>\n",
       "      <th>accuracy</th>\n",
       "      <td>0.727324</td>\n",
       "    </tr>\n",
       "    <tr>\n",
       "      <th>recall</th>\n",
       "      <td>1.000000</td>\n",
       "    </tr>\n",
       "    <tr>\n",
       "      <th>precision</th>\n",
       "      <td>0.727324</td>\n",
       "    </tr>\n",
       "    <tr>\n",
       "      <th>roc_auc_score</th>\n",
       "      <td>0.500000</td>\n",
       "    </tr>\n",
       "  </tbody>\n",
       "</table>\n",
       "</div>"
      ],
      "text/plain": [
       "                      0\n",
       "accuracy       0.727324\n",
       "recall         1.000000\n",
       "precision      0.727324\n",
       "roc_auc_score  0.500000"
      ]
     },
     "execution_count": 101,
     "metadata": {},
     "output_type": "execute_result"
    }
   ],
   "source": [
    "\n",
    "\n",
    "clf = LogisticRegression(class_weight=\"balanced\")\n",
    "clf.fit(X_train,y_train)\n",
    "THRESHOLD = 0.50\n",
    "preds = x1.iloc[:,1].apply(lambda x: 1 if x>THRESHOLD else 0)\n",
    "# preds = np.where(y_pred > THRESHOLD, 1, 0)\n",
    "\n",
    "pd.DataFrame(data=[accuracy_score(y1, preds), recall_score(y1, preds),\n",
    "                   precision_score(y1, preds), roc_auc_score(y1, preds)], \n",
    "             index=[\"accuracy\", \"recall\", \"precision\", \"roc_auc_score\"])"
   ]
  },
  {
   "cell_type": "code",
   "execution_count": 102,
   "id": "4ac1bf53",
   "metadata": {},
   "outputs": [],
   "source": [
    "# threshold_list = [0.05,0.1,0.15,0.2,0.25,0.3,0.35,0.4,0.45,0.5,0.55,0.6,0.65,.7,.75,.8,.85,.9,.95,.99]\n",
    "# for i in threshold_list:\n",
    "#     print ('\\n******** For i = {} ******'.format(i))\n",
    "#     Y_test_pred = x1.applymap(lambda x: 1 if x>i else 0)\n",
    "#     test_accuracy = metrics.accuracy_score(Y_test.as_matrix().reshape(Y_test.as_matrix().size,1),\n",
    "#                                            Y_test_pred.iloc[:,1].as_matrix().reshape(Y_test_pred.iloc[:,1].as_matrix().size,1))\n",
    "#     print('Our testing accuracy is {}'.format(test_accuracy))\n",
    "\n",
    "#     print(confusion_matrix(Y_test.as_matrix().reshape(Y_test.as_matrix().size,1),\n",
    "#                            Y_test_pred.iloc[:,1].as_matrix().reshape(Y_test_pred.iloc[:,1].as_matrix().size,1)))"
   ]
  },
  {
   "cell_type": "code",
   "execution_count": 103,
   "id": "231776f2",
   "metadata": {},
   "outputs": [],
   "source": [
    "# x1.iloc[:,1]"
   ]
  },
  {
   "cell_type": "code",
   "execution_count": 104,
   "id": "e3f2285d",
   "metadata": {},
   "outputs": [
    {
     "data": {
      "text/html": [
       "<div>\n",
       "<style scoped>\n",
       "    .dataframe tbody tr th:only-of-type {\n",
       "        vertical-align: middle;\n",
       "    }\n",
       "\n",
       "    .dataframe tbody tr th {\n",
       "        vertical-align: top;\n",
       "    }\n",
       "\n",
       "    .dataframe thead th {\n",
       "        text-align: right;\n",
       "    }\n",
       "</style>\n",
       "<table border=\"1\" class=\"dataframe\">\n",
       "  <thead>\n",
       "    <tr style=\"text-align: right;\">\n",
       "      <th></th>\n",
       "      <th>0</th>\n",
       "    </tr>\n",
       "  </thead>\n",
       "  <tbody>\n",
       "    <tr>\n",
       "      <th>accuracy</th>\n",
       "      <td>0.727324</td>\n",
       "    </tr>\n",
       "    <tr>\n",
       "      <th>recall</th>\n",
       "      <td>1.000000</td>\n",
       "    </tr>\n",
       "    <tr>\n",
       "      <th>precision</th>\n",
       "      <td>0.727324</td>\n",
       "    </tr>\n",
       "    <tr>\n",
       "      <th>roc_auc_score</th>\n",
       "      <td>0.500000</td>\n",
       "    </tr>\n",
       "  </tbody>\n",
       "</table>\n",
       "</div>"
      ],
      "text/plain": [
       "                      0\n",
       "accuracy       0.727324\n",
       "recall         1.000000\n",
       "precision      0.727324\n",
       "roc_auc_score  0.500000"
      ]
     },
     "execution_count": 104,
     "metadata": {},
     "output_type": "execute_result"
    }
   ],
   "source": [
    "clf = LogisticRegression(class_weight=\"balanced\")\n",
    "clf.fit(X_train,y_train)\n",
    "THRESHOLD = 0.50\n",
    "x_prob=classifier.predict_proba(x1)\n",
    "preds = x1.iloc[:,1].apply(lambda x: 1 if x>THRESHOLD else 0)\n",
    "\n",
    "pd.DataFrame(data=[accuracy_score(y1, preds), recall_score(y1, preds),\n",
    "                   precision_score(y1, preds), roc_auc_score(y1, preds)], \n",
    "             index=[\"accuracy\", \"recall\", \"precision\", \"roc_auc_score\"])"
   ]
  },
  {
   "cell_type": "raw",
   "id": "e1db4d00",
   "metadata": {},
   "source": [
    "clf = LogisticRegression(class_weight=\"balanced\")\n",
    "clf.fit(X_train,y_train)\n",
    "THRESHOLD = 0.50\n",
    "x_prob=classifier.predict_proba(x1)\n",
    "preds = x1.iloc[:,1].apply(lambda x: 1 if x>THRESHOLD else 0)\n",
    "\n",
    "pd.DataFrame(data=[accuracy_score(y1, preds), recall_score(y1, preds),\n",
    "                   precision_score(y1, preds), roc_auc_score(y1, preds)], \n",
    "             index=[\"accuracy\", \"recall\", \"precision\", \"roc_auc_score\"])"
   ]
  },
  {
   "cell_type": "markdown",
   "id": "74433e1e",
   "metadata": {},
   "source": [
    "# x_prob=classifier.predict_proba(x1)[:,0]\n",
    "x_prob"
   ]
  },
  {
   "cell_type": "code",
   "execution_count": 105,
   "id": "e0014642",
   "metadata": {},
   "outputs": [
    {
     "data": {
      "text/html": [
       "<div>\n",
       "<style scoped>\n",
       "    .dataframe tbody tr th:only-of-type {\n",
       "        vertical-align: middle;\n",
       "    }\n",
       "\n",
       "    .dataframe tbody tr th {\n",
       "        vertical-align: top;\n",
       "    }\n",
       "\n",
       "    .dataframe thead th {\n",
       "        text-align: right;\n",
       "    }\n",
       "</style>\n",
       "<table border=\"1\" class=\"dataframe\">\n",
       "  <thead>\n",
       "    <tr style=\"text-align: right;\">\n",
       "      <th></th>\n",
       "      <th>0</th>\n",
       "    </tr>\n",
       "  </thead>\n",
       "  <tbody>\n",
       "    <tr>\n",
       "      <th>accuracy</th>\n",
       "      <td>0.757937</td>\n",
       "    </tr>\n",
       "    <tr>\n",
       "      <th>recall</th>\n",
       "      <td>0.987529</td>\n",
       "    </tr>\n",
       "    <tr>\n",
       "      <th>precision</th>\n",
       "      <td>0.755066</td>\n",
       "    </tr>\n",
       "    <tr>\n",
       "      <th>roc_auc_score</th>\n",
       "      <td>0.566530</td>\n",
       "    </tr>\n",
       "  </tbody>\n",
       "</table>\n",
       "</div>"
      ],
      "text/plain": [
       "                      0\n",
       "accuracy       0.757937\n",
       "recall         0.987529\n",
       "precision      0.755066\n",
       "roc_auc_score  0.566530"
      ]
     },
     "execution_count": 105,
     "metadata": {},
     "output_type": "execute_result"
    }
   ],
   "source": [
    "\n",
    "clf = LogisticRegression(class_weight=\"balanced\")\n",
    "clf.fit(X_train, y_train)\n",
    "THRESHOLD = 0.1\n",
    "preds = np.where(clf.predict_proba(x1)[:,1] > THRESHOLD, 1, 0)\n",
    "pd.DataFrame(data=[accuracy_score(y1, preds), recall_score(y1, preds),\n",
    "                   precision_score(y1, preds), roc_auc_score(y1, preds)],\n",
    "             index=[\"accuracy\", \"recall\", \"precision\", \"roc_auc_score\"])"
   ]
  },
  {
   "cell_type": "code",
   "execution_count": 106,
   "id": "f039a153",
   "metadata": {},
   "outputs": [
    {
     "data": {
      "text/html": [
       "<div>\n",
       "<style scoped>\n",
       "    .dataframe tbody tr th:only-of-type {\n",
       "        vertical-align: middle;\n",
       "    }\n",
       "\n",
       "    .dataframe tbody tr th {\n",
       "        vertical-align: top;\n",
       "    }\n",
       "\n",
       "    .dataframe thead th {\n",
       "        text-align: right;\n",
       "    }\n",
       "</style>\n",
       "<table border=\"1\" class=\"dataframe\">\n",
       "  <thead>\n",
       "    <tr style=\"text-align: right;\">\n",
       "      <th></th>\n",
       "      <th>0</th>\n",
       "    </tr>\n",
       "  </thead>\n",
       "  <tbody>\n",
       "    <tr>\n",
       "      <th>accuracy</th>\n",
       "      <td>0.757937</td>\n",
       "    </tr>\n",
       "    <tr>\n",
       "      <th>recall</th>\n",
       "      <td>0.987529</td>\n",
       "    </tr>\n",
       "    <tr>\n",
       "      <th>precision</th>\n",
       "      <td>0.755066</td>\n",
       "    </tr>\n",
       "    <tr>\n",
       "      <th>roc_auc_score</th>\n",
       "      <td>0.566530</td>\n",
       "    </tr>\n",
       "  </tbody>\n",
       "</table>\n",
       "</div>"
      ],
      "text/plain": [
       "                      0\n",
       "accuracy       0.757937\n",
       "recall         0.987529\n",
       "precision      0.755066\n",
       "roc_auc_score  0.566530"
      ]
     },
     "execution_count": 106,
     "metadata": {},
     "output_type": "execute_result"
    }
   ],
   "source": [
    "\n",
    "clf = LogisticRegression(class_weight=\"balanced\")\n",
    "clf.fit(X_train, y_train)\n",
    "THRESHOLD = 0.7\n",
    "preds = np.where(clf.predict_proba(x1)[:,1] > THRESHOLD, 1, 0)\n",
    "pd.DataFrame(data=[accuracy_score(y1, preds), recall_score(y1, preds),\n",
    "                   precision_score(y1, preds), roc_auc_score(y1, preds)],\n",
    "             index=[\"accuracy\", \"recall\", \"precision\", \"roc_auc_score\"])\n"
   ]
  },
  {
   "cell_type": "raw",
   "id": "c644d6fc",
   "metadata": {},
   "source": [
    "\n",
    "clf = LogisticRegression(class_weight=\"balanced\")\n",
    "clf.fit(X_train, y_train)\n",
    "THRESHOLD = 0.7\n",
    "preds = np.where(clf.predict_proba(x1)[:,1] > THRESHOLD, 1, 0)\n",
    "pd.DataFrame(data=[accuracy_score(y1, preds), recall_score(y1, preds),\n",
    "                   precision_score(y1, preds), roc_auc_score(y1, preds)],\n",
    "             index=[\"accuracy\", \"recall\", \"precision\", \"roc_auc_score\"])"
   ]
  },
  {
   "cell_type": "raw",
   "id": "cd389d0e",
   "metadata": {},
   "source": [
    "''''X, y = make_classification(\n",
    "    n_classes=2, class_sep=1.5, weights=[0.9, 0.1],\n",
    "    n_features=20, n_samples=1000, random_state=10\n",
    ")\n",
    "X_train, X_test, y_train, y_test = train_test_split(X, y, test_size=0.33, random_state=42)\n",
    "clf = LogisticRegression(class_weight=\"balanced\")\n",
    "clf.fit(X_train, y_train)\n",
    "THRESHOLD = 0.7\n",
    "preds = np.where(clf.predict_proba(X_test)[:,1] > THRESHOLD, 1, 0)\n",
    "pd.DataFrame(data=[accuracy_score(y_test, preds), recall_score(y_test, preds),\n",
    "                   precision_score(y_test, preds), roc_auc_score(y_test, preds)],\n",
    "             index=[\"accuracy\", \"recall\", \"precision\", \"roc_auc_score\"])'''\n"
   ]
  },
  {
   "cell_type": "code",
   "execution_count": null,
   "id": "35dfe25d",
   "metadata": {},
   "outputs": [],
   "source": [
    "\n"
   ]
  },
  {
   "cell_type": "code",
   "execution_count": null,
   "id": "b376a40f",
   "metadata": {},
   "outputs": [],
   "source": []
  },
  {
   "cell_type": "raw",
   "id": "6ebc3c7b",
   "metadata": {},
   "source": [
    "print('Valuation for test data only:')\n",
    "    print(classification_report(ytest, model.predict(Xtest)))\n",
    "    print(\"----------------------------------------------------------------------\")\n",
    "    print('Valuation for test data only  (new_threshold):')\n",
    "    print(classification_report(ytest, LR_Grid_ytest_THR))"
   ]
  },
  {
   "cell_type": "code",
   "execution_count": null,
   "id": "5d64305d",
   "metadata": {},
   "outputs": [],
   "source": []
  },
  {
   "cell_type": "markdown",
   "id": "72691ac1",
   "metadata": {},
   "source": [
    "# Decision Tree:\n",
    " ## Convert Life expectancy into binary variable >=65 which is true if life expectancy is greaterthan or equal to 65 Take default parameters of Logistics regression in sklearn module\n"
   ]
  },
  {
   "cell_type": "code",
   "execution_count": 333,
   "id": "1a1efe86",
   "metadata": {},
   "outputs": [
    {
     "data": {
      "text/html": [
       "<div>\n",
       "<style scoped>\n",
       "    .dataframe tbody tr th:only-of-type {\n",
       "        vertical-align: middle;\n",
       "    }\n",
       "\n",
       "    .dataframe tbody tr th {\n",
       "        vertical-align: top;\n",
       "    }\n",
       "\n",
       "    .dataframe thead th {\n",
       "        text-align: right;\n",
       "    }\n",
       "</style>\n",
       "<table border=\"1\" class=\"dataframe\">\n",
       "  <thead>\n",
       "    <tr style=\"text-align: right;\">\n",
       "      <th></th>\n",
       "      <th>Unnamed: 0</th>\n",
       "      <th>Status</th>\n",
       "      <th>Life expectancy</th>\n",
       "      <th>Adult Mortality</th>\n",
       "      <th>BMI</th>\n",
       "      <th>HIV/AIDS</th>\n",
       "      <th>Diphtheria</th>\n",
       "      <th>Polio</th>\n",
       "      <th>GDP</th>\n",
       "      <th>Income composition of resources</th>\n",
       "      <th>Schooling</th>\n",
       "      <th>binary_life_expectancy</th>\n",
       "    </tr>\n",
       "  </thead>\n",
       "  <tbody>\n",
       "    <tr>\n",
       "      <th>0</th>\n",
       "      <td>2152</td>\n",
       "      <td>0</td>\n",
       "      <td>65.7</td>\n",
       "      <td>23.0</td>\n",
       "      <td>2.8</td>\n",
       "      <td>0.4</td>\n",
       "      <td>98.0</td>\n",
       "      <td>98.0</td>\n",
       "      <td>76.569952</td>\n",
       "      <td>0.488</td>\n",
       "      <td>10.8</td>\n",
       "      <td>1.0</td>\n",
       "    </tr>\n",
       "    <tr>\n",
       "      <th>1</th>\n",
       "      <td>1406</td>\n",
       "      <td>0</td>\n",
       "      <td>73.4</td>\n",
       "      <td>93.0</td>\n",
       "      <td>65.5</td>\n",
       "      <td>0.1</td>\n",
       "      <td>99.0</td>\n",
       "      <td>99.0</td>\n",
       "      <td>2271.569610</td>\n",
       "      <td>0.788</td>\n",
       "      <td>14.1</td>\n",
       "      <td>1.0</td>\n",
       "    </tr>\n",
       "    <tr>\n",
       "      <th>2</th>\n",
       "      <td>659</td>\n",
       "      <td>0</td>\n",
       "      <td>78.7</td>\n",
       "      <td>96.0</td>\n",
       "      <td>59.9</td>\n",
       "      <td>0.1</td>\n",
       "      <td>99.0</td>\n",
       "      <td>99.0</td>\n",
       "      <td>676.153440</td>\n",
       "      <td>0.773</td>\n",
       "      <td>14.7</td>\n",
       "      <td>1.0</td>\n",
       "    </tr>\n",
       "    <tr>\n",
       "      <th>3</th>\n",
       "      <td>2032</td>\n",
       "      <td>0</td>\n",
       "      <td>67.3</td>\n",
       "      <td>219.0</td>\n",
       "      <td>2.6</td>\n",
       "      <td>0.1</td>\n",
       "      <td>88.0</td>\n",
       "      <td>88.0</td>\n",
       "      <td>1391.772325</td>\n",
       "      <td>0.646</td>\n",
       "      <td>11.5</td>\n",
       "      <td>1.0</td>\n",
       "    </tr>\n",
       "    <tr>\n",
       "      <th>4</th>\n",
       "      <td>44</td>\n",
       "      <td>0</td>\n",
       "      <td>71.7</td>\n",
       "      <td>146.0</td>\n",
       "      <td>47.0</td>\n",
       "      <td>0.1</td>\n",
       "      <td>87.0</td>\n",
       "      <td>87.0</td>\n",
       "      <td>294.335560</td>\n",
       "      <td>0.663</td>\n",
       "      <td>11.5</td>\n",
       "      <td>1.0</td>\n",
       "    </tr>\n",
       "  </tbody>\n",
       "</table>\n",
       "</div>"
      ],
      "text/plain": [
       "   Unnamed: 0  Status  Life expectancy  Adult Mortality   BMI  HIV/AIDS  \\\n",
       "0        2152       0             65.7             23.0   2.8       0.4   \n",
       "1        1406       0             73.4             93.0  65.5       0.1   \n",
       "2         659       0             78.7             96.0  59.9       0.1   \n",
       "3        2032       0             67.3            219.0   2.6       0.1   \n",
       "4          44       0             71.7            146.0  47.0       0.1   \n",
       "\n",
       "   Diphtheria  Polio          GDP  Income composition of resources  Schooling  \\\n",
       "0        98.0   98.0    76.569952                            0.488       10.8   \n",
       "1        99.0   99.0  2271.569610                            0.788       14.1   \n",
       "2        99.0   99.0   676.153440                            0.773       14.7   \n",
       "3        88.0   88.0  1391.772325                            0.646       11.5   \n",
       "4        87.0   87.0   294.335560                            0.663       11.5   \n",
       "\n",
       "   binary_life_expectancy  \n",
       "0                     1.0  \n",
       "1                     1.0  \n",
       "2                     1.0  \n",
       "3                     1.0  \n",
       "4                     1.0  "
      ]
     },
     "execution_count": 333,
     "metadata": {},
     "output_type": "execute_result"
    }
   ],
   "source": [
    "df.head(5)"
   ]
  },
  {
   "cell_type": "code",
   "execution_count": 334,
   "id": "bd713c0a",
   "metadata": {},
   "outputs": [],
   "source": [
    "df.loc[df[\"Life expectancy\"]<65,'binary_life_expectancy']=0\n",
    "df.loc[df['Life expectancy']>=65,'binary_life_expectancy']=1\n",
    "df_test.loc[df_test[\"Life expectancy\"]<65,'binary_life_expectancy']=0\n",
    "df_test.loc[df_test['Life expectancy']>=65,'binary_life_expectancy']=1\n",
    "X_train=df.drop([\"Life expectancy\",\"binary_life_expectancy\",'Unnamed: 0'],axis=1)\n",
    "y_train=df[\"binary_life_expectancy\"]\n"
   ]
  },
  {
   "cell_type": "code",
   "execution_count": 335,
   "id": "c9a7c330",
   "metadata": {},
   "outputs": [
    {
     "name": "stdout",
     "output_type": "stream",
     "text": [
      "(1323, 9)\n",
      "(441, 9)\n"
     ]
    }
   ],
   "source": [
    "#Splitting dataset to train and test\n",
    "from sklearn.model_selection import train_test_split\n",
    "X_train,X_test,y_train,y_test = train_test_split(X_train,y_train,random_state=45)\n",
    "print(X_train.shape)\n",
    "print(X_test.shape)"
   ]
  },
  {
   "cell_type": "code",
   "execution_count": null,
   "id": "344ccef9",
   "metadata": {},
   "outputs": [],
   "source": [
    "from sklearn.preprocessing import StandardScaler\n",
    "sc = StandardScaler()\n",
    "X_train = sc.fit_transform(X_train)\n",
    "X_test = sc.transform(X_test)\n",
    "from sklearn.preprocessing import StandardScaler\n",
    "sc = StandardScaler()\n",
    "X_train = sc.fit_transform(X_train)"
   ]
  },
  {
   "cell_type": "code",
   "execution_count": 300,
   "id": "ca00dd21",
   "metadata": {},
   "outputs": [],
   "source": []
  },
  {
   "cell_type": "code",
   "execution_count": 301,
   "id": "dfd296b8",
   "metadata": {},
   "outputs": [
    {
     "data": {
      "text/plain": [
       "(1323, 9)"
      ]
     },
     "execution_count": 301,
     "metadata": {},
     "output_type": "execute_result"
    }
   ],
   "source": [
    "X_train.shape"
   ]
  },
  {
   "cell_type": "code",
   "execution_count": null,
   "id": "3f19ec68",
   "metadata": {},
   "outputs": [],
   "source": []
  },
  {
   "cell_type": "code",
   "execution_count": 302,
   "id": "220c44e9",
   "metadata": {},
   "outputs": [],
   "source": [
    "X_train=pd.DataFrame(X_train)"
   ]
  },
  {
   "cell_type": "code",
   "execution_count": 303,
   "id": "eba80a38",
   "metadata": {},
   "outputs": [
    {
     "data": {
      "text/html": [
       "<div>\n",
       "<style scoped>\n",
       "    .dataframe tbody tr th:only-of-type {\n",
       "        vertical-align: middle;\n",
       "    }\n",
       "\n",
       "    .dataframe tbody tr th {\n",
       "        vertical-align: top;\n",
       "    }\n",
       "\n",
       "    .dataframe thead th {\n",
       "        text-align: right;\n",
       "    }\n",
       "</style>\n",
       "<table border=\"1\" class=\"dataframe\">\n",
       "  <thead>\n",
       "    <tr style=\"text-align: right;\">\n",
       "      <th></th>\n",
       "      <th>0</th>\n",
       "      <th>1</th>\n",
       "      <th>2</th>\n",
       "      <th>3</th>\n",
       "      <th>4</th>\n",
       "      <th>5</th>\n",
       "      <th>6</th>\n",
       "      <th>7</th>\n",
       "      <th>8</th>\n",
       "    </tr>\n",
       "  </thead>\n",
       "  <tbody>\n",
       "    <tr>\n",
       "      <th>0</th>\n",
       "      <td>-0.465952</td>\n",
       "      <td>0.249904</td>\n",
       "      <td>0.856263</td>\n",
       "      <td>-0.318723</td>\n",
       "      <td>0.134899</td>\n",
       "      <td>0.146552</td>\n",
       "      <td>0.038744</td>\n",
       "      <td>0.317309</td>\n",
       "      <td>0.087698</td>\n",
       "    </tr>\n",
       "    <tr>\n",
       "      <th>1</th>\n",
       "      <td>2.146144</td>\n",
       "      <td>-0.080598</td>\n",
       "      <td>1.234676</td>\n",
       "      <td>-0.318723</td>\n",
       "      <td>0.695588</td>\n",
       "      <td>0.702106</td>\n",
       "      <td>0.344356</td>\n",
       "      <td>0.892277</td>\n",
       "      <td>0.983759</td>\n",
       "    </tr>\n",
       "    <tr>\n",
       "      <th>2</th>\n",
       "      <td>-0.465952</td>\n",
       "      <td>0.967335</td>\n",
       "      <td>-1.222484</td>\n",
       "      <td>-0.205619</td>\n",
       "      <td>-3.315495</td>\n",
       "      <td>-3.272241</td>\n",
       "      <td>-0.505453</td>\n",
       "      <td>-0.880944</td>\n",
       "      <td>-1.240944</td>\n",
       "    </tr>\n",
       "    <tr>\n",
       "      <th>3</th>\n",
       "      <td>-0.465952</td>\n",
       "      <td>-0.628748</td>\n",
       "      <td>-1.641260</td>\n",
       "      <td>-0.318723</td>\n",
       "      <td>0.350549</td>\n",
       "      <td>0.232022</td>\n",
       "      <td>1.382462</td>\n",
       "      <td>1.153187</td>\n",
       "      <td>1.107353</td>\n",
       "    </tr>\n",
       "    <tr>\n",
       "      <th>4</th>\n",
       "      <td>-0.465952</td>\n",
       "      <td>-1.160775</td>\n",
       "      <td>1.133766</td>\n",
       "      <td>-0.318723</td>\n",
       "      <td>0.350549</td>\n",
       "      <td>0.702106</td>\n",
       "      <td>0.353523</td>\n",
       "      <td>0.887445</td>\n",
       "      <td>1.539934</td>\n",
       "    </tr>\n",
       "    <tr>\n",
       "      <th>...</th>\n",
       "      <td>...</td>\n",
       "      <td>...</td>\n",
       "      <td>...</td>\n",
       "      <td>...</td>\n",
       "      <td>...</td>\n",
       "      <td>...</td>\n",
       "      <td>...</td>\n",
       "      <td>...</td>\n",
       "      <td>...</td>\n",
       "    </tr>\n",
       "    <tr>\n",
       "      <th>1318</th>\n",
       "      <td>2.146144</td>\n",
       "      <td>-0.056415</td>\n",
       "      <td>0.760399</td>\n",
       "      <td>-0.318723</td>\n",
       "      <td>0.652458</td>\n",
       "      <td>0.659371</td>\n",
       "      <td>-0.187166</td>\n",
       "      <td>0.703842</td>\n",
       "      <td>0.767468</td>\n",
       "    </tr>\n",
       "    <tr>\n",
       "      <th>1319</th>\n",
       "      <td>-0.465952</td>\n",
       "      <td>0.733565</td>\n",
       "      <td>0.800763</td>\n",
       "      <td>-0.318723</td>\n",
       "      <td>0.695588</td>\n",
       "      <td>0.702106</td>\n",
       "      <td>-0.437924</td>\n",
       "      <td>0.177190</td>\n",
       "      <td>0.273090</td>\n",
       "    </tr>\n",
       "    <tr>\n",
       "      <th>1320</th>\n",
       "      <td>-0.465952</td>\n",
       "      <td>-0.548137</td>\n",
       "      <td>-1.747216</td>\n",
       "      <td>-0.318723</td>\n",
       "      <td>0.695588</td>\n",
       "      <td>0.702106</td>\n",
       "      <td>-0.471665</td>\n",
       "      <td>0.360794</td>\n",
       "      <td>0.149495</td>\n",
       "    </tr>\n",
       "    <tr>\n",
       "      <th>1321</th>\n",
       "      <td>-0.465952</td>\n",
       "      <td>-0.620686</td>\n",
       "      <td>-0.067064</td>\n",
       "      <td>-0.318723</td>\n",
       "      <td>0.609328</td>\n",
       "      <td>0.702106</td>\n",
       "      <td>-0.205029</td>\n",
       "      <td>1.003405</td>\n",
       "      <td>0.582076</td>\n",
       "    </tr>\n",
       "    <tr>\n",
       "      <th>1322</th>\n",
       "      <td>-0.465952</td>\n",
       "      <td>-0.241818</td>\n",
       "      <td>0.901673</td>\n",
       "      <td>-0.318723</td>\n",
       "      <td>0.652458</td>\n",
       "      <td>0.659371</td>\n",
       "      <td>0.016262</td>\n",
       "      <td>0.389784</td>\n",
       "      <td>-0.004998</td>\n",
       "    </tr>\n",
       "  </tbody>\n",
       "</table>\n",
       "<p>1323 rows × 9 columns</p>\n",
       "</div>"
      ],
      "text/plain": [
       "             0         1         2         3         4         5         6  \\\n",
       "0    -0.465952  0.249904  0.856263 -0.318723  0.134899  0.146552  0.038744   \n",
       "1     2.146144 -0.080598  1.234676 -0.318723  0.695588  0.702106  0.344356   \n",
       "2    -0.465952  0.967335 -1.222484 -0.205619 -3.315495 -3.272241 -0.505453   \n",
       "3    -0.465952 -0.628748 -1.641260 -0.318723  0.350549  0.232022  1.382462   \n",
       "4    -0.465952 -1.160775  1.133766 -0.318723  0.350549  0.702106  0.353523   \n",
       "...        ...       ...       ...       ...       ...       ...       ...   \n",
       "1318  2.146144 -0.056415  0.760399 -0.318723  0.652458  0.659371 -0.187166   \n",
       "1319 -0.465952  0.733565  0.800763 -0.318723  0.695588  0.702106 -0.437924   \n",
       "1320 -0.465952 -0.548137 -1.747216 -0.318723  0.695588  0.702106 -0.471665   \n",
       "1321 -0.465952 -0.620686 -0.067064 -0.318723  0.609328  0.702106 -0.205029   \n",
       "1322 -0.465952 -0.241818  0.901673 -0.318723  0.652458  0.659371  0.016262   \n",
       "\n",
       "             7         8  \n",
       "0     0.317309  0.087698  \n",
       "1     0.892277  0.983759  \n",
       "2    -0.880944 -1.240944  \n",
       "3     1.153187  1.107353  \n",
       "4     0.887445  1.539934  \n",
       "...        ...       ...  \n",
       "1318  0.703842  0.767468  \n",
       "1319  0.177190  0.273090  \n",
       "1320  0.360794  0.149495  \n",
       "1321  1.003405  0.582076  \n",
       "1322  0.389784 -0.004998  \n",
       "\n",
       "[1323 rows x 9 columns]"
      ]
     },
     "execution_count": 303,
     "metadata": {},
     "output_type": "execute_result"
    }
   ],
   "source": [
    "X_train"
   ]
  },
  {
   "cell_type": "code",
   "execution_count": 304,
   "id": "817f0c02",
   "metadata": {},
   "outputs": [
    {
     "data": {
      "text/plain": [
       "DecisionTreeClassifier()"
      ]
     },
     "execution_count": 304,
     "metadata": {},
     "output_type": "execute_result"
    }
   ],
   "source": [
    "from sklearn.tree import DecisionTreeClassifier\n",
    "classifier = DecisionTreeClassifier()\n",
    "classifier.fit(X_train, y_train)"
   ]
  },
  {
   "cell_type": "code",
   "execution_count": 305,
   "id": "3239cfb0",
   "metadata": {},
   "outputs": [],
   "source": [
    "y_train_pred = classifier.predict(X_train)"
   ]
  },
  {
   "cell_type": "code",
   "execution_count": null,
   "id": "5a0c67f9",
   "metadata": {},
   "outputs": [],
   "source": []
  },
  {
   "cell_type": "code",
   "execution_count": 306,
   "id": "324d942e",
   "metadata": {},
   "outputs": [],
   "source": [
    "\n",
    "#y_test_pred = clf.predict(X_test)"
   ]
  },
  {
   "cell_type": "markdown",
   "id": "cd58d374",
   "metadata": {},
   "source": [
    "# Implementing Decision Tree  on test data"
   ]
  },
  {
   "cell_type": "code",
   "execution_count": 307,
   "id": "2158356b",
   "metadata": {},
   "outputs": [],
   "source": [
    "df_test['Status'].replace(['Developing'],0,inplace=True)\n",
    "df_test['Status'].replace(['Developed'],1,inplace=True)\n",
    "#x1 is the independant varival on test data\n",
    "#y1 is the dependant varival on test data\n",
    "x1=df_test.drop(['Life expectancy','Unnamed: 0','binary_life_expectancy'],axis=1)\n",
    "y1=pd.DataFrame(df_test['Life expectancy'])\n",
    "y1.loc[y1['Life expectancy']<65,'binary_life_expectancy']=0\n",
    "y1.loc[y1['Life expectancy']>=65,'binary_life_expectancy']=1\n",
    "\n"
   ]
  },
  {
   "cell_type": "code",
   "execution_count": null,
   "id": "a3a315c0",
   "metadata": {},
   "outputs": [],
   "source": []
  },
  {
   "cell_type": "code",
   "execution_count": 308,
   "id": "4e65164f",
   "metadata": {},
   "outputs": [
    {
     "data": {
      "text/html": [
       "<div>\n",
       "<style scoped>\n",
       "    .dataframe tbody tr th:only-of-type {\n",
       "        vertical-align: middle;\n",
       "    }\n",
       "\n",
       "    .dataframe tbody tr th {\n",
       "        vertical-align: top;\n",
       "    }\n",
       "\n",
       "    .dataframe thead th {\n",
       "        text-align: right;\n",
       "    }\n",
       "</style>\n",
       "<table border=\"1\" class=\"dataframe\">\n",
       "  <thead>\n",
       "    <tr style=\"text-align: right;\">\n",
       "      <th></th>\n",
       "      <th>Unnamed: 0</th>\n",
       "      <th>Status</th>\n",
       "      <th>Life expectancy</th>\n",
       "      <th>Adult Mortality</th>\n",
       "      <th>BMI</th>\n",
       "      <th>HIV/AIDS</th>\n",
       "      <th>Diphtheria</th>\n",
       "      <th>Polio</th>\n",
       "      <th>GDP</th>\n",
       "      <th>Income composition of resources</th>\n",
       "      <th>Schooling</th>\n",
       "      <th>binary_life_expectancy</th>\n",
       "    </tr>\n",
       "  </thead>\n",
       "  <tbody>\n",
       "    <tr>\n",
       "      <th>0</th>\n",
       "      <td>2152</td>\n",
       "      <td>0</td>\n",
       "      <td>65.7</td>\n",
       "      <td>23.0</td>\n",
       "      <td>2.8</td>\n",
       "      <td>0.4</td>\n",
       "      <td>98.0</td>\n",
       "      <td>98.0</td>\n",
       "      <td>76.569952</td>\n",
       "      <td>0.488</td>\n",
       "      <td>10.8</td>\n",
       "      <td>1.0</td>\n",
       "    </tr>\n",
       "  </tbody>\n",
       "</table>\n",
       "</div>"
      ],
      "text/plain": [
       "   Unnamed: 0  Status  Life expectancy  Adult Mortality  BMI  HIV/AIDS  \\\n",
       "0        2152       0             65.7             23.0  2.8       0.4   \n",
       "\n",
       "   Diphtheria  Polio        GDP  Income composition of resources  Schooling  \\\n",
       "0        98.0   98.0  76.569952                            0.488       10.8   \n",
       "\n",
       "   binary_life_expectancy  \n",
       "0                     1.0  "
      ]
     },
     "execution_count": 308,
     "metadata": {},
     "output_type": "execute_result"
    }
   ],
   "source": [
    "df.head(1)"
   ]
  },
  {
   "cell_type": "code",
   "execution_count": 309,
   "id": "71557904",
   "metadata": {},
   "outputs": [
    {
     "data": {
      "text/html": [
       "<div>\n",
       "<style scoped>\n",
       "    .dataframe tbody tr th:only-of-type {\n",
       "        vertical-align: middle;\n",
       "    }\n",
       "\n",
       "    .dataframe tbody tr th {\n",
       "        vertical-align: top;\n",
       "    }\n",
       "\n",
       "    .dataframe thead th {\n",
       "        text-align: right;\n",
       "    }\n",
       "</style>\n",
       "<table border=\"1\" class=\"dataframe\">\n",
       "  <thead>\n",
       "    <tr style=\"text-align: right;\">\n",
       "      <th></th>\n",
       "      <th>Status</th>\n",
       "      <th>Adult Mortality</th>\n",
       "      <th>BMI</th>\n",
       "      <th>HIV/AIDS</th>\n",
       "      <th>Diphtheria</th>\n",
       "      <th>Polio</th>\n",
       "      <th>GDP</th>\n",
       "      <th>Income composition of resources</th>\n",
       "      <th>Schooling</th>\n",
       "    </tr>\n",
       "  </thead>\n",
       "  <tbody>\n",
       "    <tr>\n",
       "      <th>0</th>\n",
       "      <td>0</td>\n",
       "      <td>253.0</td>\n",
       "      <td>13.5</td>\n",
       "      <td>1.7</td>\n",
       "      <td>85.0</td>\n",
       "      <td>86.0</td>\n",
       "      <td>48.615184</td>\n",
       "      <td>0.458</td>\n",
       "      <td>9.7</td>\n",
       "    </tr>\n",
       "  </tbody>\n",
       "</table>\n",
       "</div>"
      ],
      "text/plain": [
       "   Status  Adult Mortality   BMI  HIV/AIDS  Diphtheria  Polio        GDP  \\\n",
       "0       0            253.0  13.5       1.7        85.0   86.0  48.615184   \n",
       "\n",
       "   Income composition of resources  Schooling  \n",
       "0                            0.458        9.7  "
      ]
     },
     "execution_count": 309,
     "metadata": {},
     "output_type": "execute_result"
    }
   ],
   "source": [
    "x1.head(1)"
   ]
  },
  {
   "cell_type": "code",
   "execution_count": 310,
   "id": "f63f05ea",
   "metadata": {},
   "outputs": [],
   "source": [
    "from sklearn.metrics import confusion_matrix, accuracy_score\n",
    "y_pred = classifier.predict(x1)\n",
    "#y_train_pred = classifier.predict(X1)"
   ]
  },
  {
   "cell_type": "code",
   "execution_count": 311,
   "id": "ceb0a5c0",
   "metadata": {},
   "outputs": [],
   "source": [
    "y1=y1.drop('Life expectancy',axis=1)"
   ]
  },
  {
   "cell_type": "markdown",
   "id": "71b58aa0",
   "metadata": {},
   "source": [
    "# What is the accuracy of the Decision Tree model on the test dataset?"
   ]
  },
  {
   "cell_type": "code",
   "execution_count": 312,
   "id": "8d12f603",
   "metadata": {},
   "outputs": [
    {
     "name": "stdout",
     "output_type": "stream",
     "text": [
      "Train score 1.0\n",
      "Test score 0.6984126984126984\n"
     ]
    }
   ],
   "source": [
    "#from sklearn.metrics import accuracy_score,confusion_matrix\n",
    "print(f'Train score {accuracy_score(y_train_pred,y_train)}')\n",
    "print(f'Test score {accuracy_score(y_pred,y1)}')"
   ]
  },
  {
   "cell_type": "code",
   "execution_count": 313,
   "id": "522ba088",
   "metadata": {},
   "outputs": [
    {
     "data": {
      "image/png": "[encoded data removed]",
      "text/plain": [
       "<Figure size 1296x1296 with 1 Axes>"
      ]
     },
     "metadata": {
      "needs_background": "light"
     },
     "output_type": "display_data"
    }
   ],
   "source": [
    "from sklearn import tree\n",
    "plt.figure(figsize=(18,18))\n",
    "tree.plot_tree(classifier ,filled=True)\n",
    "plt.show()"
   ]
  },
  {
   "cell_type": "code",
   "execution_count": 314,
   "id": "b26845f4",
   "metadata": {},
   "outputs": [
    {
     "data": {
      "text/plain": [
       "<AxesSubplot:>"
      ]
     },
     "execution_count": 314,
     "metadata": {},
     "output_type": "execute_result"
    },
    {
     "data": {
      "image/png": "[encoded data removed]",
      "text/plain": [
       "<Figure size 720x360 with 2 Axes>"
      ]
     },
     "metadata": {
      "needs_background": "light"
     },
     "output_type": "display_data"
    }
   ],
   "source": [
    "plt.figure(figsize=(10,5))\n",
    "sns.heatmap(confusion_matrix(y_train_pred,y_train), annot=True,cmap='rainbow')"
   ]
  },
  {
   "cell_type": "code",
   "execution_count": 315,
   "id": "2664e04b",
   "metadata": {},
   "outputs": [
    {
     "data": {
      "text/plain": [
       "<AxesSubplot:>"
      ]
     },
     "execution_count": 315,
     "metadata": {},
     "output_type": "execute_result"
    },
    {
     "data": {
      "image/png": "[encoded data removed]",
      "text/plain": [
       "<Figure size 720x360 with 2 Axes>"
      ]
     },
     "metadata": {
      "needs_background": "light"
     },
     "output_type": "display_data"
    }
   ],
   "source": [
    "plt.figure(figsize=(10,5))\n",
    "sns.heatmap(confusion_matrix(y_test_pred,y_test), annot=True,cmap='rainbow')"
   ]
  },
  {
   "cell_type": "markdown",
   "id": "7219ab46",
   "metadata": {},
   "source": [
    "# To reduce the overfitting of this model we should do early stoping of that tree which is called (cut)pruning and these are two types (1) Pre Pruning (2) Post Pruning¶"
   ]
  },
  {
   "cell_type": "markdown",
   "id": "e61abc03",
   "metadata": {},
   "source": [
    "# Pre Pruning"
   ]
  },
  {
   "cell_type": "markdown",
   "id": "89ac8134",
   "metadata": {},
   "source": [
    "Pre pruning is nothing but stoping the growth of decision tree on an early stage. We will use GridSearchCV to choose optimum values for paramemters limiting the growth of trees."
   ]
  },
  {
   "cell_type": "code",
   "execution_count": null,
   "id": "3e98592d",
   "metadata": {},
   "outputs": [],
   "source": []
  },
  {
   "cell_type": "code",
   "execution_count": 316,
   "id": "31030f35",
   "metadata": {},
   "outputs": [
    {
     "data": {
      "text/plain": [
       "GridSearchCV(estimator=DecisionTreeClassifier(),\n",
       "             param_grid={'max_depth': [2, 4, 6, 8, 10, 12],\n",
       "                         'min_samples_leaf': [1, 2],\n",
       "                         'min_samples_split': [2, 3, 4]})"
      ]
     },
     "execution_count": 316,
     "metadata": {},
     "output_type": "execute_result"
    }
   ],
   "source": [
    "from sklearn.model_selection import RandomizedSearchCV, GridSearchCV\n",
    "params = {'max_depth': [2,4,6,8,10,12],\n",
    "         'min_samples_split': [2,3,4],\n",
    "         'min_samples_leaf': [1,2]}\n",
    "\n",
    "classifier = DecisionTreeClassifier()\n",
    "gscv = GridSearchCV(estimator=classifier,param_grid=params)\n",
    "gscv.fit(X_train,y_train)"
   ]
  },
  {
   "cell_type": "code",
   "execution_count": 317,
   "id": "f8952686",
   "metadata": {},
   "outputs": [
    {
     "name": "stdout",
     "output_type": "stream",
     "text": [
      "Train score 0.9909297052154195\n",
      "Test score 0.6984126984126984\n"
     ]
    }
   ],
   "source": [
    "model = gscv.best_estimator_\n",
    "model.fit(X_train,y_train)\n",
    "y_train_pred = model.predict(X_train)\n",
    "y_test_pred = model.predict(x1)\n",
    "\n",
    "print(f'Train score {accuracy_score(y_train_pred,y_train)}')\n",
    "print(f'Test score {accuracy_score(y_test_pred,y1)}')"
   ]
  },
  {
   "cell_type": "code",
   "execution_count": 318,
   "id": "b34a6137",
   "metadata": {},
   "outputs": [
    {
     "name": "stdout",
     "output_type": "stream",
     "text": [
      "Train score 0.9901738473167044\n",
      "Test score 0.6984126984126984\n"
     ]
    }
   ],
   "source": [
    "model = gscv.best_estimator_\n",
    "model.fit(X_train,y_train)\n",
    "y_train_pred_gscv = model.predict(X_train)\n",
    "y_test_pred_gscv = model.predict(x1)\n",
    "\n",
    "print(f'Train score {accuracy_score(y_train_pred_gscv,y_train)}')\n",
    "print(f'Test score {accuracy_score(y_test_pred_gscv,y1)}')\n"
   ]
  },
  {
   "cell_type": "code",
   "execution_count": 319,
   "id": "96bc63ae",
   "metadata": {},
   "outputs": [
    {
     "data": {
      "image/png": "[encoded data removed]",
      "text/plain": [
       "<Figure size 1296x1296 with 1 Axes>"
      ]
     },
     "metadata": {
      "needs_background": "light"
     },
     "output_type": "display_data"
    }
   ],
   "source": [
    "from sklearn import tree\n",
    "plt.figure(figsize=(18,18))\n",
    "tree.plot_tree(model,filled=True)\n",
    "plt.show()"
   ]
  },
  {
   "cell_type": "markdown",
   "id": "67cd825e",
   "metadata": {},
   "source": [
    "# Post Pruning"
   ]
  },
  {
   "cell_type": "code",
   "execution_count": 320,
   "id": "e32de0f2",
   "metadata": {},
   "outputs": [
    {
     "name": "stdout",
     "output_type": "stream",
     "text": [
      "[0.         0.00050087 0.00063318 0.00069287 0.00070187 0.00071387\n",
      " 0.00074804 0.00100781 0.00113379 0.00115178 0.00117255 0.00131197\n",
      " 0.00132275 0.00138574 0.00143973 0.00144105 0.00190803 0.00235156\n",
      " 0.00368576 0.00371409 0.00410323 0.00418629 0.00458829 0.00798573\n",
      " 0.01167585 0.0286739  0.04655939 0.23267511]\n"
     ]
    }
   ],
   "source": [
    "path = clf.cost_complexity_pruning_path(X_train, y_train)\n",
    "ccp_alphas, impurities = path.ccp_alphas, path.impurities\n",
    "print(ccp_alphas)"
   ]
  },
  {
   "cell_type": "code",
   "execution_count": 321,
   "id": "1d8f708e",
   "metadata": {},
   "outputs": [],
   "source": [
    "# For each alpha we will append our model to a list\n",
    "clfs = []\n",
    "for ccp_alpha in ccp_alphas:\n",
    "    clf = DecisionTreeClassifier(random_state=0, ccp_alpha=ccp_alpha)\n",
    "    clf.fit(X_train, y_train)\n",
    "    clfs.append(clf)"
   ]
  },
  {
   "cell_type": "code",
   "execution_count": 322,
   "id": "27db6046",
   "metadata": {},
   "outputs": [
    {
     "data": {
      "image/png": "[encoded data removed]",
      "text/plain": [
       "<Figure size 432x288 with 1 Axes>"
      ]
     },
     "metadata": {
      "needs_background": "light"
     },
     "output_type": "display_data"
    }
   ],
   "source": [
    "clfs = clfs[:-1]\n",
    "ccp_alphas = ccp_alphas[:-1]\n",
    "node_counts = [clf.tree_.node_count for clf in clfs]\n",
    "depth = [clf.tree_.max_depth for clf in clfs]\n",
    "plt.scatter(ccp_alphas,node_counts)\n",
    "plt.scatter(ccp_alphas,depth)\n",
    "plt.plot(ccp_alphas,node_counts,label='no of nodes',drawstyle=\"steps-post\")\n",
    "plt.plot(ccp_alphas,depth,label='depth',drawstyle=\"steps-post\")\n",
    "plt.legend()\n",
    "plt.show()"
   ]
  },
  {
   "cell_type": "code",
   "execution_count": 323,
   "id": "6801bf58",
   "metadata": {},
   "outputs": [
    {
     "data": {
      "image/png": "[encoded data removed]",
      "text/plain": [
       "<Figure size 432x288 with 1 Axes>"
      ]
     },
     "metadata": {
      "needs_background": "light"
     },
     "output_type": "display_data"
    }
   ],
   "source": [
    "train_acc = []\n",
    "test_acc = []\n",
    "for c in clfs:\n",
    "    y_train_pred = c.predict(X_train)\n",
    "    y_test_pred = c.predict(x1)\n",
    "    train_acc.append(accuracy_score(y_train_pred,y_train))\n",
    "    test_acc.append(accuracy_score(y_test_pred,y1))\n",
    "\n",
    "plt.scatter(ccp_alphas,train_acc)\n",
    "plt.scatter(ccp_alphas,test_acc)\n",
    "plt.plot(ccp_alphas,train_acc,label='train_accuracy',drawstyle=\"steps-post\")\n",
    "plt.plot(ccp_alphas,test_acc,label='test_accuracy',drawstyle=\"steps-post\")\n",
    "plt.legend()\n",
    "plt.title('Accuracy vs alpha')\n",
    "plt.show()"
   ]
  },
  {
   "cell_type": "code",
   "execution_count": 324,
   "id": "5fb65985",
   "metadata": {},
   "outputs": [
    {
     "name": "stdout",
     "output_type": "stream",
     "text": [
      "Train score 0.9070294784580499\n",
      "Test score 0.6984126984126984\n"
     ]
    }
   ],
   "source": [
    "clf_ = DecisionTreeClassifier(random_state=0,ccp_alpha=0.05)\n",
    "clf_.fit(X_train,y_train)\n",
    "y_train_pred = clf_.predict(X_train)\n",
    "y_test_pred = clf_.predict(x1)\n",
    "\n",
    "print(f'Train score {accuracy_score(y_train_pred,y_train)}')\n",
    "print(f'Test score {accuracy_score(y_test_pred,y1)}')"
   ]
  },
  {
   "cell_type": "markdown",
   "id": "df187843",
   "metadata": {},
   "source": [
    "# 2 Find the number of false positives & False negatives on the test data set.\n"
   ]
  },
  {
   "cell_type": "code",
   "execution_count": 325,
   "id": "cda60492",
   "metadata": {},
   "outputs": [
    {
     "data": {
      "text/plain": [
       "(0, 133, 0, 308)"
      ]
     },
     "execution_count": 325,
     "metadata": {},
     "output_type": "execute_result"
    }
   ],
   "source": [
    "tn, fp, fn, tp = confusion_matrix(y1,y_pred).ravel()\n",
    ">>> (tn, fp, fn, tp)"
   ]
  },
  {
   "cell_type": "markdown",
   "id": "8a49b3df",
   "metadata": {},
   "source": [
    "# 3 Calculate the precision and recall on the test dataset.\n"
   ]
  },
  {
   "cell_type": "code",
   "execution_count": 326,
   "id": "cf3dded0",
   "metadata": {},
   "outputs": [
    {
     "data": {
      "text/plain": [
       "(0.6984126984126984, 1.0, 0.822429906542056, None)"
      ]
     },
     "execution_count": 326,
     "metadata": {},
     "output_type": "execute_result"
    }
   ],
   "source": [
    "import numpy as np\n",
    "from sklearn.metrics import precision_recall_fscore_support\n",
    "precision_recall_fscore_support(y1,y_pred,average='binary')"
   ]
  },
  {
   "cell_type": "markdown",
   "id": "5c518ae0",
   "metadata": {},
   "source": [
    "# 4 What is the Gini Impurity of the train dataset?"
   ]
  },
  {
   "cell_type": "code",
   "execution_count": 327,
   "id": "17efdcbb",
   "metadata": {},
   "outputs": [
    {
     "data": {
      "image/png": "[encoded data removed]",
      "text/plain": [
       "<Figure size 1296x864 with 1 Axes>"
      ]
     },
     "metadata": {
      "needs_background": "light"
     },
     "output_type": "display_data"
    }
   ],
   "source": [
    "plt.figure(figsize=(18,12))\n",
    "tree.plot_tree(clf)\n",
    "plt.show()"
   ]
  },
  {
   "cell_type": "code",
   "execution_count": 328,
   "id": "57401a86",
   "metadata": {},
   "outputs": [
    {
     "data": {
      "text/html": [
       "<div>\n",
       "<style scoped>\n",
       "    .dataframe tbody tr th:only-of-type {\n",
       "        vertical-align: middle;\n",
       "    }\n",
       "\n",
       "    .dataframe tbody tr th {\n",
       "        vertical-align: top;\n",
       "    }\n",
       "\n",
       "    .dataframe thead th {\n",
       "        text-align: right;\n",
       "    }\n",
       "</style>\n",
       "<table border=\"1\" class=\"dataframe\">\n",
       "  <thead>\n",
       "    <tr style=\"text-align: right;\">\n",
       "      <th></th>\n",
       "      <th>Status</th>\n",
       "      <th>Adult Mortality</th>\n",
       "      <th>BMI</th>\n",
       "      <th>HIV/AIDS</th>\n",
       "      <th>Diphtheria</th>\n",
       "      <th>Polio</th>\n",
       "      <th>GDP</th>\n",
       "      <th>Income composition of resources</th>\n",
       "      <th>Schooling</th>\n",
       "    </tr>\n",
       "  </thead>\n",
       "  <tbody>\n",
       "    <tr>\n",
       "      <th>0</th>\n",
       "      <td>0</td>\n",
       "      <td>253.0</td>\n",
       "      <td>13.5</td>\n",
       "      <td>1.7</td>\n",
       "      <td>85.0</td>\n",
       "      <td>86.0</td>\n",
       "      <td>48.615184</td>\n",
       "      <td>0.458</td>\n",
       "      <td>9.7</td>\n",
       "    </tr>\n",
       "    <tr>\n",
       "      <th>1</th>\n",
       "      <td>0</td>\n",
       "      <td>191.0</td>\n",
       "      <td>19.7</td>\n",
       "      <td>0.1</td>\n",
       "      <td>72.0</td>\n",
       "      <td>78.0</td>\n",
       "      <td>1586.254000</td>\n",
       "      <td>0.632</td>\n",
       "      <td>10.9</td>\n",
       "    </tr>\n",
       "    <tr>\n",
       "      <th>2</th>\n",
       "      <td>0</td>\n",
       "      <td>449.0</td>\n",
       "      <td>46.4</td>\n",
       "      <td>19.0</td>\n",
       "      <td>76.0</td>\n",
       "      <td>75.0</td>\n",
       "      <td>5888.628400</td>\n",
       "      <td>0.622</td>\n",
       "      <td>12.8</td>\n",
       "    </tr>\n",
       "    <tr>\n",
       "      <th>3</th>\n",
       "      <td>0</td>\n",
       "      <td>125.0</td>\n",
       "      <td>48.8</td>\n",
       "      <td>0.1</td>\n",
       "      <td>87.0</td>\n",
       "      <td>91.0</td>\n",
       "      <td>7189.691229</td>\n",
       "      <td>0.741</td>\n",
       "      <td>11.7</td>\n",
       "    </tr>\n",
       "    <tr>\n",
       "      <th>4</th>\n",
       "      <td>0</td>\n",
       "      <td>252.0</td>\n",
       "      <td>17.3</td>\n",
       "      <td>0.9</td>\n",
       "      <td>7.0</td>\n",
       "      <td>75.0</td>\n",
       "      <td>348.151511</td>\n",
       "      <td>0.312</td>\n",
       "      <td>4.5</td>\n",
       "    </tr>\n",
       "    <tr>\n",
       "      <th>...</th>\n",
       "      <td>...</td>\n",
       "      <td>...</td>\n",
       "      <td>...</td>\n",
       "      <td>...</td>\n",
       "      <td>...</td>\n",
       "      <td>...</td>\n",
       "      <td>...</td>\n",
       "      <td>...</td>\n",
       "      <td>...</td>\n",
       "    </tr>\n",
       "    <tr>\n",
       "      <th>436</th>\n",
       "      <td>0</td>\n",
       "      <td>271.0</td>\n",
       "      <td>21.3</td>\n",
       "      <td>1.5</td>\n",
       "      <td>66.0</td>\n",
       "      <td>72.0</td>\n",
       "      <td>835.889980</td>\n",
       "      <td>0.404</td>\n",
       "      <td>7.5</td>\n",
       "    </tr>\n",
       "    <tr>\n",
       "      <th>437</th>\n",
       "      <td>0</td>\n",
       "      <td>178.0</td>\n",
       "      <td>56.3</td>\n",
       "      <td>0.9</td>\n",
       "      <td>84.0</td>\n",
       "      <td>84.0</td>\n",
       "      <td>9272.413453</td>\n",
       "      <td>0.708</td>\n",
       "      <td>12.7</td>\n",
       "    </tr>\n",
       "    <tr>\n",
       "      <th>438</th>\n",
       "      <td>0</td>\n",
       "      <td>74.0</td>\n",
       "      <td>58.0</td>\n",
       "      <td>0.1</td>\n",
       "      <td>99.0</td>\n",
       "      <td>99.0</td>\n",
       "      <td>3954.227830</td>\n",
       "      <td>0.762</td>\n",
       "      <td>14.2</td>\n",
       "    </tr>\n",
       "    <tr>\n",
       "      <th>439</th>\n",
       "      <td>0</td>\n",
       "      <td>148.0</td>\n",
       "      <td>32.8</td>\n",
       "      <td>0.1</td>\n",
       "      <td>97.0</td>\n",
       "      <td>98.0</td>\n",
       "      <td>1153.938220</td>\n",
       "      <td>0.769</td>\n",
       "      <td>14.7</td>\n",
       "    </tr>\n",
       "    <tr>\n",
       "      <th>440</th>\n",
       "      <td>1</td>\n",
       "      <td>76.0</td>\n",
       "      <td>58.8</td>\n",
       "      <td>0.1</td>\n",
       "      <td>99.0</td>\n",
       "      <td>96.0</td>\n",
       "      <td>13198.669300</td>\n",
       "      <td>0.888</td>\n",
       "      <td>13.5</td>\n",
       "    </tr>\n",
       "  </tbody>\n",
       "</table>\n",
       "<p>441 rows × 9 columns</p>\n",
       "</div>"
      ],
      "text/plain": [
       "     Status  Adult Mortality   BMI  HIV/AIDS  Diphtheria  Polio           GDP  \\\n",
       "0         0            253.0  13.5       1.7        85.0   86.0     48.615184   \n",
       "1         0            191.0  19.7       0.1        72.0   78.0   1586.254000   \n",
       "2         0            449.0  46.4      19.0        76.0   75.0   5888.628400   \n",
       "3         0            125.0  48.8       0.1        87.0   91.0   7189.691229   \n",
       "4         0            252.0  17.3       0.9         7.0   75.0    348.151511   \n",
       "..      ...              ...   ...       ...         ...    ...           ...   \n",
       "436       0            271.0  21.3       1.5        66.0   72.0    835.889980   \n",
       "437       0            178.0  56.3       0.9        84.0   84.0   9272.413453   \n",
       "438       0             74.0  58.0       0.1        99.0   99.0   3954.227830   \n",
       "439       0            148.0  32.8       0.1        97.0   98.0   1153.938220   \n",
       "440       1             76.0  58.8       0.1        99.0   96.0  13198.669300   \n",
       "\n",
       "     Income composition of resources  Schooling  \n",
       "0                              0.458        9.7  \n",
       "1                              0.632       10.9  \n",
       "2                              0.622       12.8  \n",
       "3                              0.741       11.7  \n",
       "4                              0.312        4.5  \n",
       "..                               ...        ...  \n",
       "436                            0.404        7.5  \n",
       "437                            0.708       12.7  \n",
       "438                            0.762       14.2  \n",
       "439                            0.769       14.7  \n",
       "440                            0.888       13.5  \n",
       "\n",
       "[441 rows x 9 columns]"
      ]
     },
     "execution_count": 328,
     "metadata": {},
     "output_type": "execute_result"
    }
   ],
   "source": [
    "x1"
   ]
  },
  {
   "cell_type": "markdown",
   "id": "d321d541",
   "metadata": {},
   "source": [
    "# Random Forest:¶\n",
    "Convert Life expectancy into binary variable >=65 which is true if life expectancy is greater than or equal to 65 Take default parameters of Logistics regression in sklearn module"
   ]
  },
  {
   "cell_type": "code",
   "execution_count": 336,
   "id": "aa6f0723",
   "metadata": {},
   "outputs": [
    {
     "data": {
      "text/html": [
       "<div>\n",
       "<style scoped>\n",
       "    .dataframe tbody tr th:only-of-type {\n",
       "        vertical-align: middle;\n",
       "    }\n",
       "\n",
       "    .dataframe tbody tr th {\n",
       "        vertical-align: top;\n",
       "    }\n",
       "\n",
       "    .dataframe thead th {\n",
       "        text-align: right;\n",
       "    }\n",
       "</style>\n",
       "<table border=\"1\" class=\"dataframe\">\n",
       "  <thead>\n",
       "    <tr style=\"text-align: right;\">\n",
       "      <th></th>\n",
       "      <th>Unnamed: 0</th>\n",
       "      <th>Status</th>\n",
       "      <th>Life expectancy</th>\n",
       "      <th>Adult Mortality</th>\n",
       "      <th>BMI</th>\n",
       "      <th>HIV/AIDS</th>\n",
       "      <th>Diphtheria</th>\n",
       "      <th>Polio</th>\n",
       "      <th>GDP</th>\n",
       "      <th>Income composition of resources</th>\n",
       "      <th>Schooling</th>\n",
       "      <th>binary_life_expectancy</th>\n",
       "    </tr>\n",
       "  </thead>\n",
       "  <tbody>\n",
       "    <tr>\n",
       "      <th>0</th>\n",
       "      <td>2152</td>\n",
       "      <td>0</td>\n",
       "      <td>65.7</td>\n",
       "      <td>23.0</td>\n",
       "      <td>2.8</td>\n",
       "      <td>0.4</td>\n",
       "      <td>98.0</td>\n",
       "      <td>98.0</td>\n",
       "      <td>76.569952</td>\n",
       "      <td>0.488</td>\n",
       "      <td>10.8</td>\n",
       "      <td>1.0</td>\n",
       "    </tr>\n",
       "    <tr>\n",
       "      <th>1</th>\n",
       "      <td>1406</td>\n",
       "      <td>0</td>\n",
       "      <td>73.4</td>\n",
       "      <td>93.0</td>\n",
       "      <td>65.5</td>\n",
       "      <td>0.1</td>\n",
       "      <td>99.0</td>\n",
       "      <td>99.0</td>\n",
       "      <td>2271.569610</td>\n",
       "      <td>0.788</td>\n",
       "      <td>14.1</td>\n",
       "      <td>1.0</td>\n",
       "    </tr>\n",
       "    <tr>\n",
       "      <th>2</th>\n",
       "      <td>659</td>\n",
       "      <td>0</td>\n",
       "      <td>78.7</td>\n",
       "      <td>96.0</td>\n",
       "      <td>59.9</td>\n",
       "      <td>0.1</td>\n",
       "      <td>99.0</td>\n",
       "      <td>99.0</td>\n",
       "      <td>676.153440</td>\n",
       "      <td>0.773</td>\n",
       "      <td>14.7</td>\n",
       "      <td>1.0</td>\n",
       "    </tr>\n",
       "    <tr>\n",
       "      <th>3</th>\n",
       "      <td>2032</td>\n",
       "      <td>0</td>\n",
       "      <td>67.3</td>\n",
       "      <td>219.0</td>\n",
       "      <td>2.6</td>\n",
       "      <td>0.1</td>\n",
       "      <td>88.0</td>\n",
       "      <td>88.0</td>\n",
       "      <td>1391.772325</td>\n",
       "      <td>0.646</td>\n",
       "      <td>11.5</td>\n",
       "      <td>1.0</td>\n",
       "    </tr>\n",
       "    <tr>\n",
       "      <th>4</th>\n",
       "      <td>44</td>\n",
       "      <td>0</td>\n",
       "      <td>71.7</td>\n",
       "      <td>146.0</td>\n",
       "      <td>47.0</td>\n",
       "      <td>0.1</td>\n",
       "      <td>87.0</td>\n",
       "      <td>87.0</td>\n",
       "      <td>294.335560</td>\n",
       "      <td>0.663</td>\n",
       "      <td>11.5</td>\n",
       "      <td>1.0</td>\n",
       "    </tr>\n",
       "  </tbody>\n",
       "</table>\n",
       "</div>"
      ],
      "text/plain": [
       "   Unnamed: 0  Status  Life expectancy  Adult Mortality   BMI  HIV/AIDS  \\\n",
       "0        2152       0             65.7             23.0   2.8       0.4   \n",
       "1        1406       0             73.4             93.0  65.5       0.1   \n",
       "2         659       0             78.7             96.0  59.9       0.1   \n",
       "3        2032       0             67.3            219.0   2.6       0.1   \n",
       "4          44       0             71.7            146.0  47.0       0.1   \n",
       "\n",
       "   Diphtheria  Polio          GDP  Income composition of resources  Schooling  \\\n",
       "0        98.0   98.0    76.569952                            0.488       10.8   \n",
       "1        99.0   99.0  2271.569610                            0.788       14.1   \n",
       "2        99.0   99.0   676.153440                            0.773       14.7   \n",
       "3        88.0   88.0  1391.772325                            0.646       11.5   \n",
       "4        87.0   87.0   294.335560                            0.663       11.5   \n",
       "\n",
       "   binary_life_expectancy  \n",
       "0                     1.0  \n",
       "1                     1.0  \n",
       "2                     1.0  \n",
       "3                     1.0  \n",
       "4                     1.0  "
      ]
     },
     "execution_count": 336,
     "metadata": {},
     "output_type": "execute_result"
    }
   ],
   "source": [
    "df.head()"
   ]
  },
  {
   "cell_type": "code",
   "execution_count": 338,
   "id": "ef94a01f",
   "metadata": {},
   "outputs": [],
   "source": [
    "df=df.drop('Unnamed: 0',axis=1)"
   ]
  },
  {
   "cell_type": "code",
   "execution_count": 339,
   "id": "044ccead",
   "metadata": {},
   "outputs": [],
   "source": [
    "df_test=df_test.drop('Unnamed: 0',axis=1)"
   ]
  },
  {
   "cell_type": "code",
   "execution_count": 341,
   "id": "19afda23",
   "metadata": {},
   "outputs": [
    {
     "data": {
      "text/html": [
       "<div>\n",
       "<style scoped>\n",
       "    .dataframe tbody tr th:only-of-type {\n",
       "        vertical-align: middle;\n",
       "    }\n",
       "\n",
       "    .dataframe tbody tr th {\n",
       "        vertical-align: top;\n",
       "    }\n",
       "\n",
       "    .dataframe thead th {\n",
       "        text-align: right;\n",
       "    }\n",
       "</style>\n",
       "<table border=\"1\" class=\"dataframe\">\n",
       "  <thead>\n",
       "    <tr style=\"text-align: right;\">\n",
       "      <th></th>\n",
       "      <th>Status</th>\n",
       "      <th>Life expectancy</th>\n",
       "      <th>Adult Mortality</th>\n",
       "      <th>BMI</th>\n",
       "      <th>HIV/AIDS</th>\n",
       "      <th>Diphtheria</th>\n",
       "      <th>Polio</th>\n",
       "      <th>GDP</th>\n",
       "      <th>Income composition of resources</th>\n",
       "      <th>Schooling</th>\n",
       "      <th>binary_life_expectancy</th>\n",
       "    </tr>\n",
       "  </thead>\n",
       "  <tbody>\n",
       "    <tr>\n",
       "      <th>0</th>\n",
       "      <td>0</td>\n",
       "      <td>65.7</td>\n",
       "      <td>23.0</td>\n",
       "      <td>2.8</td>\n",
       "      <td>0.4</td>\n",
       "      <td>98.0</td>\n",
       "      <td>98.0</td>\n",
       "      <td>76.569952</td>\n",
       "      <td>0.488</td>\n",
       "      <td>10.8</td>\n",
       "      <td>1.0</td>\n",
       "    </tr>\n",
       "  </tbody>\n",
       "</table>\n",
       "</div>"
      ],
      "text/plain": [
       "   Status  Life expectancy  Adult Mortality  BMI  HIV/AIDS  Diphtheria  Polio  \\\n",
       "0       0             65.7             23.0  2.8       0.4        98.0   98.0   \n",
       "\n",
       "         GDP  Income composition of resources  Schooling  \\\n",
       "0  76.569952                            0.488       10.8   \n",
       "\n",
       "   binary_life_expectancy  \n",
       "0                     1.0  "
      ]
     },
     "execution_count": 341,
     "metadata": {},
     "output_type": "execute_result"
    }
   ],
   "source": [
    "df.head(1)"
   ]
  },
  {
   "cell_type": "code",
   "execution_count": 342,
   "id": "b9965737",
   "metadata": {},
   "outputs": [
    {
     "data": {
      "text/html": [
       "<div>\n",
       "<style scoped>\n",
       "    .dataframe tbody tr th:only-of-type {\n",
       "        vertical-align: middle;\n",
       "    }\n",
       "\n",
       "    .dataframe tbody tr th {\n",
       "        vertical-align: top;\n",
       "    }\n",
       "\n",
       "    .dataframe thead th {\n",
       "        text-align: right;\n",
       "    }\n",
       "</style>\n",
       "<table border=\"1\" class=\"dataframe\">\n",
       "  <thead>\n",
       "    <tr style=\"text-align: right;\">\n",
       "      <th></th>\n",
       "      <th>Status</th>\n",
       "      <th>Life expectancy</th>\n",
       "      <th>Adult Mortality</th>\n",
       "      <th>BMI</th>\n",
       "      <th>HIV/AIDS</th>\n",
       "      <th>Diphtheria</th>\n",
       "      <th>Polio</th>\n",
       "      <th>GDP</th>\n",
       "      <th>Income composition of resources</th>\n",
       "      <th>Schooling</th>\n",
       "      <th>binary_life_expectancy</th>\n",
       "    </tr>\n",
       "  </thead>\n",
       "  <tbody>\n",
       "    <tr>\n",
       "      <th>0</th>\n",
       "      <td>0</td>\n",
       "      <td>61.5</td>\n",
       "      <td>253.0</td>\n",
       "      <td>13.5</td>\n",
       "      <td>1.7</td>\n",
       "      <td>85.0</td>\n",
       "      <td>86.0</td>\n",
       "      <td>48.615184</td>\n",
       "      <td>0.458</td>\n",
       "      <td>9.7</td>\n",
       "      <td>0.0</td>\n",
       "    </tr>\n",
       "  </tbody>\n",
       "</table>\n",
       "</div>"
      ],
      "text/plain": [
       "   Status  Life expectancy  Adult Mortality   BMI  HIV/AIDS  Diphtheria  \\\n",
       "0       0             61.5            253.0  13.5       1.7        85.0   \n",
       "\n",
       "   Polio        GDP  Income composition of resources  Schooling  \\\n",
       "0   86.0  48.615184                            0.458        9.7   \n",
       "\n",
       "   binary_life_expectancy  \n",
       "0                     0.0  "
      ]
     },
     "execution_count": 342,
     "metadata": {},
     "output_type": "execute_result"
    }
   ],
   "source": [
    "df_test.head(1)"
   ]
  },
  {
   "cell_type": "code",
   "execution_count": 343,
   "id": "d10332ad",
   "metadata": {},
   "outputs": [],
   "source": [
    "df.loc[df[\"Life expectancy\"]<65,'binary_life_expectancy']=0\n",
    "df.loc[df['Life expectancy']>=65,'binary_life_expectancy']=1\n",
    "df_test.loc[df_test[\"Life expectancy\"]<65,'binary_life_expectancy']=0\n",
    "df_test.loc[df_test['Life expectancy']>=65,'binary_life_expectancy']=1\n",
    "X_train=df.drop([\"Life expectancy\",\"binary_life_expectancy\"],axis=1)\n",
    "y_train=df[\"binary_life_expectancy\"]\n"
   ]
  },
  {
   "cell_type": "code",
   "execution_count": 345,
   "id": "c5605f4b",
   "metadata": {},
   "outputs": [],
   "source": [
    "df_test['Status'].replace(['Developing'],0,inplace=True)\n",
    "df_test['Status'].replace(['Developed'],1,inplace=True)\n",
    "#x1 is the independant varival on test data\n",
    "#y1 is the dependant varival on test data\n",
    "x1=df_test.drop(['Life expectancy','binary_life_expectancy'],axis=1)\n",
    "y1=pd.DataFrame(df_test['Life expectancy'])\n",
    "y1.loc[y1['Life expectancy']<65,'binary_life_expectancy']=0\n",
    "y1.loc[y1['Life expectancy']>=65,'binary_life_expectancy']=1\n",
    "\n"
   ]
  },
  {
   "cell_type": "markdown",
   "id": "f53fdc09",
   "metadata": {},
   "source": [
    "# 1 What is the accuracy of the model on the test dataset?"
   ]
  },
  {
   "cell_type": "code",
   "execution_count": 346,
   "id": "f5b006fa",
   "metadata": {},
   "outputs": [],
   "source": [
    "from sklearn.ensemble import RandomForestClassifier"
   ]
  },
  {
   "cell_type": "code",
   "execution_count": 351,
   "id": "6986475a",
   "metadata": {},
   "outputs": [
    {
     "data": {
      "text/html": [
       "<div>\n",
       "<style scoped>\n",
       "    .dataframe tbody tr th:only-of-type {\n",
       "        vertical-align: middle;\n",
       "    }\n",
       "\n",
       "    .dataframe tbody tr th {\n",
       "        vertical-align: top;\n",
       "    }\n",
       "\n",
       "    .dataframe thead th {\n",
       "        text-align: right;\n",
       "    }\n",
       "</style>\n",
       "<table border=\"1\" class=\"dataframe\">\n",
       "  <thead>\n",
       "    <tr style=\"text-align: right;\">\n",
       "      <th></th>\n",
       "      <th>Status</th>\n",
       "      <th>Adult Mortality</th>\n",
       "      <th>BMI</th>\n",
       "      <th>HIV/AIDS</th>\n",
       "      <th>Diphtheria</th>\n",
       "      <th>Polio</th>\n",
       "      <th>GDP</th>\n",
       "      <th>Income composition of resources</th>\n",
       "      <th>Schooling</th>\n",
       "    </tr>\n",
       "  </thead>\n",
       "  <tbody>\n",
       "    <tr>\n",
       "      <th>0</th>\n",
       "      <td>0</td>\n",
       "      <td>253.0</td>\n",
       "      <td>13.5</td>\n",
       "      <td>1.7</td>\n",
       "      <td>85.0</td>\n",
       "      <td>86.0</td>\n",
       "      <td>48.615184</td>\n",
       "      <td>0.458</td>\n",
       "      <td>9.7</td>\n",
       "    </tr>\n",
       "    <tr>\n",
       "      <th>1</th>\n",
       "      <td>0</td>\n",
       "      <td>191.0</td>\n",
       "      <td>19.7</td>\n",
       "      <td>0.1</td>\n",
       "      <td>72.0</td>\n",
       "      <td>78.0</td>\n",
       "      <td>1586.254000</td>\n",
       "      <td>0.632</td>\n",
       "      <td>10.9</td>\n",
       "    </tr>\n",
       "    <tr>\n",
       "      <th>2</th>\n",
       "      <td>0</td>\n",
       "      <td>449.0</td>\n",
       "      <td>46.4</td>\n",
       "      <td>19.0</td>\n",
       "      <td>76.0</td>\n",
       "      <td>75.0</td>\n",
       "      <td>5888.628400</td>\n",
       "      <td>0.622</td>\n",
       "      <td>12.8</td>\n",
       "    </tr>\n",
       "    <tr>\n",
       "      <th>3</th>\n",
       "      <td>0</td>\n",
       "      <td>125.0</td>\n",
       "      <td>48.8</td>\n",
       "      <td>0.1</td>\n",
       "      <td>87.0</td>\n",
       "      <td>91.0</td>\n",
       "      <td>7189.691229</td>\n",
       "      <td>0.741</td>\n",
       "      <td>11.7</td>\n",
       "    </tr>\n",
       "    <tr>\n",
       "      <th>4</th>\n",
       "      <td>0</td>\n",
       "      <td>252.0</td>\n",
       "      <td>17.3</td>\n",
       "      <td>0.9</td>\n",
       "      <td>7.0</td>\n",
       "      <td>75.0</td>\n",
       "      <td>348.151511</td>\n",
       "      <td>0.312</td>\n",
       "      <td>4.5</td>\n",
       "    </tr>\n",
       "    <tr>\n",
       "      <th>...</th>\n",
       "      <td>...</td>\n",
       "      <td>...</td>\n",
       "      <td>...</td>\n",
       "      <td>...</td>\n",
       "      <td>...</td>\n",
       "      <td>...</td>\n",
       "      <td>...</td>\n",
       "      <td>...</td>\n",
       "      <td>...</td>\n",
       "    </tr>\n",
       "    <tr>\n",
       "      <th>436</th>\n",
       "      <td>0</td>\n",
       "      <td>271.0</td>\n",
       "      <td>21.3</td>\n",
       "      <td>1.5</td>\n",
       "      <td>66.0</td>\n",
       "      <td>72.0</td>\n",
       "      <td>835.889980</td>\n",
       "      <td>0.404</td>\n",
       "      <td>7.5</td>\n",
       "    </tr>\n",
       "    <tr>\n",
       "      <th>437</th>\n",
       "      <td>0</td>\n",
       "      <td>178.0</td>\n",
       "      <td>56.3</td>\n",
       "      <td>0.9</td>\n",
       "      <td>84.0</td>\n",
       "      <td>84.0</td>\n",
       "      <td>9272.413453</td>\n",
       "      <td>0.708</td>\n",
       "      <td>12.7</td>\n",
       "    </tr>\n",
       "    <tr>\n",
       "      <th>438</th>\n",
       "      <td>0</td>\n",
       "      <td>74.0</td>\n",
       "      <td>58.0</td>\n",
       "      <td>0.1</td>\n",
       "      <td>99.0</td>\n",
       "      <td>99.0</td>\n",
       "      <td>3954.227830</td>\n",
       "      <td>0.762</td>\n",
       "      <td>14.2</td>\n",
       "    </tr>\n",
       "    <tr>\n",
       "      <th>439</th>\n",
       "      <td>0</td>\n",
       "      <td>148.0</td>\n",
       "      <td>32.8</td>\n",
       "      <td>0.1</td>\n",
       "      <td>97.0</td>\n",
       "      <td>98.0</td>\n",
       "      <td>1153.938220</td>\n",
       "      <td>0.769</td>\n",
       "      <td>14.7</td>\n",
       "    </tr>\n",
       "    <tr>\n",
       "      <th>440</th>\n",
       "      <td>1</td>\n",
       "      <td>76.0</td>\n",
       "      <td>58.8</td>\n",
       "      <td>0.1</td>\n",
       "      <td>99.0</td>\n",
       "      <td>96.0</td>\n",
       "      <td>13198.669300</td>\n",
       "      <td>0.888</td>\n",
       "      <td>13.5</td>\n",
       "    </tr>\n",
       "  </tbody>\n",
       "</table>\n",
       "<p>441 rows × 9 columns</p>\n",
       "</div>"
      ],
      "text/plain": [
       "     Status  Adult Mortality   BMI  HIV/AIDS  Diphtheria  Polio           GDP  \\\n",
       "0         0            253.0  13.5       1.7        85.0   86.0     48.615184   \n",
       "1         0            191.0  19.7       0.1        72.0   78.0   1586.254000   \n",
       "2         0            449.0  46.4      19.0        76.0   75.0   5888.628400   \n",
       "3         0            125.0  48.8       0.1        87.0   91.0   7189.691229   \n",
       "4         0            252.0  17.3       0.9         7.0   75.0    348.151511   \n",
       "..      ...              ...   ...       ...         ...    ...           ...   \n",
       "436       0            271.0  21.3       1.5        66.0   72.0    835.889980   \n",
       "437       0            178.0  56.3       0.9        84.0   84.0   9272.413453   \n",
       "438       0             74.0  58.0       0.1        99.0   99.0   3954.227830   \n",
       "439       0            148.0  32.8       0.1        97.0   98.0   1153.938220   \n",
       "440       1             76.0  58.8       0.1        99.0   96.0  13198.669300   \n",
       "\n",
       "     Income composition of resources  Schooling  \n",
       "0                              0.458        9.7  \n",
       "1                              0.632       10.9  \n",
       "2                              0.622       12.8  \n",
       "3                              0.741       11.7  \n",
       "4                              0.312        4.5  \n",
       "..                               ...        ...  \n",
       "436                            0.404        7.5  \n",
       "437                            0.708       12.7  \n",
       "438                            0.762       14.2  \n",
       "439                            0.769       14.7  \n",
       "440                            0.888       13.5  \n",
       "\n",
       "[441 rows x 9 columns]"
      ]
     },
     "execution_count": 351,
     "metadata": {},
     "output_type": "execute_result"
    }
   ],
   "source": [
    "x1"
   ]
  },
  {
   "cell_type": "code",
   "execution_count": 352,
   "id": "d7dc3ff9",
   "metadata": {},
   "outputs": [
    {
     "data": {
      "text/html": [
       "<div>\n",
       "<style scoped>\n",
       "    .dataframe tbody tr th:only-of-type {\n",
       "        vertical-align: middle;\n",
       "    }\n",
       "\n",
       "    .dataframe tbody tr th {\n",
       "        vertical-align: top;\n",
       "    }\n",
       "\n",
       "    .dataframe thead th {\n",
       "        text-align: right;\n",
       "    }\n",
       "</style>\n",
       "<table border=\"1\" class=\"dataframe\">\n",
       "  <thead>\n",
       "    <tr style=\"text-align: right;\">\n",
       "      <th></th>\n",
       "      <th>Status</th>\n",
       "      <th>Adult Mortality</th>\n",
       "      <th>BMI</th>\n",
       "      <th>HIV/AIDS</th>\n",
       "      <th>Diphtheria</th>\n",
       "      <th>Polio</th>\n",
       "      <th>GDP</th>\n",
       "      <th>Income composition of resources</th>\n",
       "      <th>Schooling</th>\n",
       "    </tr>\n",
       "  </thead>\n",
       "  <tbody>\n",
       "    <tr>\n",
       "      <th>0</th>\n",
       "      <td>0</td>\n",
       "      <td>23.0</td>\n",
       "      <td>2.8</td>\n",
       "      <td>0.4</td>\n",
       "      <td>98.0</td>\n",
       "      <td>98.0</td>\n",
       "      <td>76.569952</td>\n",
       "      <td>0.488</td>\n",
       "      <td>10.8</td>\n",
       "    </tr>\n",
       "    <tr>\n",
       "      <th>1</th>\n",
       "      <td>0</td>\n",
       "      <td>93.0</td>\n",
       "      <td>65.5</td>\n",
       "      <td>0.1</td>\n",
       "      <td>99.0</td>\n",
       "      <td>99.0</td>\n",
       "      <td>2271.569610</td>\n",
       "      <td>0.788</td>\n",
       "      <td>14.1</td>\n",
       "    </tr>\n",
       "    <tr>\n",
       "      <th>2</th>\n",
       "      <td>0</td>\n",
       "      <td>96.0</td>\n",
       "      <td>59.9</td>\n",
       "      <td>0.1</td>\n",
       "      <td>99.0</td>\n",
       "      <td>99.0</td>\n",
       "      <td>676.153440</td>\n",
       "      <td>0.773</td>\n",
       "      <td>14.7</td>\n",
       "    </tr>\n",
       "    <tr>\n",
       "      <th>3</th>\n",
       "      <td>0</td>\n",
       "      <td>219.0</td>\n",
       "      <td>2.6</td>\n",
       "      <td>0.1</td>\n",
       "      <td>88.0</td>\n",
       "      <td>88.0</td>\n",
       "      <td>1391.772325</td>\n",
       "      <td>0.646</td>\n",
       "      <td>11.5</td>\n",
       "    </tr>\n",
       "    <tr>\n",
       "      <th>4</th>\n",
       "      <td>0</td>\n",
       "      <td>146.0</td>\n",
       "      <td>47.0</td>\n",
       "      <td>0.1</td>\n",
       "      <td>87.0</td>\n",
       "      <td>87.0</td>\n",
       "      <td>294.335560</td>\n",
       "      <td>0.663</td>\n",
       "      <td>11.5</td>\n",
       "    </tr>\n",
       "    <tr>\n",
       "      <th>...</th>\n",
       "      <td>...</td>\n",
       "      <td>...</td>\n",
       "      <td>...</td>\n",
       "      <td>...</td>\n",
       "      <td>...</td>\n",
       "      <td>...</td>\n",
       "      <td>...</td>\n",
       "      <td>...</td>\n",
       "      <td>...</td>\n",
       "    </tr>\n",
       "    <tr>\n",
       "      <th>1759</th>\n",
       "      <td>0</td>\n",
       "      <td>19.0</td>\n",
       "      <td>59.5</td>\n",
       "      <td>0.1</td>\n",
       "      <td>95.0</td>\n",
       "      <td>95.0</td>\n",
       "      <td>4132.762920</td>\n",
       "      <td>0.743</td>\n",
       "      <td>14.4</td>\n",
       "    </tr>\n",
       "    <tr>\n",
       "      <th>1760</th>\n",
       "      <td>0</td>\n",
       "      <td>93.0</td>\n",
       "      <td>18.0</td>\n",
       "      <td>0.1</td>\n",
       "      <td>98.0</td>\n",
       "      <td>98.0</td>\n",
       "      <td>3488.493769</td>\n",
       "      <td>0.625</td>\n",
       "      <td>12.1</td>\n",
       "    </tr>\n",
       "    <tr>\n",
       "      <th>1761</th>\n",
       "      <td>0</td>\n",
       "      <td>178.0</td>\n",
       "      <td>16.4</td>\n",
       "      <td>0.2</td>\n",
       "      <td>82.0</td>\n",
       "      <td>83.0</td>\n",
       "      <td>592.183522</td>\n",
       "      <td>0.515</td>\n",
       "      <td>11.1</td>\n",
       "    </tr>\n",
       "    <tr>\n",
       "      <th>1762</th>\n",
       "      <td>1</td>\n",
       "      <td>219.0</td>\n",
       "      <td>56.0</td>\n",
       "      <td>0.1</td>\n",
       "      <td>97.0</td>\n",
       "      <td>98.0</td>\n",
       "      <td>4132.349270</td>\n",
       "      <td>0.746</td>\n",
       "      <td>14.8</td>\n",
       "    </tr>\n",
       "    <tr>\n",
       "      <th>1763</th>\n",
       "      <td>0</td>\n",
       "      <td>41.0</td>\n",
       "      <td>21.3</td>\n",
       "      <td>7.9</td>\n",
       "      <td>63.0</td>\n",
       "      <td>61.0</td>\n",
       "      <td>614.672934</td>\n",
       "      <td>0.437</td>\n",
       "      <td>7.1</td>\n",
       "    </tr>\n",
       "  </tbody>\n",
       "</table>\n",
       "<p>1764 rows × 9 columns</p>\n",
       "</div>"
      ],
      "text/plain": [
       "      Status  Adult Mortality   BMI  HIV/AIDS  Diphtheria  Polio          GDP  \\\n",
       "0          0             23.0   2.8       0.4        98.0   98.0    76.569952   \n",
       "1          0             93.0  65.5       0.1        99.0   99.0  2271.569610   \n",
       "2          0             96.0  59.9       0.1        99.0   99.0   676.153440   \n",
       "3          0            219.0   2.6       0.1        88.0   88.0  1391.772325   \n",
       "4          0            146.0  47.0       0.1        87.0   87.0   294.335560   \n",
       "...      ...              ...   ...       ...         ...    ...          ...   \n",
       "1759       0             19.0  59.5       0.1        95.0   95.0  4132.762920   \n",
       "1760       0             93.0  18.0       0.1        98.0   98.0  3488.493769   \n",
       "1761       0            178.0  16.4       0.2        82.0   83.0   592.183522   \n",
       "1762       1            219.0  56.0       0.1        97.0   98.0  4132.349270   \n",
       "1763       0             41.0  21.3       7.9        63.0   61.0   614.672934   \n",
       "\n",
       "      Income composition of resources  Schooling  \n",
       "0                               0.488       10.8  \n",
       "1                               0.788       14.1  \n",
       "2                               0.773       14.7  \n",
       "3                               0.646       11.5  \n",
       "4                               0.663       11.5  \n",
       "...                               ...        ...  \n",
       "1759                            0.743       14.4  \n",
       "1760                            0.625       12.1  \n",
       "1761                            0.515       11.1  \n",
       "1762                            0.746       14.8  \n",
       "1763                            0.437        7.1  \n",
       "\n",
       "[1764 rows x 9 columns]"
      ]
     },
     "execution_count": 352,
     "metadata": {},
     "output_type": "execute_result"
    }
   ],
   "source": [
    "X_train"
   ]
  },
  {
   "cell_type": "code",
   "execution_count": 354,
   "id": "c3f6ae60",
   "metadata": {},
   "outputs": [
    {
     "data": {
      "text/html": [
       "<div>\n",
       "<style scoped>\n",
       "    .dataframe tbody tr th:only-of-type {\n",
       "        vertical-align: middle;\n",
       "    }\n",
       "\n",
       "    .dataframe tbody tr th {\n",
       "        vertical-align: top;\n",
       "    }\n",
       "\n",
       "    .dataframe thead th {\n",
       "        text-align: right;\n",
       "    }\n",
       "</style>\n",
       "<table border=\"1\" class=\"dataframe\">\n",
       "  <thead>\n",
       "    <tr style=\"text-align: right;\">\n",
       "      <th></th>\n",
       "      <th>binary_life_expectancy</th>\n",
       "    </tr>\n",
       "  </thead>\n",
       "  <tbody>\n",
       "    <tr>\n",
       "      <th>0</th>\n",
       "      <td>0.0</td>\n",
       "    </tr>\n",
       "    <tr>\n",
       "      <th>1</th>\n",
       "      <td>1.0</td>\n",
       "    </tr>\n",
       "    <tr>\n",
       "      <th>2</th>\n",
       "      <td>0.0</td>\n",
       "    </tr>\n",
       "    <tr>\n",
       "      <th>3</th>\n",
       "      <td>1.0</td>\n",
       "    </tr>\n",
       "    <tr>\n",
       "      <th>4</th>\n",
       "      <td>0.0</td>\n",
       "    </tr>\n",
       "    <tr>\n",
       "      <th>...</th>\n",
       "      <td>...</td>\n",
       "    </tr>\n",
       "    <tr>\n",
       "      <th>436</th>\n",
       "      <td>0.0</td>\n",
       "    </tr>\n",
       "    <tr>\n",
       "      <th>437</th>\n",
       "      <td>1.0</td>\n",
       "    </tr>\n",
       "    <tr>\n",
       "      <th>438</th>\n",
       "      <td>1.0</td>\n",
       "    </tr>\n",
       "    <tr>\n",
       "      <th>439</th>\n",
       "      <td>1.0</td>\n",
       "    </tr>\n",
       "    <tr>\n",
       "      <th>440</th>\n",
       "      <td>1.0</td>\n",
       "    </tr>\n",
       "  </tbody>\n",
       "</table>\n",
       "<p>441 rows × 1 columns</p>\n",
       "</div>"
      ],
      "text/plain": [
       "     binary_life_expectancy\n",
       "0                       0.0\n",
       "1                       1.0\n",
       "2                       0.0\n",
       "3                       1.0\n",
       "4                       0.0\n",
       "..                      ...\n",
       "436                     0.0\n",
       "437                     1.0\n",
       "438                     1.0\n",
       "439                     1.0\n",
       "440                     1.0\n",
       "\n",
       "[441 rows x 1 columns]"
      ]
     },
     "execution_count": 354,
     "metadata": {},
     "output_type": "execute_result"
    }
   ],
   "source": [
    "y1.drop('Life expectancy',axis=1)"
   ]
  },
  {
   "cell_type": "code",
   "execution_count": 356,
   "id": "967d2b49",
   "metadata": {},
   "outputs": [
    {
     "data": {
      "text/html": [
       "<div>\n",
       "<style scoped>\n",
       "    .dataframe tbody tr th:only-of-type {\n",
       "        vertical-align: middle;\n",
       "    }\n",
       "\n",
       "    .dataframe tbody tr th {\n",
       "        vertical-align: top;\n",
       "    }\n",
       "\n",
       "    .dataframe thead th {\n",
       "        text-align: right;\n",
       "    }\n",
       "</style>\n",
       "<table border=\"1\" class=\"dataframe\">\n",
       "  <thead>\n",
       "    <tr style=\"text-align: right;\">\n",
       "      <th></th>\n",
       "      <th>Status</th>\n",
       "      <th>Adult Mortality</th>\n",
       "      <th>BMI</th>\n",
       "      <th>HIV/AIDS</th>\n",
       "      <th>Diphtheria</th>\n",
       "      <th>Polio</th>\n",
       "      <th>GDP</th>\n",
       "      <th>Income composition of resources</th>\n",
       "      <th>Schooling</th>\n",
       "    </tr>\n",
       "  </thead>\n",
       "  <tbody>\n",
       "    <tr>\n",
       "      <th>0</th>\n",
       "      <td>0</td>\n",
       "      <td>253.0</td>\n",
       "      <td>13.5</td>\n",
       "      <td>1.7</td>\n",
       "      <td>85.0</td>\n",
       "      <td>86.0</td>\n",
       "      <td>48.615184</td>\n",
       "      <td>0.458</td>\n",
       "      <td>9.7</td>\n",
       "    </tr>\n",
       "    <tr>\n",
       "      <th>1</th>\n",
       "      <td>0</td>\n",
       "      <td>191.0</td>\n",
       "      <td>19.7</td>\n",
       "      <td>0.1</td>\n",
       "      <td>72.0</td>\n",
       "      <td>78.0</td>\n",
       "      <td>1586.254000</td>\n",
       "      <td>0.632</td>\n",
       "      <td>10.9</td>\n",
       "    </tr>\n",
       "    <tr>\n",
       "      <th>2</th>\n",
       "      <td>0</td>\n",
       "      <td>449.0</td>\n",
       "      <td>46.4</td>\n",
       "      <td>19.0</td>\n",
       "      <td>76.0</td>\n",
       "      <td>75.0</td>\n",
       "      <td>5888.628400</td>\n",
       "      <td>0.622</td>\n",
       "      <td>12.8</td>\n",
       "    </tr>\n",
       "    <tr>\n",
       "      <th>3</th>\n",
       "      <td>0</td>\n",
       "      <td>125.0</td>\n",
       "      <td>48.8</td>\n",
       "      <td>0.1</td>\n",
       "      <td>87.0</td>\n",
       "      <td>91.0</td>\n",
       "      <td>7189.691229</td>\n",
       "      <td>0.741</td>\n",
       "      <td>11.7</td>\n",
       "    </tr>\n",
       "    <tr>\n",
       "      <th>4</th>\n",
       "      <td>0</td>\n",
       "      <td>252.0</td>\n",
       "      <td>17.3</td>\n",
       "      <td>0.9</td>\n",
       "      <td>7.0</td>\n",
       "      <td>75.0</td>\n",
       "      <td>348.151511</td>\n",
       "      <td>0.312</td>\n",
       "      <td>4.5</td>\n",
       "    </tr>\n",
       "    <tr>\n",
       "      <th>...</th>\n",
       "      <td>...</td>\n",
       "      <td>...</td>\n",
       "      <td>...</td>\n",
       "      <td>...</td>\n",
       "      <td>...</td>\n",
       "      <td>...</td>\n",
       "      <td>...</td>\n",
       "      <td>...</td>\n",
       "      <td>...</td>\n",
       "    </tr>\n",
       "    <tr>\n",
       "      <th>436</th>\n",
       "      <td>0</td>\n",
       "      <td>271.0</td>\n",
       "      <td>21.3</td>\n",
       "      <td>1.5</td>\n",
       "      <td>66.0</td>\n",
       "      <td>72.0</td>\n",
       "      <td>835.889980</td>\n",
       "      <td>0.404</td>\n",
       "      <td>7.5</td>\n",
       "    </tr>\n",
       "    <tr>\n",
       "      <th>437</th>\n",
       "      <td>0</td>\n",
       "      <td>178.0</td>\n",
       "      <td>56.3</td>\n",
       "      <td>0.9</td>\n",
       "      <td>84.0</td>\n",
       "      <td>84.0</td>\n",
       "      <td>9272.413453</td>\n",
       "      <td>0.708</td>\n",
       "      <td>12.7</td>\n",
       "    </tr>\n",
       "    <tr>\n",
       "      <th>438</th>\n",
       "      <td>0</td>\n",
       "      <td>74.0</td>\n",
       "      <td>58.0</td>\n",
       "      <td>0.1</td>\n",
       "      <td>99.0</td>\n",
       "      <td>99.0</td>\n",
       "      <td>3954.227830</td>\n",
       "      <td>0.762</td>\n",
       "      <td>14.2</td>\n",
       "    </tr>\n",
       "    <tr>\n",
       "      <th>439</th>\n",
       "      <td>0</td>\n",
       "      <td>148.0</td>\n",
       "      <td>32.8</td>\n",
       "      <td>0.1</td>\n",
       "      <td>97.0</td>\n",
       "      <td>98.0</td>\n",
       "      <td>1153.938220</td>\n",
       "      <td>0.769</td>\n",
       "      <td>14.7</td>\n",
       "    </tr>\n",
       "    <tr>\n",
       "      <th>440</th>\n",
       "      <td>1</td>\n",
       "      <td>76.0</td>\n",
       "      <td>58.8</td>\n",
       "      <td>0.1</td>\n",
       "      <td>99.0</td>\n",
       "      <td>96.0</td>\n",
       "      <td>13198.669300</td>\n",
       "      <td>0.888</td>\n",
       "      <td>13.5</td>\n",
       "    </tr>\n",
       "  </tbody>\n",
       "</table>\n",
       "<p>441 rows × 9 columns</p>\n",
       "</div>"
      ],
      "text/plain": [
       "     Status  Adult Mortality   BMI  HIV/AIDS  Diphtheria  Polio           GDP  \\\n",
       "0         0            253.0  13.5       1.7        85.0   86.0     48.615184   \n",
       "1         0            191.0  19.7       0.1        72.0   78.0   1586.254000   \n",
       "2         0            449.0  46.4      19.0        76.0   75.0   5888.628400   \n",
       "3         0            125.0  48.8       0.1        87.0   91.0   7189.691229   \n",
       "4         0            252.0  17.3       0.9         7.0   75.0    348.151511   \n",
       "..      ...              ...   ...       ...         ...    ...           ...   \n",
       "436       0            271.0  21.3       1.5        66.0   72.0    835.889980   \n",
       "437       0            178.0  56.3       0.9        84.0   84.0   9272.413453   \n",
       "438       0             74.0  58.0       0.1        99.0   99.0   3954.227830   \n",
       "439       0            148.0  32.8       0.1        97.0   98.0   1153.938220   \n",
       "440       1             76.0  58.8       0.1        99.0   96.0  13198.669300   \n",
       "\n",
       "     Income composition of resources  Schooling  \n",
       "0                              0.458        9.7  \n",
       "1                              0.632       10.9  \n",
       "2                              0.622       12.8  \n",
       "3                              0.741       11.7  \n",
       "4                              0.312        4.5  \n",
       "..                               ...        ...  \n",
       "436                            0.404        7.5  \n",
       "437                            0.708       12.7  \n",
       "438                            0.762       14.2  \n",
       "439                            0.769       14.7  \n",
       "440                            0.888       13.5  \n",
       "\n",
       "[441 rows x 9 columns]"
      ]
     },
     "execution_count": 356,
     "metadata": {},
     "output_type": "execute_result"
    }
   ],
   "source": [
    "x1"
   ]
  },
  {
   "cell_type": "code",
   "execution_count": 357,
   "id": "fb662e1f",
   "metadata": {},
   "outputs": [
    {
     "name": "stdout",
     "output_type": "stream",
     "text": [
      "1.0\n"
     ]
    },
    {
     "ename": "ValueError",
     "evalue": "Expected 2D array, got 1D array instead:\narray=[0. 1. 0. 1. 0. 1. 1. 0. 0. 1. 1. 0. 1. 0. 1. 0. 1. 1. 0. 1. 1. 1. 1. 0.\n 1. 0. 0. 0. 1. 0. 0. 1. 1. 0. 1. 1. 1. 0. 0. 1. 1. 1. 0. 1. 0. 0. 1. 1.\n 1. 0. 1. 1. 1. 1. 0. 1. 1. 1. 0. 0. 1. 0. 0. 1. 1. 0. 1. 1. 1. 0. 1. 1.\n 1. 0. 0. 1. 0. 0. 1. 0. 1. 1. 1. 1. 1. 1. 1. 1. 1. 0. 1. 1. 1. 0. 1. 1.\n 0. 1. 0. 1. 1. 1. 1. 0. 1. 1. 1. 1. 0. 1. 1. 1. 0. 0. 1. 1. 0. 0. 0. 1.\n 1. 1. 1. 0. 1. 0. 0. 1. 1. 1. 0. 1. 0. 1. 1. 0. 0. 0. 1. 1. 1. 1. 1. 1.\n 0. 1. 1. 1. 1. 1. 1. 1. 1. 1. 0. 1. 1. 1. 1. 1. 1. 1. 1. 0. 1. 1. 0. 1.\n 1. 1. 1. 0. 1. 0. 1. 1. 1. 1. 1. 0. 1. 1. 1. 0. 1. 1. 1. 1. 1. 0. 0. 1.\n 1. 1. 0. 1. 1. 1. 0. 1. 1. 1. 1. 1. 1. 0. 0. 1. 0. 1. 1. 1. 0. 0. 1. 1.\n 1. 0. 0. 1. 1. 1. 0. 1. 1. 1. 0. 1. 1. 1. 1. 1. 1. 1. 1. 1. 1. 1. 0. 1.\n 1. 1. 1. 0. 1. 1. 1. 1. 1. 1. 0. 1. 0. 0. 1. 1. 1. 0. 1. 1. 0. 0. 1. 1.\n 1. 1. 0. 1. 1. 1. 0. 1. 1. 0. 0. 0. 1. 1. 1. 1. 1. 1. 1. 0. 1. 1. 0. 1.\n 0. 1. 1. 1. 1. 1. 0. 0. 1. 1. 1. 1. 0. 1. 0. 1. 1. 1. 1. 0. 0. 1. 1. 1.\n 0. 0. 1. 1. 1. 1. 1. 1. 1. 0. 1. 0. 1. 1. 1. 1. 1. 1. 1. 0. 1. 1. 0. 0.\n 0. 1. 0. 0. 1. 1. 1. 0. 1. 1. 0. 1. 1. 0. 1. 0. 0. 1. 1. 1. 1. 1. 0. 1.\n 1. 1. 0. 1. 1. 0. 1. 1. 1. 1. 1. 1. 1. 0. 1. 1. 0. 1. 1. 1. 1. 1. 1. 1.\n 1. 0. 1. 1. 0. 1. 0. 1. 1. 1. 0. 1. 1. 0. 0. 1. 0. 1. 1. 1. 0. 0. 1. 1.\n 0. 1. 0. 0. 1. 0. 0. 1. 1. 1. 1. 1. 1. 1. 0. 1. 1. 1. 1. 1. 1. 0. 0. 1.\n 1. 1. 1. 1. 0. 1. 1. 1. 1.].\nReshape your data either using array.reshape(-1, 1) if your data has a single feature or array.reshape(1, -1) if it contains a single sample.",
     "output_type": "error",
     "traceback": [
      "\u001b[1;31m---------------------------------------------------------------------------\u001b[0m",
      "\u001b[1;31mValueError\u001b[0m                                Traceback (most recent call last)",
      "\u001b[1;32m~\\AppData\\Local\\Temp/ipykernel_5644/2851915326.py\u001b[0m in \u001b[0;36m<module>\u001b[1;34m\u001b[0m\n\u001b[0;32m      3\u001b[0m \u001b[0my_pred\u001b[0m\u001b[1;33m=\u001b[0m\u001b[0mrend\u001b[0m\u001b[1;33m.\u001b[0m\u001b[0mpredict\u001b[0m\u001b[1;33m(\u001b[0m\u001b[0mx1\u001b[0m\u001b[1;33m)\u001b[0m\u001b[1;33m\u001b[0m\u001b[1;33m\u001b[0m\u001b[0m\n\u001b[0;32m      4\u001b[0m \u001b[0mprint\u001b[0m\u001b[1;33m(\u001b[0m\u001b[0mrend\u001b[0m\u001b[1;33m.\u001b[0m\u001b[0mscore\u001b[0m\u001b[1;33m(\u001b[0m\u001b[0mX_train\u001b[0m\u001b[1;33m,\u001b[0m\u001b[0my_train\u001b[0m\u001b[1;33m)\u001b[0m\u001b[1;33m)\u001b[0m\u001b[1;33m\u001b[0m\u001b[1;33m\u001b[0m\u001b[0m\n\u001b[1;32m----> 5\u001b[1;33m \u001b[0mprint\u001b[0m\u001b[1;33m(\u001b[0m\u001b[0mrend\u001b[0m\u001b[1;33m.\u001b[0m\u001b[0mscore\u001b[0m\u001b[1;33m(\u001b[0m\u001b[0my_pred\u001b[0m\u001b[1;33m,\u001b[0m\u001b[0my1\u001b[0m\u001b[1;33m)\u001b[0m\u001b[1;33m)\u001b[0m\u001b[1;33m\u001b[0m\u001b[1;33m\u001b[0m\u001b[0m\n\u001b[0m",
      "\u001b[1;32m~\\anaconda3\\lib\\site-packages\\sklearn\\base.py\u001b[0m in \u001b[0;36mscore\u001b[1;34m(self, X, y, sample_weight)\u001b[0m\n\u001b[0;32m    498\u001b[0m         \"\"\"\n\u001b[0;32m    499\u001b[0m         \u001b[1;32mfrom\u001b[0m \u001b[1;33m.\u001b[0m\u001b[0mmetrics\u001b[0m \u001b[1;32mimport\u001b[0m \u001b[0maccuracy_score\u001b[0m\u001b[1;33m\u001b[0m\u001b[1;33m\u001b[0m\u001b[0m\n\u001b[1;32m--> 500\u001b[1;33m         \u001b[1;32mreturn\u001b[0m \u001b[0maccuracy_score\u001b[0m\u001b[1;33m(\u001b[0m\u001b[0my\u001b[0m\u001b[1;33m,\u001b[0m \u001b[0mself\u001b[0m\u001b[1;33m.\u001b[0m\u001b[0mpredict\u001b[0m\u001b[1;33m(\u001b[0m\u001b[0mX\u001b[0m\u001b[1;33m)\u001b[0m\u001b[1;33m,\u001b[0m \u001b[0msample_weight\u001b[0m\u001b[1;33m=\u001b[0m\u001b[0msample_weight\u001b[0m\u001b[1;33m)\u001b[0m\u001b[1;33m\u001b[0m\u001b[1;33m\u001b[0m\u001b[0m\n\u001b[0m\u001b[0;32m    501\u001b[0m \u001b[1;33m\u001b[0m\u001b[0m\n\u001b[0;32m    502\u001b[0m     \u001b[1;32mdef\u001b[0m \u001b[0m_more_tags\u001b[0m\u001b[1;33m(\u001b[0m\u001b[0mself\u001b[0m\u001b[1;33m)\u001b[0m\u001b[1;33m:\u001b[0m\u001b[1;33m\u001b[0m\u001b[1;33m\u001b[0m\u001b[0m\n",
      "\u001b[1;32m~\\anaconda3\\lib\\site-packages\\sklearn\\ensemble\\_forest.py\u001b[0m in \u001b[0;36mpredict\u001b[1;34m(self, X)\u001b[0m\n\u001b[0;32m    628\u001b[0m             \u001b[0mThe\u001b[0m \u001b[0mpredicted\u001b[0m \u001b[0mclasses\u001b[0m\u001b[1;33m.\u001b[0m\u001b[1;33m\u001b[0m\u001b[1;33m\u001b[0m\u001b[0m\n\u001b[0;32m    629\u001b[0m         \"\"\"\n\u001b[1;32m--> 630\u001b[1;33m         \u001b[0mproba\u001b[0m \u001b[1;33m=\u001b[0m \u001b[0mself\u001b[0m\u001b[1;33m.\u001b[0m\u001b[0mpredict_proba\u001b[0m\u001b[1;33m(\u001b[0m\u001b[0mX\u001b[0m\u001b[1;33m)\u001b[0m\u001b[1;33m\u001b[0m\u001b[1;33m\u001b[0m\u001b[0m\n\u001b[0m\u001b[0;32m    631\u001b[0m \u001b[1;33m\u001b[0m\u001b[0m\n\u001b[0;32m    632\u001b[0m         \u001b[1;32mif\u001b[0m \u001b[0mself\u001b[0m\u001b[1;33m.\u001b[0m\u001b[0mn_outputs_\u001b[0m \u001b[1;33m==\u001b[0m \u001b[1;36m1\u001b[0m\u001b[1;33m:\u001b[0m\u001b[1;33m\u001b[0m\u001b[1;33m\u001b[0m\u001b[0m\n",
      "\u001b[1;32m~\\anaconda3\\lib\\site-packages\\sklearn\\ensemble\\_forest.py\u001b[0m in \u001b[0;36mpredict_proba\u001b[1;34m(self, X)\u001b[0m\n\u001b[0;32m    672\u001b[0m         \u001b[0mcheck_is_fitted\u001b[0m\u001b[1;33m(\u001b[0m\u001b[0mself\u001b[0m\u001b[1;33m)\u001b[0m\u001b[1;33m\u001b[0m\u001b[1;33m\u001b[0m\u001b[0m\n\u001b[0;32m    673\u001b[0m         \u001b[1;31m# Check data\u001b[0m\u001b[1;33m\u001b[0m\u001b[1;33m\u001b[0m\u001b[0m\n\u001b[1;32m--> 674\u001b[1;33m         \u001b[0mX\u001b[0m \u001b[1;33m=\u001b[0m \u001b[0mself\u001b[0m\u001b[1;33m.\u001b[0m\u001b[0m_validate_X_predict\u001b[0m\u001b[1;33m(\u001b[0m\u001b[0mX\u001b[0m\u001b[1;33m)\u001b[0m\u001b[1;33m\u001b[0m\u001b[1;33m\u001b[0m\u001b[0m\n\u001b[0m\u001b[0;32m    675\u001b[0m \u001b[1;33m\u001b[0m\u001b[0m\n\u001b[0;32m    676\u001b[0m         \u001b[1;31m# Assign chunk of trees to jobs\u001b[0m\u001b[1;33m\u001b[0m\u001b[1;33m\u001b[0m\u001b[0m\n",
      "\u001b[1;32m~\\anaconda3\\lib\\site-packages\\sklearn\\ensemble\\_forest.py\u001b[0m in \u001b[0;36m_validate_X_predict\u001b[1;34m(self, X)\u001b[0m\n\u001b[0;32m    420\u001b[0m         \u001b[0mcheck_is_fitted\u001b[0m\u001b[1;33m(\u001b[0m\u001b[0mself\u001b[0m\u001b[1;33m)\u001b[0m\u001b[1;33m\u001b[0m\u001b[1;33m\u001b[0m\u001b[0m\n\u001b[0;32m    421\u001b[0m \u001b[1;33m\u001b[0m\u001b[0m\n\u001b[1;32m--> 422\u001b[1;33m         \u001b[1;32mreturn\u001b[0m \u001b[0mself\u001b[0m\u001b[1;33m.\u001b[0m\u001b[0mestimators_\u001b[0m\u001b[1;33m[\u001b[0m\u001b[1;36m0\u001b[0m\u001b[1;33m]\u001b[0m\u001b[1;33m.\u001b[0m\u001b[0m_validate_X_predict\u001b[0m\u001b[1;33m(\u001b[0m\u001b[0mX\u001b[0m\u001b[1;33m,\u001b[0m \u001b[0mcheck_input\u001b[0m\u001b[1;33m=\u001b[0m\u001b[1;32mTrue\u001b[0m\u001b[1;33m)\u001b[0m\u001b[1;33m\u001b[0m\u001b[1;33m\u001b[0m\u001b[0m\n\u001b[0m\u001b[0;32m    423\u001b[0m \u001b[1;33m\u001b[0m\u001b[0m\n\u001b[0;32m    424\u001b[0m     \u001b[1;33m@\u001b[0m\u001b[0mproperty\u001b[0m\u001b[1;33m\u001b[0m\u001b[1;33m\u001b[0m\u001b[0m\n",
      "\u001b[1;32m~\\anaconda3\\lib\\site-packages\\sklearn\\tree\\_classes.py\u001b[0m in \u001b[0;36m_validate_X_predict\u001b[1;34m(self, X, check_input)\u001b[0m\n\u001b[0;32m    405\u001b[0m         \u001b[1;34m\"\"\"Validate the training data on predict (probabilities).\"\"\"\u001b[0m\u001b[1;33m\u001b[0m\u001b[1;33m\u001b[0m\u001b[0m\n\u001b[0;32m    406\u001b[0m         \u001b[1;32mif\u001b[0m \u001b[0mcheck_input\u001b[0m\u001b[1;33m:\u001b[0m\u001b[1;33m\u001b[0m\u001b[1;33m\u001b[0m\u001b[0m\n\u001b[1;32m--> 407\u001b[1;33m             X = self._validate_data(X, dtype=DTYPE, accept_sparse=\"csr\",\n\u001b[0m\u001b[0;32m    408\u001b[0m                                     reset=False)\n\u001b[0;32m    409\u001b[0m             if issparse(X) and (X.indices.dtype != np.intc or\n",
      "\u001b[1;32m~\\anaconda3\\lib\\site-packages\\sklearn\\base.py\u001b[0m in \u001b[0;36m_validate_data\u001b[1;34m(self, X, y, reset, validate_separately, **check_params)\u001b[0m\n\u001b[0;32m    419\u001b[0m             \u001b[0mout\u001b[0m \u001b[1;33m=\u001b[0m \u001b[0mX\u001b[0m\u001b[1;33m\u001b[0m\u001b[1;33m\u001b[0m\u001b[0m\n\u001b[0;32m    420\u001b[0m         \u001b[1;32melif\u001b[0m \u001b[0misinstance\u001b[0m\u001b[1;33m(\u001b[0m\u001b[0my\u001b[0m\u001b[1;33m,\u001b[0m \u001b[0mstr\u001b[0m\u001b[1;33m)\u001b[0m \u001b[1;32mand\u001b[0m \u001b[0my\u001b[0m \u001b[1;33m==\u001b[0m \u001b[1;34m'no_validation'\u001b[0m\u001b[1;33m:\u001b[0m\u001b[1;33m\u001b[0m\u001b[1;33m\u001b[0m\u001b[0m\n\u001b[1;32m--> 421\u001b[1;33m             \u001b[0mX\u001b[0m \u001b[1;33m=\u001b[0m \u001b[0mcheck_array\u001b[0m\u001b[1;33m(\u001b[0m\u001b[0mX\u001b[0m\u001b[1;33m,\u001b[0m \u001b[1;33m**\u001b[0m\u001b[0mcheck_params\u001b[0m\u001b[1;33m)\u001b[0m\u001b[1;33m\u001b[0m\u001b[1;33m\u001b[0m\u001b[0m\n\u001b[0m\u001b[0;32m    422\u001b[0m             \u001b[0mout\u001b[0m \u001b[1;33m=\u001b[0m \u001b[0mX\u001b[0m\u001b[1;33m\u001b[0m\u001b[1;33m\u001b[0m\u001b[0m\n\u001b[0;32m    423\u001b[0m         \u001b[1;32melse\u001b[0m\u001b[1;33m:\u001b[0m\u001b[1;33m\u001b[0m\u001b[1;33m\u001b[0m\u001b[0m\n",
      "\u001b[1;32m~\\anaconda3\\lib\\site-packages\\sklearn\\utils\\validation.py\u001b[0m in \u001b[0;36minner_f\u001b[1;34m(*args, **kwargs)\u001b[0m\n\u001b[0;32m     61\u001b[0m             \u001b[0mextra_args\u001b[0m \u001b[1;33m=\u001b[0m \u001b[0mlen\u001b[0m\u001b[1;33m(\u001b[0m\u001b[0margs\u001b[0m\u001b[1;33m)\u001b[0m \u001b[1;33m-\u001b[0m \u001b[0mlen\u001b[0m\u001b[1;33m(\u001b[0m\u001b[0mall_args\u001b[0m\u001b[1;33m)\u001b[0m\u001b[1;33m\u001b[0m\u001b[1;33m\u001b[0m\u001b[0m\n\u001b[0;32m     62\u001b[0m             \u001b[1;32mif\u001b[0m \u001b[0mextra_args\u001b[0m \u001b[1;33m<=\u001b[0m \u001b[1;36m0\u001b[0m\u001b[1;33m:\u001b[0m\u001b[1;33m\u001b[0m\u001b[1;33m\u001b[0m\u001b[0m\n\u001b[1;32m---> 63\u001b[1;33m                 \u001b[1;32mreturn\u001b[0m \u001b[0mf\u001b[0m\u001b[1;33m(\u001b[0m\u001b[1;33m*\u001b[0m\u001b[0margs\u001b[0m\u001b[1;33m,\u001b[0m \u001b[1;33m**\u001b[0m\u001b[0mkwargs\u001b[0m\u001b[1;33m)\u001b[0m\u001b[1;33m\u001b[0m\u001b[1;33m\u001b[0m\u001b[0m\n\u001b[0m\u001b[0;32m     64\u001b[0m \u001b[1;33m\u001b[0m\u001b[0m\n\u001b[0;32m     65\u001b[0m             \u001b[1;31m# extra_args > 0\u001b[0m\u001b[1;33m\u001b[0m\u001b[1;33m\u001b[0m\u001b[0m\n",
      "\u001b[1;32m~\\anaconda3\\lib\\site-packages\\sklearn\\utils\\validation.py\u001b[0m in \u001b[0;36mcheck_array\u001b[1;34m(array, accept_sparse, accept_large_sparse, dtype, order, copy, force_all_finite, ensure_2d, allow_nd, ensure_min_samples, ensure_min_features, estimator)\u001b[0m\n\u001b[0;32m    692\u001b[0m             \u001b[1;31m# If input is 1D raise error\u001b[0m\u001b[1;33m\u001b[0m\u001b[1;33m\u001b[0m\u001b[0m\n\u001b[0;32m    693\u001b[0m             \u001b[1;32mif\u001b[0m \u001b[0marray\u001b[0m\u001b[1;33m.\u001b[0m\u001b[0mndim\u001b[0m \u001b[1;33m==\u001b[0m \u001b[1;36m1\u001b[0m\u001b[1;33m:\u001b[0m\u001b[1;33m\u001b[0m\u001b[1;33m\u001b[0m\u001b[0m\n\u001b[1;32m--> 694\u001b[1;33m                 raise ValueError(\n\u001b[0m\u001b[0;32m    695\u001b[0m                     \u001b[1;34m\"Expected 2D array, got 1D array instead:\\narray={}.\\n\"\u001b[0m\u001b[1;33m\u001b[0m\u001b[1;33m\u001b[0m\u001b[0m\n\u001b[0;32m    696\u001b[0m                     \u001b[1;34m\"Reshape your data either using array.reshape(-1, 1) if \"\u001b[0m\u001b[1;33m\u001b[0m\u001b[1;33m\u001b[0m\u001b[0m\n",
      "\u001b[1;31mValueError\u001b[0m: Expected 2D array, got 1D array instead:\narray=[0. 1. 0. 1. 0. 1. 1. 0. 0. 1. 1. 0. 1. 0. 1. 0. 1. 1. 0. 1. 1. 1. 1. 0.\n 1. 0. 0. 0. 1. 0. 0. 1. 1. 0. 1. 1. 1. 0. 0. 1. 1. 1. 0. 1. 0. 0. 1. 1.\n 1. 0. 1. 1. 1. 1. 0. 1. 1. 1. 0. 0. 1. 0. 0. 1. 1. 0. 1. 1. 1. 0. 1. 1.\n 1. 0. 0. 1. 0. 0. 1. 0. 1. 1. 1. 1. 1. 1. 1. 1. 1. 0. 1. 1. 1. 0. 1. 1.\n 0. 1. 0. 1. 1. 1. 1. 0. 1. 1. 1. 1. 0. 1. 1. 1. 0. 0. 1. 1. 0. 0. 0. 1.\n 1. 1. 1. 0. 1. 0. 0. 1. 1. 1. 0. 1. 0. 1. 1. 0. 0. 0. 1. 1. 1. 1. 1. 1.\n 0. 1. 1. 1. 1. 1. 1. 1. 1. 1. 0. 1. 1. 1. 1. 1. 1. 1. 1. 0. 1. 1. 0. 1.\n 1. 1. 1. 0. 1. 0. 1. 1. 1. 1. 1. 0. 1. 1. 1. 0. 1. 1. 1. 1. 1. 0. 0. 1.\n 1. 1. 0. 1. 1. 1. 0. 1. 1. 1. 1. 1. 1. 0. 0. 1. 0. 1. 1. 1. 0. 0. 1. 1.\n 1. 0. 0. 1. 1. 1. 0. 1. 1. 1. 0. 1. 1. 1. 1. 1. 1. 1. 1. 1. 1. 1. 0. 1.\n 1. 1. 1. 0. 1. 1. 1. 1. 1. 1. 0. 1. 0. 0. 1. 1. 1. 0. 1. 1. 0. 0. 1. 1.\n 1. 1. 0. 1. 1. 1. 0. 1. 1. 0. 0. 0. 1. 1. 1. 1. 1. 1. 1. 0. 1. 1. 0. 1.\n 0. 1. 1. 1. 1. 1. 0. 0. 1. 1. 1. 1. 0. 1. 0. 1. 1. 1. 1. 0. 0. 1. 1. 1.\n 0. 0. 1. 1. 1. 1. 1. 1. 1. 0. 1. 0. 1. 1. 1. 1. 1. 1. 1. 0. 1. 1. 0. 0.\n 0. 1. 0. 0. 1. 1. 1. 0. 1. 1. 0. 1. 1. 0. 1. 0. 0. 1. 1. 1. 1. 1. 0. 1.\n 1. 1. 0. 1. 1. 0. 1. 1. 1. 1. 1. 1. 1. 0. 1. 1. 0. 1. 1. 1. 1. 1. 1. 1.\n 1. 0. 1. 1. 0. 1. 0. 1. 1. 1. 0. 1. 1. 0. 0. 1. 0. 1. 1. 1. 0. 0. 1. 1.\n 0. 1. 0. 0. 1. 0. 0. 1. 1. 1. 1. 1. 1. 1. 0. 1. 1. 1. 1. 1. 1. 0. 0. 1.\n 1. 1. 1. 1. 0. 1. 1. 1. 1.].\nReshape your data either using array.reshape(-1, 1) if your data has a single feature or array.reshape(1, -1) if it contains a single sample."
     ]
    }
   ],
   "source": [
    "rend=RandomForestClassifier()\n",
    "rend.fit(X_train,y_train)\n",
    "y_pred=rend.predict(x1)\n",
    "print(rend.score(X_train,y_train))\n",
    "print(rend.score(y_pred,y1))\n"
   ]
  },
  {
   "cell_type": "code",
   "execution_count": null,
   "id": "e4815f1c",
   "metadata": {},
   "outputs": [],
   "source": []
  }
 ],
 "metadata": {
  "kernelspec": {
   "display_name": "Python 3 (ipykernel)",
   "language": "python",
   "name": "python3"
  },
  "language_info": {
   "codemirror_mode": {
    "name": "ipython",
    "version": 3
   },
   "file_extension": ".py",
   "mimetype": "text/x-python",
   "name": "python",
   "nbconvert_exporter": "python",
   "pygments_lexer": "ipython3",
   "version": "3.9.7"
  }
 },
 "nbformat": 4,
 "nbformat_minor": 5
}
